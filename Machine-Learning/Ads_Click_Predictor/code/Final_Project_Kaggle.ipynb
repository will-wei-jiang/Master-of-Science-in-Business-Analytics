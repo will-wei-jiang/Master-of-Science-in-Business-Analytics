{
 "cells": [
  {
   "cell_type": "code",
   "execution_count": 26,
   "id": "9b4f09ff",
   "metadata": {
    "ExecuteTime": {
     "end_time": "2021-12-18T15:01:12.911803Z",
     "start_time": "2021-12-18T15:01:12.899845Z"
    }
   },
   "outputs": [],
   "source": [
    "import pandas as pd\n",
    "import numpy as np\n",
    "import seaborn as sns\n",
    "import prince\n",
    "import pprint\n",
    "from datetime import date\n",
    "import calendar\n",
    "import warnings\n",
    "warnings.filterwarnings(\"ignore\") #ignore warnings"
   ]
  },
  {
   "cell_type": "code",
   "execution_count": 27,
   "id": "a3869de9",
   "metadata": {
    "ExecuteTime": {
     "end_time": "2021-12-18T15:01:18.984837Z",
     "start_time": "2021-12-18T15:01:15.588090Z"
    }
   },
   "outputs": [],
   "source": [
    "train = pd.read_csv('C:/Users/Will Jiang/Desktop/Emory Desktop/ML/Final Project/Project Data/Train000.csv')\n",
    "test = pd.read_csv('C:/Users/Will Jiang/Desktop/Emory Desktop/ML/Final Project/Project Data/Train001.csv')"
   ]
  },
  {
   "cell_type": "code",
   "execution_count": 28,
   "id": "2b875d79",
   "metadata": {
    "ExecuteTime": {
     "end_time": "2021-12-18T15:01:20.575565Z",
     "start_time": "2021-12-18T15:01:20.562236Z"
    }
   },
   "outputs": [],
   "source": [
    "train.columns = ['id', 'click', 'hour', 'C1', 'banner_pos', 'site_id', 'site_domain',\n",
    "       'site_category', 'app_id', 'app_domain', 'app_category', 'device_id',\n",
    "       'device_ip', 'device_model', 'device_type', 'device_conn_type', 'C14',\n",
    "       'C15', 'C16', 'C17', 'C18', 'C19', 'C20', 'C21']\n",
    "test.columns = ['id', 'click', 'hour', 'C1', 'banner_pos', 'site_id', 'site_domain',\n",
    "       'site_category', 'app_id', 'app_domain', 'app_category', 'device_id',\n",
    "       'device_ip', 'device_model', 'device_type', 'device_conn_type', 'C14',\n",
    "       'C15', 'C16', 'C17', 'C18', 'C19', 'C20', 'C21']"
   ]
  },
  {
   "cell_type": "code",
   "execution_count": 32,
   "id": "0bded56b",
   "metadata": {
    "ExecuteTime": {
     "end_time": "2021-12-18T15:02:26.523928Z",
     "start_time": "2021-12-18T15:02:26.084688Z"
    }
   },
   "outputs": [],
   "source": [
    "df = pd.concat([train, test]).drop(['id'], axis=0)"
   ]
  },
  {
   "cell_type": "code",
   "execution_count": 33,
   "id": "555970e5",
   "metadata": {
    "ExecuteTime": {
     "end_time": "2021-12-18T15:02:45.372179Z",
     "start_time": "2021-12-18T15:02:41.924001Z"
    }
   },
   "outputs": [],
   "source": [
    "# 建立一個將hour資料轉換為日期格式的function\n",
    "def get_date(hour):\n",
    "    y = '20'+str(hour)[:2]\n",
    "    m = str(hour)[2:4]\n",
    "    d = str(hour)[4:6]\n",
    "    return y+'-'+m+'-'+d\n",
    "\n",
    "# 建立weekday欄位，將hour轉換後填入\n",
    "df['weekday'] = pd.to_datetime(df.hour.apply(get_date)).dt.dayofweek.astype(str)\n",
    "\n",
    "# 建立一個將hour資料轉換為時段的function\n",
    "def tran_hour(x):\n",
    "    x = x % 100\n",
    "    while x in [23,0]:\n",
    "        return '23-01'\n",
    "    while x in [1,2]:\n",
    "        return '01-03'\n",
    "    while x in [3,4]:\n",
    "        return '03-05'\n",
    "    while x in [5,6]:\n",
    "        return '05-07'\n",
    "    while x in [7,8]:\n",
    "        return '07-09'\n",
    "    while x in [9,10]:\n",
    "        return '09-11'\n",
    "    while x in [11,12]:\n",
    "        return '11-13'\n",
    "    while x in [13,14]:\n",
    "        return '13-15'\n",
    "    while x in [15,16]:\n",
    "        return '15-17'\n",
    "    while x in [17,18]:\n",
    "        return '17-19'\n",
    "    while x in [19,20]:\n",
    "        return '19-21'\n",
    "    while x in [21,22]:\n",
    "        return '21-23'\n",
    "\n",
    "# 將hour轉換為時段\n",
    "df['hour'] = df.hour.apply(tran_hour)"
   ]
  },
  {
   "cell_type": "code",
   "execution_count": 34,
   "id": "68df3dc6",
   "metadata": {
    "ExecuteTime": {
     "end_time": "2021-12-18T15:02:52.612443Z",
     "start_time": "2021-12-18T15:02:52.603473Z"
    }
   },
   "outputs": [
    {
     "name": "stdout",
     "output_type": "stream",
     "text": [
      "<class 'pandas.core.frame.DataFrame'>\n",
      "Int64Index: 1999998 entries, 0 to 999998\n",
      "Data columns (total 24 columns):\n",
      " #   Column            Dtype \n",
      "---  ------            ----- \n",
      " 0   click             int64 \n",
      " 1   hour              object\n",
      " 2   C1                int64 \n",
      " 3   banner_pos        int64 \n",
      " 4   site_id           object\n",
      " 5   site_domain       object\n",
      " 6   site_category     object\n",
      " 7   app_id            object\n",
      " 8   app_domain        object\n",
      " 9   app_category      object\n",
      " 10  device_id         object\n",
      " 11  device_ip         object\n",
      " 12  device_model      object\n",
      " 13  device_type       int64 \n",
      " 14  device_conn_type  int64 \n",
      " 15  C14               int64 \n",
      " 16  C15               int64 \n",
      " 17  C16               int64 \n",
      " 18  C17               int64 \n",
      " 19  C18               int64 \n",
      " 20  C19               int64 \n",
      " 21  C20               int64 \n",
      " 22  C21               int64 \n",
      " 23  weekday           object\n",
      "dtypes: int64(13), object(11)\n",
      "memory usage: 381.5+ MB\n"
     ]
    }
   ],
   "source": [
    "# 確認資料型別\n",
    "df.info()"
   ]
  },
  {
   "cell_type": "code",
   "execution_count": 35,
   "id": "c845c1c1",
   "metadata": {
    "ExecuteTime": {
     "end_time": "2021-12-18T15:03:26.079247Z",
     "start_time": "2021-12-18T15:03:01.507859Z"
    }
   },
   "outputs": [
    {
     "name": "stdout",
     "output_type": "stream",
     "text": [
      "C1 : 7\n",
      "banner_pos : 7\n",
      "site_id : 3012\n",
      "site_domain : 3463\n",
      "site_category : 21\n",
      "app_id : 3960\n",
      "app_domain : 259\n",
      "app_category : 29\n",
      "device_id : 280711\n",
      "device_ip : 944568\n",
      "device_model : 5782\n",
      "device_type : 5\n",
      "device_conn_type : 4\n",
      "C14 : 2253\n",
      "C15 : 8\n",
      "C16 : 9\n",
      "C17 : 403\n",
      "C18 : 4\n",
      "C19 : 65\n",
      "C20 : 166\n",
      "C21 : 55\n"
     ]
    }
   ],
   "source": [
    "len_of_feature_count = []\n",
    "for i in df.columns[2:23].tolist():\n",
    "    print(i, ':', len(df[i].astype(str).value_counts()))\n",
    "    len_of_feature_count.append(len(df[i].astype(str).value_counts()))"
   ]
  },
  {
   "cell_type": "code",
   "execution_count": 36,
   "id": "6ca78fb8",
   "metadata": {
    "ExecuteTime": {
     "end_time": "2021-12-18T15:03:42.845080Z",
     "start_time": "2021-12-18T15:03:33.108430Z"
    }
   },
   "outputs": [],
   "source": [
    "# 建立一個list，將需要轉換行別的特徵名稱存入該list\n",
    "need_tran_feature = df.columns[2:4].tolist() + df.columns[13:23].tolist()\n",
    "\n",
    "# 依序將變數轉換為object型別\n",
    "for i in need_tran_feature:\n",
    "    df[i] = df[i].astype(str)"
   ]
  },
  {
   "cell_type": "code",
   "execution_count": 37,
   "id": "8e078542",
   "metadata": {
    "ExecuteTime": {
     "end_time": "2021-12-18T15:03:48.879552Z",
     "start_time": "2021-12-18T15:03:48.867592Z"
    }
   },
   "outputs": [
    {
     "data": {
      "text/plain": [
       "['site_id',\n",
       " 'site_domain',\n",
       " 'site_category',\n",
       " 'app_id',\n",
       " 'app_domain',\n",
       " 'app_category',\n",
       " 'device_id',\n",
       " 'device_ip',\n",
       " 'device_model',\n",
       " 'C14',\n",
       " 'C17',\n",
       " 'C19',\n",
       " 'C20',\n",
       " 'C21']"
      ]
     },
     "execution_count": 37,
     "metadata": {},
     "output_type": "execute_result"
    }
   ],
   "source": [
    "obj_features = []\n",
    "\n",
    "for i in range(len(len_of_feature_count)):\n",
    "    if len_of_feature_count[i] > 10:\n",
    "        obj_features.append(df.columns[2:23].tolist()[i])\n",
    "obj_features"
   ]
  },
  {
   "cell_type": "code",
   "execution_count": 38,
   "id": "50e17670",
   "metadata": {
    "ExecuteTime": {
     "end_time": "2021-12-18T15:03:57.012452Z",
     "start_time": "2021-12-18T15:03:55.947931Z"
    }
   },
   "outputs": [
    {
     "data": {
      "text/html": [
       "<div>\n",
       "<style scoped>\n",
       "    .dataframe tbody tr th:only-of-type {\n",
       "        vertical-align: middle;\n",
       "    }\n",
       "\n",
       "    .dataframe tbody tr th {\n",
       "        vertical-align: top;\n",
       "    }\n",
       "\n",
       "    .dataframe thead th {\n",
       "        text-align: right;\n",
       "    }\n",
       "</style>\n",
       "<table border=\"1\" class=\"dataframe\">\n",
       "  <thead>\n",
       "    <tr style=\"text-align: right;\">\n",
       "      <th></th>\n",
       "      <th>click</th>\n",
       "    </tr>\n",
       "  </thead>\n",
       "  <tbody>\n",
       "    <tr>\n",
       "      <th>count</th>\n",
       "      <td>1.999998e+06</td>\n",
       "    </tr>\n",
       "    <tr>\n",
       "      <th>mean</th>\n",
       "      <td>1.701407e-01</td>\n",
       "    </tr>\n",
       "    <tr>\n",
       "      <th>std</th>\n",
       "      <td>3.757564e-01</td>\n",
       "    </tr>\n",
       "    <tr>\n",
       "      <th>min</th>\n",
       "      <td>0.000000e+00</td>\n",
       "    </tr>\n",
       "    <tr>\n",
       "      <th>25%</th>\n",
       "      <td>0.000000e+00</td>\n",
       "    </tr>\n",
       "    <tr>\n",
       "      <th>50%</th>\n",
       "      <td>0.000000e+00</td>\n",
       "    </tr>\n",
       "    <tr>\n",
       "      <th>75%</th>\n",
       "      <td>0.000000e+00</td>\n",
       "    </tr>\n",
       "    <tr>\n",
       "      <th>max</th>\n",
       "      <td>1.000000e+00</td>\n",
       "    </tr>\n",
       "  </tbody>\n",
       "</table>\n",
       "</div>"
      ],
      "text/plain": [
       "              click\n",
       "count  1.999998e+06\n",
       "mean   1.701407e-01\n",
       "std    3.757564e-01\n",
       "min    0.000000e+00\n",
       "25%    0.000000e+00\n",
       "50%    0.000000e+00\n",
       "75%    0.000000e+00\n",
       "max    1.000000e+00"
      ]
     },
     "execution_count": 38,
     "metadata": {},
     "output_type": "execute_result"
    }
   ],
   "source": [
    "df_describe = df.describe()\n",
    "df_describe"
   ]
  },
  {
   "cell_type": "code",
   "execution_count": 40,
   "id": "19a80c3e",
   "metadata": {
    "ExecuteTime": {
     "end_time": "2021-12-18T15:08:45.579755Z",
     "start_time": "2021-12-18T15:08:45.571702Z"
    }
   },
   "outputs": [],
   "source": [
    "def obj_clean(X):\n",
    "    # 定義一個縮減資料值的function，每次處理一個特徵向量\n",
    "\n",
    "    def get_click_rate(x):\n",
    "        # 定義一個取得點擊率的function\n",
    "        temp = train[train[X.columns[0]] == x]\n",
    "        res = round((temp.click.sum() / temp.click.count()),3)\n",
    "        return res\n",
    "\n",
    "    def get_type(V, str):\n",
    "        # 定義一個取得新資料值之級距判斷的function\n",
    "        very_high = df_describe.loc['mean','click'] + 0.04\n",
    "        higher = df_describe.loc['mean','click'] + 0.02\n",
    "        lower = df_describe.loc['mean','click'] - 0.02\n",
    "        very_low = df_describe.loc['mean','click'] - 0.04\n",
    "\n",
    "        vh_type = V[V[str] > very_high].index.tolist()\n",
    "        hr_type = V[(V[str] > higher) & (V[str] < very_high)].index.tolist()\n",
    "        vl_type = V[V[str] < very_low].index.tolist()\n",
    "        lr_type = V[(V[str] < lower) & (V[str] > very_low)].index.tolist()\n",
    "\n",
    "        return vh_type, hr_type, vl_type, lr_type\n",
    "\n",
    "    def clean_function(x):\n",
    "        # 定義一個依據級距轉換資料值的function\n",
    "        # 判斷之依據為：總平均點擊率的正負  4% 為very_high(low), 總平均點擊率的正負 2％為higher (lower)\n",
    "        while x in type_[0]:\n",
    "            return 'very_high'\n",
    "        while x in type_[1]:\n",
    "            return 'higher'\n",
    "        while x in type_[2]:\n",
    "            return 'very_low'\n",
    "        while x in type_[3]:\n",
    "            return 'lower'\n",
    "        return 'mid'\n",
    "        \n",
    "    print('Run: ', X.columns[0])\n",
    "    fq = X[X.columns[0]].value_counts()\n",
    "    # 建立一個暫存的資料值頻率列表\n",
    "    # 理論上，將全部的資料值都進行分類轉換，可得到最佳效果；實務上為了執行時間效能，將捨去頻率低於排名前1000 row以後的資料值。\n",
    "    if len(fq) > 1000:\n",
    "        fq = fq[:1000]\n",
    "\n",
    "    # 將頻率列表轉換為dataframe，並將index填入一個新的欄位。\n",
    "    fq = pd.DataFrame(fq)\n",
    "    fq['new_column'] = fq.index    \n",
    "\n",
    "    # 使用index叫用get_click_rate function，取得每個資料值的點擊率\n",
    "    fq['click_rate'] = fq.new_column.apply(get_click_rate)\n",
    "\n",
    "    # 叫用 get_type function取得分類級距，並儲存為一個list，以便提供給下一個clean_function使用\n",
    "    type_ = get_type(fq, 'click_rate')\n",
    "\n",
    "    # 叫用 clean_funtion funtion，回傳轉換後的特徵向量\n",
    "    return X[X.columns[0]].apply(clean_function)"
   ]
  },
  {
   "cell_type": "code",
   "execution_count": 53,
   "id": "b0f59085",
   "metadata": {
    "ExecuteTime": {
     "end_time": "2021-12-18T15:22:25.750812Z",
     "start_time": "2021-12-18T15:17:02.091210Z"
    }
   },
   "outputs": [
    {
     "name": "stdout",
     "output_type": "stream",
     "text": [
      "Run:  site_id\n",
      "Run:  site_domain\n",
      "Run:  site_category\n",
      "Run:  app_id\n",
      "Run:  app_domain\n",
      "Run:  app_category\n",
      "Run:  device_id\n",
      "Run:  device_ip\n",
      "Run:  device_model\n",
      "Run:  C14\n",
      "Run:  C17\n",
      "Run:  C19\n",
      "Run:  C20\n",
      "Run:  C21\n"
     ]
    },
    {
     "data": {
      "text/html": [
       "<div>\n",
       "<style scoped>\n",
       "    .dataframe tbody tr th:only-of-type {\n",
       "        vertical-align: middle;\n",
       "    }\n",
       "\n",
       "    .dataframe tbody tr th {\n",
       "        vertical-align: top;\n",
       "    }\n",
       "\n",
       "    .dataframe thead th {\n",
       "        text-align: right;\n",
       "    }\n",
       "</style>\n",
       "<table border=\"1\" class=\"dataframe\">\n",
       "  <thead>\n",
       "    <tr style=\"text-align: right;\">\n",
       "      <th></th>\n",
       "      <th>click</th>\n",
       "      <th>hour</th>\n",
       "      <th>C1</th>\n",
       "      <th>banner_pos</th>\n",
       "      <th>site_id</th>\n",
       "      <th>site_domain</th>\n",
       "      <th>site_category</th>\n",
       "      <th>app_id</th>\n",
       "      <th>app_domain</th>\n",
       "      <th>app_category</th>\n",
       "      <th>...</th>\n",
       "      <th>device_conn_type</th>\n",
       "      <th>C14</th>\n",
       "      <th>C15</th>\n",
       "      <th>C16</th>\n",
       "      <th>C17</th>\n",
       "      <th>C18</th>\n",
       "      <th>C19</th>\n",
       "      <th>C20</th>\n",
       "      <th>C21</th>\n",
       "      <th>weekday</th>\n",
       "    </tr>\n",
       "  </thead>\n",
       "  <tbody>\n",
       "    <tr>\n",
       "      <th>0</th>\n",
       "      <td>0</td>\n",
       "      <td>19-21</td>\n",
       "      <td>1010</td>\n",
       "      <td>1</td>\n",
       "      <td>very_low</td>\n",
       "      <td>very_low</td>\n",
       "      <td>very_low</td>\n",
       "      <td>very_low</td>\n",
       "      <td>higher</td>\n",
       "      <td>very_low</td>\n",
       "      <td>...</td>\n",
       "      <td>3</td>\n",
       "      <td>mid</td>\n",
       "      <td>320</td>\n",
       "      <td>50</td>\n",
       "      <td>mid</td>\n",
       "      <td>0</td>\n",
       "      <td>mid</td>\n",
       "      <td>mid</td>\n",
       "      <td>mid</td>\n",
       "      <td>1</td>\n",
       "    </tr>\n",
       "    <tr>\n",
       "      <th>1</th>\n",
       "      <td>0</td>\n",
       "      <td>15-17</td>\n",
       "      <td>1005</td>\n",
       "      <td>0</td>\n",
       "      <td>higher</td>\n",
       "      <td>higher</td>\n",
       "      <td>higher</td>\n",
       "      <td>higher</td>\n",
       "      <td>higher</td>\n",
       "      <td>higher</td>\n",
       "      <td>...</td>\n",
       "      <td>0</td>\n",
       "      <td>mid</td>\n",
       "      <td>320</td>\n",
       "      <td>50</td>\n",
       "      <td>mid</td>\n",
       "      <td>0</td>\n",
       "      <td>mid</td>\n",
       "      <td>mid</td>\n",
       "      <td>mid</td>\n",
       "      <td>5</td>\n",
       "    </tr>\n",
       "    <tr>\n",
       "      <th>2</th>\n",
       "      <td>0</td>\n",
       "      <td>09-11</td>\n",
       "      <td>1005</td>\n",
       "      <td>1</td>\n",
       "      <td>very_low</td>\n",
       "      <td>very_low</td>\n",
       "      <td>very_low</td>\n",
       "      <td>higher</td>\n",
       "      <td>higher</td>\n",
       "      <td>higher</td>\n",
       "      <td>...</td>\n",
       "      <td>0</td>\n",
       "      <td>mid</td>\n",
       "      <td>320</td>\n",
       "      <td>50</td>\n",
       "      <td>mid</td>\n",
       "      <td>3</td>\n",
       "      <td>mid</td>\n",
       "      <td>mid</td>\n",
       "      <td>mid</td>\n",
       "      <td>4</td>\n",
       "    </tr>\n",
       "    <tr>\n",
       "      <th>3</th>\n",
       "      <td>0</td>\n",
       "      <td>15-17</td>\n",
       "      <td>1005</td>\n",
       "      <td>0</td>\n",
       "      <td>very_low</td>\n",
       "      <td>very_low</td>\n",
       "      <td>very_low</td>\n",
       "      <td>mid</td>\n",
       "      <td>mid</td>\n",
       "      <td>very_low</td>\n",
       "      <td>...</td>\n",
       "      <td>0</td>\n",
       "      <td>mid</td>\n",
       "      <td>320</td>\n",
       "      <td>50</td>\n",
       "      <td>mid</td>\n",
       "      <td>3</td>\n",
       "      <td>mid</td>\n",
       "      <td>mid</td>\n",
       "      <td>mid</td>\n",
       "      <td>3</td>\n",
       "    </tr>\n",
       "    <tr>\n",
       "      <th>4</th>\n",
       "      <td>0</td>\n",
       "      <td>05-07</td>\n",
       "      <td>1005</td>\n",
       "      <td>0</td>\n",
       "      <td>higher</td>\n",
       "      <td>higher</td>\n",
       "      <td>higher</td>\n",
       "      <td>higher</td>\n",
       "      <td>higher</td>\n",
       "      <td>higher</td>\n",
       "      <td>...</td>\n",
       "      <td>0</td>\n",
       "      <td>mid</td>\n",
       "      <td>320</td>\n",
       "      <td>50</td>\n",
       "      <td>mid</td>\n",
       "      <td>0</td>\n",
       "      <td>mid</td>\n",
       "      <td>mid</td>\n",
       "      <td>mid</td>\n",
       "      <td>1</td>\n",
       "    </tr>\n",
       "    <tr>\n",
       "      <th>...</th>\n",
       "      <td>...</td>\n",
       "      <td>...</td>\n",
       "      <td>...</td>\n",
       "      <td>...</td>\n",
       "      <td>...</td>\n",
       "      <td>...</td>\n",
       "      <td>...</td>\n",
       "      <td>...</td>\n",
       "      <td>...</td>\n",
       "      <td>...</td>\n",
       "      <td>...</td>\n",
       "      <td>...</td>\n",
       "      <td>...</td>\n",
       "      <td>...</td>\n",
       "      <td>...</td>\n",
       "      <td>...</td>\n",
       "      <td>...</td>\n",
       "      <td>...</td>\n",
       "      <td>...</td>\n",
       "      <td>...</td>\n",
       "      <td>...</td>\n",
       "    </tr>\n",
       "    <tr>\n",
       "      <th>999994</th>\n",
       "      <td>0</td>\n",
       "      <td>15-17</td>\n",
       "      <td>1005</td>\n",
       "      <td>1</td>\n",
       "      <td>lower</td>\n",
       "      <td>lower</td>\n",
       "      <td>mid</td>\n",
       "      <td>higher</td>\n",
       "      <td>higher</td>\n",
       "      <td>higher</td>\n",
       "      <td>...</td>\n",
       "      <td>0</td>\n",
       "      <td>mid</td>\n",
       "      <td>320</td>\n",
       "      <td>50</td>\n",
       "      <td>mid</td>\n",
       "      <td>3</td>\n",
       "      <td>mid</td>\n",
       "      <td>mid</td>\n",
       "      <td>mid</td>\n",
       "      <td>5</td>\n",
       "    </tr>\n",
       "    <tr>\n",
       "      <th>999995</th>\n",
       "      <td>0</td>\n",
       "      <td>23-01</td>\n",
       "      <td>1005</td>\n",
       "      <td>0</td>\n",
       "      <td>higher</td>\n",
       "      <td>higher</td>\n",
       "      <td>mid</td>\n",
       "      <td>higher</td>\n",
       "      <td>higher</td>\n",
       "      <td>higher</td>\n",
       "      <td>...</td>\n",
       "      <td>0</td>\n",
       "      <td>mid</td>\n",
       "      <td>320</td>\n",
       "      <td>50</td>\n",
       "      <td>mid</td>\n",
       "      <td>3</td>\n",
       "      <td>mid</td>\n",
       "      <td>mid</td>\n",
       "      <td>mid</td>\n",
       "      <td>4</td>\n",
       "    </tr>\n",
       "    <tr>\n",
       "      <th>999996</th>\n",
       "      <td>0</td>\n",
       "      <td>21-23</td>\n",
       "      <td>1005</td>\n",
       "      <td>0</td>\n",
       "      <td>higher</td>\n",
       "      <td>higher</td>\n",
       "      <td>higher</td>\n",
       "      <td>higher</td>\n",
       "      <td>higher</td>\n",
       "      <td>higher</td>\n",
       "      <td>...</td>\n",
       "      <td>0</td>\n",
       "      <td>mid</td>\n",
       "      <td>320</td>\n",
       "      <td>50</td>\n",
       "      <td>mid</td>\n",
       "      <td>0</td>\n",
       "      <td>mid</td>\n",
       "      <td>mid</td>\n",
       "      <td>mid</td>\n",
       "      <td>1</td>\n",
       "    </tr>\n",
       "    <tr>\n",
       "      <th>999997</th>\n",
       "      <td>0</td>\n",
       "      <td>13-15</td>\n",
       "      <td>1005</td>\n",
       "      <td>0</td>\n",
       "      <td>higher</td>\n",
       "      <td>higher</td>\n",
       "      <td>higher</td>\n",
       "      <td>higher</td>\n",
       "      <td>higher</td>\n",
       "      <td>higher</td>\n",
       "      <td>...</td>\n",
       "      <td>0</td>\n",
       "      <td>mid</td>\n",
       "      <td>320</td>\n",
       "      <td>50</td>\n",
       "      <td>mid</td>\n",
       "      <td>0</td>\n",
       "      <td>mid</td>\n",
       "      <td>mid</td>\n",
       "      <td>mid</td>\n",
       "      <td>3</td>\n",
       "    </tr>\n",
       "    <tr>\n",
       "      <th>999998</th>\n",
       "      <td>0</td>\n",
       "      <td>01-03</td>\n",
       "      <td>1005</td>\n",
       "      <td>0</td>\n",
       "      <td>very_low</td>\n",
       "      <td>very_low</td>\n",
       "      <td>very_low</td>\n",
       "      <td>very_high</td>\n",
       "      <td>very_high</td>\n",
       "      <td>very_low</td>\n",
       "      <td>...</td>\n",
       "      <td>2</td>\n",
       "      <td>mid</td>\n",
       "      <td>320</td>\n",
       "      <td>50</td>\n",
       "      <td>mid</td>\n",
       "      <td>2</td>\n",
       "      <td>mid</td>\n",
       "      <td>mid</td>\n",
       "      <td>mid</td>\n",
       "      <td>3</td>\n",
       "    </tr>\n",
       "  </tbody>\n",
       "</table>\n",
       "<p>1999998 rows × 24 columns</p>\n",
       "</div>"
      ],
      "text/plain": [
       "        click   hour    C1 banner_pos   site_id site_domain site_category  \\\n",
       "0           0  19-21  1010          1  very_low    very_low      very_low   \n",
       "1           0  15-17  1005          0    higher      higher        higher   \n",
       "2           0  09-11  1005          1  very_low    very_low      very_low   \n",
       "3           0  15-17  1005          0  very_low    very_low      very_low   \n",
       "4           0  05-07  1005          0    higher      higher        higher   \n",
       "...       ...    ...   ...        ...       ...         ...           ...   \n",
       "999994      0  15-17  1005          1     lower       lower           mid   \n",
       "999995      0  23-01  1005          0    higher      higher           mid   \n",
       "999996      0  21-23  1005          0    higher      higher        higher   \n",
       "999997      0  13-15  1005          0    higher      higher        higher   \n",
       "999998      0  01-03  1005          0  very_low    very_low      very_low   \n",
       "\n",
       "           app_id app_domain app_category  ... device_conn_type  C14  C15 C16  \\\n",
       "0        very_low     higher     very_low  ...                3  mid  320  50   \n",
       "1          higher     higher       higher  ...                0  mid  320  50   \n",
       "2          higher     higher       higher  ...                0  mid  320  50   \n",
       "3             mid        mid     very_low  ...                0  mid  320  50   \n",
       "4          higher     higher       higher  ...                0  mid  320  50   \n",
       "...           ...        ...          ...  ...              ...  ...  ...  ..   \n",
       "999994     higher     higher       higher  ...                0  mid  320  50   \n",
       "999995     higher     higher       higher  ...                0  mid  320  50   \n",
       "999996     higher     higher       higher  ...                0  mid  320  50   \n",
       "999997     higher     higher       higher  ...                0  mid  320  50   \n",
       "999998  very_high  very_high     very_low  ...                2  mid  320  50   \n",
       "\n",
       "        C17 C18  C19  C20  C21 weekday  \n",
       "0       mid   0  mid  mid  mid       1  \n",
       "1       mid   0  mid  mid  mid       5  \n",
       "2       mid   3  mid  mid  mid       4  \n",
       "3       mid   3  mid  mid  mid       3  \n",
       "4       mid   0  mid  mid  mid       1  \n",
       "...     ...  ..  ...  ...  ...     ...  \n",
       "999994  mid   3  mid  mid  mid       5  \n",
       "999995  mid   3  mid  mid  mid       4  \n",
       "999996  mid   0  mid  mid  mid       1  \n",
       "999997  mid   0  mid  mid  mid       3  \n",
       "999998  mid   2  mid  mid  mid       3  \n",
       "\n",
       "[1999998 rows x 24 columns]"
      ]
     },
     "execution_count": 53,
     "metadata": {},
     "output_type": "execute_result"
    }
   ],
   "source": [
    "# 使用for 迴圈將需轉換的特徵輸入到 obj_clean function\n",
    "for i in obj_features:    \n",
    "    df[[i]] = pd.DataFrame(obj_clean(df[[i]]))\n",
    "\n",
    "df"
   ]
  },
  {
   "cell_type": "code",
   "execution_count": 54,
   "id": "d7191e28",
   "metadata": {
    "ExecuteTime": {
     "end_time": "2021-12-18T15:23:51.181335Z",
     "start_time": "2021-12-18T15:23:49.691613Z"
    }
   },
   "outputs": [
    {
     "name": "stdout",
     "output_type": "stream",
     "text": [
      "click 2\n",
      "hour 12\n",
      "C1 7\n",
      "banner_pos 7\n",
      "site_id 5\n",
      "site_domain 5\n",
      "site_category 4\n",
      "app_id 5\n",
      "app_domain 5\n",
      "app_category 5\n",
      "device_id 5\n",
      "device_ip 5\n",
      "device_model 5\n",
      "device_type 5\n",
      "device_conn_type 4\n",
      "C14 1\n",
      "C15 8\n",
      "C16 9\n",
      "C17 1\n",
      "C18 4\n",
      "C19 1\n",
      "C20 1\n",
      "C21 1\n",
      "weekday 7\n"
     ]
    }
   ],
   "source": [
    "for i in df.columns:\n",
    "    print(i,len(df[i].unique()))"
   ]
  },
  {
   "cell_type": "code",
   "execution_count": 55,
   "id": "8f7c74ac",
   "metadata": {
    "ExecuteTime": {
     "end_time": "2021-12-18T15:24:29.194634Z",
     "start_time": "2021-12-18T15:24:28.771257Z"
    }
   },
   "outputs": [],
   "source": [
    "df.drop(['C14', 'C17', 'C19', 'C20', 'C21'], axis=1, inplace=True)"
   ]
  },
  {
   "cell_type": "code",
   "execution_count": 56,
   "id": "0c8822bb",
   "metadata": {
    "ExecuteTime": {
     "end_time": "2021-12-18T15:25:32.536727Z",
     "start_time": "2021-12-18T15:25:29.914633Z"
    }
   },
   "outputs": [],
   "source": [
    "df = pd.get_dummies(df,drop_first=True)"
   ]
  },
  {
   "cell_type": "code",
   "execution_count": 57,
   "id": "f5fc26e4",
   "metadata": {
    "ExecuteTime": {
     "end_time": "2021-12-18T15:25:36.576624Z",
     "start_time": "2021-12-18T15:25:36.570644Z"
    }
   },
   "outputs": [
    {
     "data": {
      "text/plain": [
       "Index(['click', 'hour_03-05', 'hour_05-07', 'hour_07-09', 'hour_09-11',\n",
       "       'hour_11-13', 'hour_13-15', 'hour_15-17', 'hour_17-19', 'hour_19-21',\n",
       "       'hour_21-23', 'hour_23-01', 'C1_1002', 'C1_1005', 'C1_1007', 'C1_1008',\n",
       "       'C1_1010', 'C1_1012', 'banner_pos_1', 'banner_pos_2', 'banner_pos_3',\n",
       "       'banner_pos_4', 'banner_pos_5', 'banner_pos_7', 'site_id_lower',\n",
       "       'site_id_mid', 'site_id_very_high', 'site_id_very_low',\n",
       "       'site_domain_lower', 'site_domain_mid', 'site_domain_very_high',\n",
       "       'site_domain_very_low', 'site_category_mid', 'site_category_very_high',\n",
       "       'site_category_very_low', 'app_id_lower', 'app_id_mid',\n",
       "       'app_id_very_high', 'app_id_very_low', 'app_domain_lower',\n",
       "       'app_domain_mid', 'app_domain_very_high', 'app_domain_very_low',\n",
       "       'app_category_lower', 'app_category_mid', 'app_category_very_high',\n",
       "       'app_category_very_low', 'device_id_lower', 'device_id_mid',\n",
       "       'device_id_very_high', 'device_id_very_low', 'device_ip_lower',\n",
       "       'device_ip_mid', 'device_ip_very_high', 'device_ip_very_low',\n",
       "       'device_model_lower', 'device_model_mid', 'device_model_very_high',\n",
       "       'device_model_very_low', 'device_type_1', 'device_type_2',\n",
       "       'device_type_4', 'device_type_5', 'device_conn_type_2',\n",
       "       'device_conn_type_3', 'device_conn_type_5', 'C15_120', 'C15_216',\n",
       "       'C15_300', 'C15_320', 'C15_480', 'C15_728', 'C15_768', 'C16_20',\n",
       "       'C16_250', 'C16_320', 'C16_36', 'C16_480', 'C16_50', 'C16_768',\n",
       "       'C16_90', 'C18_1', 'C18_2', 'C18_3', 'weekday_1', 'weekday_2',\n",
       "       'weekday_3', 'weekday_4', 'weekday_5', 'weekday_6'],\n",
       "      dtype='object')"
      ]
     },
     "execution_count": 57,
     "metadata": {},
     "output_type": "execute_result"
    }
   ],
   "source": [
    "df.columns"
   ]
  },
  {
   "cell_type": "code",
   "execution_count": 67,
   "id": "b9348e5b",
   "metadata": {
    "ExecuteTime": {
     "end_time": "2021-12-18T15:31:43.072612Z",
     "start_time": "2021-12-18T15:31:43.059594Z"
    }
   },
   "outputs": [],
   "source": [
    "train_len = len(train)\n",
    "train = df[:train_len]\n",
    "test = df[train_len:]"
   ]
  },
  {
   "cell_type": "code",
   "execution_count": 68,
   "id": "36253249",
   "metadata": {
    "ExecuteTime": {
     "end_time": "2021-12-18T15:32:22.622714Z",
     "start_time": "2021-12-18T15:32:21.977743Z"
    }
   },
   "outputs": [],
   "source": [
    "pre_X = train[train['click'] == 0].sample(n=len(train[train['click'] == 1]), random_state=111)\n",
    "pre_X = pd.concat([pre_X, train[train['click'] == 1]]).sample(frac=1)\n",
    "pre_y = pre_X[['click']]\n",
    "pre_X.drop(['click'], axis=1, inplace=True)\n",
    "test.drop(['click'], axis=1, inplace=True)"
   ]
  },
  {
   "cell_type": "code",
   "execution_count": 73,
   "id": "a70ab19b",
   "metadata": {
    "ExecuteTime": {
     "end_time": "2021-12-18T16:08:49.764828Z",
     "start_time": "2021-12-18T16:08:48.624862Z"
    }
   },
   "outputs": [],
   "source": [
    "from sklearn.model_selection import GridSearchCV\n",
    "from sklearn.tree import DecisionTreeClassifier\n",
    "from sklearn.metrics import log_loss\n",
    "from sklearn.model_selection import train_test_split\n",
    "\n",
    "# 將新的資料集分割為訓練集與驗證集\n",
    "pre_X_train, pre_X_test, pre_y_train, pre_y_test = train_test_split(pre_X, pre_y, test_size=0.20, stratify=pre_y, random_state=1)"
   ]
  },
  {
   "cell_type": "code",
   "execution_count": null,
   "id": "96dc8c1c",
   "metadata": {
    "ExecuteTime": {
     "end_time": "2021-12-18T16:08:34.477184Z",
     "start_time": "2021-12-18T16:08:33.129424Z"
    }
   },
   "outputs": [],
   "source": [
    "params = {\"criterion\":[\"gini\", \"entropy\"], \"max_depth\":range(1,20)}\n",
    "grid_search = GridSearchCV(DecisionTreeClassifier(), param_grid=params, scoring='neg_log_loss', cv=100, verbose=1, n_jobs=-1)\n",
    "grid_search.fit(pre_X_train, pre_y_train)\n",
    "grid_search.best_score_, grid_search.best_estimator_, grid_search.best_params_"
   ]
  },
  {
   "cell_type": "code",
   "execution_count": null,
   "id": "87cc8ac4",
   "metadata": {
    "ExecuteTime": {
     "end_time": "2021-12-18T16:08:34.477184Z",
     "start_time": "2021-12-18T16:08:33.129424Z"
    }
   },
   "outputs": [],
   "source": [
    "# 依據Grid Search的結果建立一個決策樹模型，並fit完整資料 (前置資料)\n",
    "tree = grid_search.best_estimator_\n",
    "tree.fit(pre_X,pre_y)"
   ]
  },
  {
   "cell_type": "code",
   "execution_count": 77,
   "id": "8f23f886",
   "metadata": {
    "ExecuteTime": {
     "end_time": "2021-12-18T16:11:42.833770Z",
     "start_time": "2021-12-18T16:11:42.817565Z"
    }
   },
   "outputs": [
    {
     "data": {
      "text/plain": [
       "DecisionTreeClassifier(max_depth=6)"
      ]
     },
     "execution_count": 77,
     "metadata": {},
     "output_type": "execute_result"
    }
   ],
   "source": [
    "tree"
   ]
  },
  {
   "cell_type": "code",
   "execution_count": 78,
   "id": "53919f2d",
   "metadata": {
    "ExecuteTime": {
     "end_time": "2021-12-18T16:11:52.255774Z",
     "start_time": "2021-12-18T16:11:52.241558Z"
    }
   },
   "outputs": [
    {
     "data": {
      "text/html": [
       "<div>\n",
       "<style scoped>\n",
       "    .dataframe tbody tr th:only-of-type {\n",
       "        vertical-align: middle;\n",
       "    }\n",
       "\n",
       "    .dataframe tbody tr th {\n",
       "        vertical-align: top;\n",
       "    }\n",
       "\n",
       "    .dataframe thead th {\n",
       "        text-align: right;\n",
       "    }\n",
       "</style>\n",
       "<table border=\"1\" class=\"dataframe\">\n",
       "  <thead>\n",
       "    <tr style=\"text-align: right;\">\n",
       "      <th></th>\n",
       "      <th>0</th>\n",
       "    </tr>\n",
       "  </thead>\n",
       "  <tbody>\n",
       "    <tr>\n",
       "      <th>site_id_very_low</th>\n",
       "      <td>0.466345</td>\n",
       "    </tr>\n",
       "    <tr>\n",
       "      <th>app_id_very_high</th>\n",
       "      <td>0.186034</td>\n",
       "    </tr>\n",
       "    <tr>\n",
       "      <th>site_id_very_high</th>\n",
       "      <td>0.095518</td>\n",
       "    </tr>\n",
       "    <tr>\n",
       "      <th>app_category_very_low</th>\n",
       "      <td>0.069853</td>\n",
       "    </tr>\n",
       "    <tr>\n",
       "      <th>app_id_very_low</th>\n",
       "      <td>0.058800</td>\n",
       "    </tr>\n",
       "    <tr>\n",
       "      <th>...</th>\n",
       "      <td>...</td>\n",
       "    </tr>\n",
       "    <tr>\n",
       "      <th>device_id_lower</th>\n",
       "      <td>0.000000</td>\n",
       "    </tr>\n",
       "    <tr>\n",
       "      <th>device_ip_lower</th>\n",
       "      <td>0.000000</td>\n",
       "    </tr>\n",
       "    <tr>\n",
       "      <th>device_ip_mid</th>\n",
       "      <td>0.000000</td>\n",
       "    </tr>\n",
       "    <tr>\n",
       "      <th>device_model_mid</th>\n",
       "      <td>0.000000</td>\n",
       "    </tr>\n",
       "    <tr>\n",
       "      <th>weekday_6</th>\n",
       "      <td>0.000000</td>\n",
       "    </tr>\n",
       "  </tbody>\n",
       "</table>\n",
       "<p>89 rows × 1 columns</p>\n",
       "</div>"
      ],
      "text/plain": [
       "                              0\n",
       "site_id_very_low       0.466345\n",
       "app_id_very_high       0.186034\n",
       "site_id_very_high      0.095518\n",
       "app_category_very_low  0.069853\n",
       "app_id_very_low        0.058800\n",
       "...                         ...\n",
       "device_id_lower        0.000000\n",
       "device_ip_lower        0.000000\n",
       "device_ip_mid          0.000000\n",
       "device_model_mid       0.000000\n",
       "weekday_6              0.000000\n",
       "\n",
       "[89 rows x 1 columns]"
      ]
     },
     "execution_count": 78,
     "metadata": {},
     "output_type": "execute_result"
    }
   ],
   "source": [
    "# 輸出重要特徵，並依特徵之重要性排序\n",
    "feature_importances = pd.DataFrame(tree.feature_importances_)\n",
    "feature_importances.index = pre_X_train.columns\n",
    "feature_importances = feature_importances.sort_values(0,ascending=False)\n",
    "feature_importances"
   ]
  },
  {
   "cell_type": "code",
   "execution_count": 79,
   "id": "bd8ef380",
   "metadata": {
    "ExecuteTime": {
     "end_time": "2021-12-18T16:12:00.921563Z",
     "start_time": "2021-12-18T16:12:00.898376Z"
    }
   },
   "outputs": [],
   "source": [
    "# 調整前置作業訓練集與驗證集，將特徵依特徵重要性縮減為重要性排名之1/3\n",
    "pre_X_train = pre_X_train[feature_importances.index[:int(len(feature_importances)/3)]]\n",
    "pre_X_test = pre_X_test[feature_importances.index[:int(len(feature_importances)/3)]]"
   ]
  },
  {
   "cell_type": "code",
   "execution_count": 80,
   "id": "8522615b",
   "metadata": {
    "ExecuteTime": {
     "end_time": "2021-12-18T16:12:07.617924Z",
     "start_time": "2021-12-18T16:12:07.594287Z"
    }
   },
   "outputs": [
    {
     "data": {
      "text/html": [
       "<div>\n",
       "<style scoped>\n",
       "    .dataframe tbody tr th:only-of-type {\n",
       "        vertical-align: middle;\n",
       "    }\n",
       "\n",
       "    .dataframe tbody tr th {\n",
       "        vertical-align: top;\n",
       "    }\n",
       "\n",
       "    .dataframe thead th {\n",
       "        text-align: right;\n",
       "    }\n",
       "</style>\n",
       "<table border=\"1\" class=\"dataframe\">\n",
       "  <thead>\n",
       "    <tr style=\"text-align: right;\">\n",
       "      <th></th>\n",
       "      <th>site_id_very_low</th>\n",
       "      <th>app_id_very_high</th>\n",
       "      <th>site_id_very_high</th>\n",
       "      <th>app_category_very_low</th>\n",
       "      <th>app_id_very_low</th>\n",
       "      <th>C16_250</th>\n",
       "      <th>device_model_very_high</th>\n",
       "      <th>device_model_lower</th>\n",
       "      <th>C18_1</th>\n",
       "      <th>device_id_very_low</th>\n",
       "      <th>...</th>\n",
       "      <th>site_domain_very_high</th>\n",
       "      <th>banner_pos_7</th>\n",
       "      <th>site_category_very_high</th>\n",
       "      <th>device_ip_very_low</th>\n",
       "      <th>device_ip_very_high</th>\n",
       "      <th>device_conn_type_3</th>\n",
       "      <th>device_id_mid</th>\n",
       "      <th>app_domain_lower</th>\n",
       "      <th>device_conn_type_2</th>\n",
       "      <th>C16_50</th>\n",
       "    </tr>\n",
       "  </thead>\n",
       "  <tbody>\n",
       "    <tr>\n",
       "      <th>543791</th>\n",
       "      <td>0</td>\n",
       "      <td>0</td>\n",
       "      <td>1</td>\n",
       "      <td>0</td>\n",
       "      <td>0</td>\n",
       "      <td>0</td>\n",
       "      <td>0</td>\n",
       "      <td>0</td>\n",
       "      <td>0</td>\n",
       "      <td>0</td>\n",
       "      <td>...</td>\n",
       "      <td>0</td>\n",
       "      <td>0</td>\n",
       "      <td>0</td>\n",
       "      <td>0</td>\n",
       "      <td>0</td>\n",
       "      <td>0</td>\n",
       "      <td>1</td>\n",
       "      <td>0</td>\n",
       "      <td>0</td>\n",
       "      <td>1</td>\n",
       "    </tr>\n",
       "    <tr>\n",
       "      <th>614847</th>\n",
       "      <td>1</td>\n",
       "      <td>0</td>\n",
       "      <td>0</td>\n",
       "      <td>1</td>\n",
       "      <td>0</td>\n",
       "      <td>0</td>\n",
       "      <td>0</td>\n",
       "      <td>1</td>\n",
       "      <td>0</td>\n",
       "      <td>0</td>\n",
       "      <td>...</td>\n",
       "      <td>0</td>\n",
       "      <td>0</td>\n",
       "      <td>0</td>\n",
       "      <td>0</td>\n",
       "      <td>0</td>\n",
       "      <td>0</td>\n",
       "      <td>1</td>\n",
       "      <td>0</td>\n",
       "      <td>0</td>\n",
       "      <td>1</td>\n",
       "    </tr>\n",
       "    <tr>\n",
       "      <th>103928</th>\n",
       "      <td>0</td>\n",
       "      <td>0</td>\n",
       "      <td>1</td>\n",
       "      <td>0</td>\n",
       "      <td>0</td>\n",
       "      <td>1</td>\n",
       "      <td>0</td>\n",
       "      <td>0</td>\n",
       "      <td>0</td>\n",
       "      <td>0</td>\n",
       "      <td>...</td>\n",
       "      <td>1</td>\n",
       "      <td>0</td>\n",
       "      <td>0</td>\n",
       "      <td>0</td>\n",
       "      <td>0</td>\n",
       "      <td>0</td>\n",
       "      <td>1</td>\n",
       "      <td>0</td>\n",
       "      <td>0</td>\n",
       "      <td>0</td>\n",
       "    </tr>\n",
       "    <tr>\n",
       "      <th>73841</th>\n",
       "      <td>1</td>\n",
       "      <td>0</td>\n",
       "      <td>0</td>\n",
       "      <td>0</td>\n",
       "      <td>0</td>\n",
       "      <td>0</td>\n",
       "      <td>0</td>\n",
       "      <td>0</td>\n",
       "      <td>0</td>\n",
       "      <td>0</td>\n",
       "      <td>...</td>\n",
       "      <td>0</td>\n",
       "      <td>0</td>\n",
       "      <td>0</td>\n",
       "      <td>0</td>\n",
       "      <td>1</td>\n",
       "      <td>0</td>\n",
       "      <td>1</td>\n",
       "      <td>0</td>\n",
       "      <td>0</td>\n",
       "      <td>1</td>\n",
       "    </tr>\n",
       "    <tr>\n",
       "      <th>40555</th>\n",
       "      <td>1</td>\n",
       "      <td>0</td>\n",
       "      <td>0</td>\n",
       "      <td>0</td>\n",
       "      <td>0</td>\n",
       "      <td>0</td>\n",
       "      <td>0</td>\n",
       "      <td>0</td>\n",
       "      <td>0</td>\n",
       "      <td>0</td>\n",
       "      <td>...</td>\n",
       "      <td>0</td>\n",
       "      <td>0</td>\n",
       "      <td>1</td>\n",
       "      <td>0</td>\n",
       "      <td>0</td>\n",
       "      <td>0</td>\n",
       "      <td>1</td>\n",
       "      <td>0</td>\n",
       "      <td>0</td>\n",
       "      <td>1</td>\n",
       "    </tr>\n",
       "    <tr>\n",
       "      <th>...</th>\n",
       "      <td>...</td>\n",
       "      <td>...</td>\n",
       "      <td>...</td>\n",
       "      <td>...</td>\n",
       "      <td>...</td>\n",
       "      <td>...</td>\n",
       "      <td>...</td>\n",
       "      <td>...</td>\n",
       "      <td>...</td>\n",
       "      <td>...</td>\n",
       "      <td>...</td>\n",
       "      <td>...</td>\n",
       "      <td>...</td>\n",
       "      <td>...</td>\n",
       "      <td>...</td>\n",
       "      <td>...</td>\n",
       "      <td>...</td>\n",
       "      <td>...</td>\n",
       "      <td>...</td>\n",
       "      <td>...</td>\n",
       "      <td>...</td>\n",
       "    </tr>\n",
       "    <tr>\n",
       "      <th>942822</th>\n",
       "      <td>0</td>\n",
       "      <td>0</td>\n",
       "      <td>1</td>\n",
       "      <td>0</td>\n",
       "      <td>0</td>\n",
       "      <td>0</td>\n",
       "      <td>1</td>\n",
       "      <td>0</td>\n",
       "      <td>0</td>\n",
       "      <td>0</td>\n",
       "      <td>...</td>\n",
       "      <td>1</td>\n",
       "      <td>0</td>\n",
       "      <td>0</td>\n",
       "      <td>0</td>\n",
       "      <td>0</td>\n",
       "      <td>0</td>\n",
       "      <td>1</td>\n",
       "      <td>0</td>\n",
       "      <td>0</td>\n",
       "      <td>1</td>\n",
       "    </tr>\n",
       "    <tr>\n",
       "      <th>857334</th>\n",
       "      <td>0</td>\n",
       "      <td>0</td>\n",
       "      <td>0</td>\n",
       "      <td>0</td>\n",
       "      <td>0</td>\n",
       "      <td>0</td>\n",
       "      <td>1</td>\n",
       "      <td>0</td>\n",
       "      <td>0</td>\n",
       "      <td>0</td>\n",
       "      <td>...</td>\n",
       "      <td>0</td>\n",
       "      <td>0</td>\n",
       "      <td>0</td>\n",
       "      <td>0</td>\n",
       "      <td>0</td>\n",
       "      <td>0</td>\n",
       "      <td>1</td>\n",
       "      <td>0</td>\n",
       "      <td>0</td>\n",
       "      <td>1</td>\n",
       "    </tr>\n",
       "    <tr>\n",
       "      <th>248910</th>\n",
       "      <td>0</td>\n",
       "      <td>0</td>\n",
       "      <td>0</td>\n",
       "      <td>0</td>\n",
       "      <td>0</td>\n",
       "      <td>0</td>\n",
       "      <td>1</td>\n",
       "      <td>0</td>\n",
       "      <td>0</td>\n",
       "      <td>0</td>\n",
       "      <td>...</td>\n",
       "      <td>0</td>\n",
       "      <td>0</td>\n",
       "      <td>0</td>\n",
       "      <td>0</td>\n",
       "      <td>0</td>\n",
       "      <td>0</td>\n",
       "      <td>1</td>\n",
       "      <td>0</td>\n",
       "      <td>0</td>\n",
       "      <td>1</td>\n",
       "    </tr>\n",
       "    <tr>\n",
       "      <th>513809</th>\n",
       "      <td>1</td>\n",
       "      <td>0</td>\n",
       "      <td>0</td>\n",
       "      <td>0</td>\n",
       "      <td>0</td>\n",
       "      <td>0</td>\n",
       "      <td>0</td>\n",
       "      <td>0</td>\n",
       "      <td>0</td>\n",
       "      <td>0</td>\n",
       "      <td>...</td>\n",
       "      <td>0</td>\n",
       "      <td>0</td>\n",
       "      <td>0</td>\n",
       "      <td>0</td>\n",
       "      <td>0</td>\n",
       "      <td>0</td>\n",
       "      <td>1</td>\n",
       "      <td>0</td>\n",
       "      <td>0</td>\n",
       "      <td>1</td>\n",
       "    </tr>\n",
       "    <tr>\n",
       "      <th>629886</th>\n",
       "      <td>0</td>\n",
       "      <td>0</td>\n",
       "      <td>0</td>\n",
       "      <td>0</td>\n",
       "      <td>0</td>\n",
       "      <td>0</td>\n",
       "      <td>0</td>\n",
       "      <td>1</td>\n",
       "      <td>0</td>\n",
       "      <td>0</td>\n",
       "      <td>...</td>\n",
       "      <td>1</td>\n",
       "      <td>0</td>\n",
       "      <td>0</td>\n",
       "      <td>0</td>\n",
       "      <td>0</td>\n",
       "      <td>0</td>\n",
       "      <td>1</td>\n",
       "      <td>0</td>\n",
       "      <td>0</td>\n",
       "      <td>1</td>\n",
       "    </tr>\n",
       "  </tbody>\n",
       "</table>\n",
       "<p>272656 rows × 29 columns</p>\n",
       "</div>"
      ],
      "text/plain": [
       "        site_id_very_low  app_id_very_high  site_id_very_high  \\\n",
       "543791                 0                 0                  1   \n",
       "614847                 1                 0                  0   \n",
       "103928                 0                 0                  1   \n",
       "73841                  1                 0                  0   \n",
       "40555                  1                 0                  0   \n",
       "...                  ...               ...                ...   \n",
       "942822                 0                 0                  1   \n",
       "857334                 0                 0                  0   \n",
       "248910                 0                 0                  0   \n",
       "513809                 1                 0                  0   \n",
       "629886                 0                 0                  0   \n",
       "\n",
       "        app_category_very_low  app_id_very_low  C16_250  \\\n",
       "543791                      0                0        0   \n",
       "614847                      1                0        0   \n",
       "103928                      0                0        1   \n",
       "73841                       0                0        0   \n",
       "40555                       0                0        0   \n",
       "...                       ...              ...      ...   \n",
       "942822                      0                0        0   \n",
       "857334                      0                0        0   \n",
       "248910                      0                0        0   \n",
       "513809                      0                0        0   \n",
       "629886                      0                0        0   \n",
       "\n",
       "        device_model_very_high  device_model_lower  C18_1  device_id_very_low  \\\n",
       "543791                       0                   0      0                   0   \n",
       "614847                       0                   1      0                   0   \n",
       "103928                       0                   0      0                   0   \n",
       "73841                        0                   0      0                   0   \n",
       "40555                        0                   0      0                   0   \n",
       "...                        ...                 ...    ...                 ...   \n",
       "942822                       1                   0      0                   0   \n",
       "857334                       1                   0      0                   0   \n",
       "248910                       1                   0      0                   0   \n",
       "513809                       0                   0      0                   0   \n",
       "629886                       0                   1      0                   0   \n",
       "\n",
       "        ...  site_domain_very_high  banner_pos_7  site_category_very_high  \\\n",
       "543791  ...                      0             0                        0   \n",
       "614847  ...                      0             0                        0   \n",
       "103928  ...                      1             0                        0   \n",
       "73841   ...                      0             0                        0   \n",
       "40555   ...                      0             0                        1   \n",
       "...     ...                    ...           ...                      ...   \n",
       "942822  ...                      1             0                        0   \n",
       "857334  ...                      0             0                        0   \n",
       "248910  ...                      0             0                        0   \n",
       "513809  ...                      0             0                        0   \n",
       "629886  ...                      1             0                        0   \n",
       "\n",
       "        device_ip_very_low  device_ip_very_high  device_conn_type_3  \\\n",
       "543791                   0                    0                   0   \n",
       "614847                   0                    0                   0   \n",
       "103928                   0                    0                   0   \n",
       "73841                    0                    1                   0   \n",
       "40555                    0                    0                   0   \n",
       "...                    ...                  ...                 ...   \n",
       "942822                   0                    0                   0   \n",
       "857334                   0                    0                   0   \n",
       "248910                   0                    0                   0   \n",
       "513809                   0                    0                   0   \n",
       "629886                   0                    0                   0   \n",
       "\n",
       "        device_id_mid  app_domain_lower  device_conn_type_2  C16_50  \n",
       "543791              1                 0                   0       1  \n",
       "614847              1                 0                   0       1  \n",
       "103928              1                 0                   0       0  \n",
       "73841               1                 0                   0       1  \n",
       "40555               1                 0                   0       1  \n",
       "...               ...               ...                 ...     ...  \n",
       "942822              1                 0                   0       1  \n",
       "857334              1                 0                   0       1  \n",
       "248910              1                 0                   0       1  \n",
       "513809              1                 0                   0       1  \n",
       "629886              1                 0                   0       1  \n",
       "\n",
       "[272656 rows x 29 columns]"
      ]
     },
     "execution_count": 80,
     "metadata": {},
     "output_type": "execute_result"
    }
   ],
   "source": [
    "pre_X_train"
   ]
  },
  {
   "cell_type": "code",
   "execution_count": 81,
   "id": "70433a03",
   "metadata": {
    "ExecuteTime": {
     "end_time": "2021-12-18T16:16:56.314158Z",
     "start_time": "2021-12-18T16:12:36.955268Z"
    }
   },
   "outputs": [
    {
     "name": "stdout",
     "output_type": "stream",
     "text": [
      "Fitting 100 folds for each of 22 candidates, totalling 2200 fits\n"
     ]
    },
    {
     "data": {
      "text/plain": [
       "(-0.6067760984428198,\n",
       " DecisionTreeClassifier(max_depth=7),\n",
       " {'criterion': 'gini', 'max_depth': 7})"
      ]
     },
     "execution_count": 81,
     "metadata": {},
     "output_type": "execute_result"
    }
   ],
   "source": [
    "# 使用33％的重要特徵重新進行Grid Search調參\n",
    "params = {\"criterion\":[\"gini\", \"entropy\"], \"max_depth\":range(1,12)}\n",
    "grid_search = GridSearchCV(DecisionTreeClassifier(), param_grid=params, scoring='neg_log_loss', cv=100, verbose=1, n_jobs=-1)\n",
    "grid_search.fit(pre_X_train, pre_y_train)\n",
    "grid_search.best_score_, grid_search.best_estimator_, grid_search.best_params_"
   ]
  },
  {
   "cell_type": "code",
   "execution_count": null,
   "id": "d03b616b",
   "metadata": {
    "ExecuteTime": {
     "end_time": "2021-12-18T16:19:19.622261Z",
     "start_time": "2021-12-18T16:19:19.594856Z"
    }
   },
   "outputs": [],
   "source": [
    "# 調整前置作業完整資料集，將特徵依特徵重要性縮減為重要性排名之1/3\n",
    "pre_X = pre_X[feature_importances.index[:int(len(feature_importances)/3)]]\n",
    "\n",
    "# 依據Grid Search的結果建立一個決策樹模型，並fit完整資料 (前置資料)\n",
    "tree = grid_search.best_estimator_\n",
    "tree.fit(pre_X,pre_y)"
   ]
  },
  {
   "cell_type": "code",
   "execution_count": 88,
   "id": "5fb1e969",
   "metadata": {
    "ExecuteTime": {
     "end_time": "2021-12-18T16:19:38.815261Z",
     "start_time": "2021-12-18T16:19:38.794221Z"
    }
   },
   "outputs": [
    {
     "data": {
      "text/html": [
       "<div>\n",
       "<style scoped>\n",
       "    .dataframe tbody tr th:only-of-type {\n",
       "        vertical-align: middle;\n",
       "    }\n",
       "\n",
       "    .dataframe tbody tr th {\n",
       "        vertical-align: top;\n",
       "    }\n",
       "\n",
       "    .dataframe thead th {\n",
       "        text-align: right;\n",
       "    }\n",
       "</style>\n",
       "<table border=\"1\" class=\"dataframe\">\n",
       "  <thead>\n",
       "    <tr style=\"text-align: right;\">\n",
       "      <th></th>\n",
       "      <th>0</th>\n",
       "    </tr>\n",
       "  </thead>\n",
       "  <tbody>\n",
       "    <tr>\n",
       "      <th>site_id_very_low</th>\n",
       "      <td>0.484713</td>\n",
       "    </tr>\n",
       "    <tr>\n",
       "      <th>app_id_very_high</th>\n",
       "      <td>0.193362</td>\n",
       "    </tr>\n",
       "    <tr>\n",
       "      <th>site_id_very_high</th>\n",
       "      <td>0.099280</td>\n",
       "    </tr>\n",
       "    <tr>\n",
       "      <th>app_category_very_low</th>\n",
       "      <td>0.073712</td>\n",
       "    </tr>\n",
       "    <tr>\n",
       "      <th>app_id_very_low</th>\n",
       "      <td>0.061116</td>\n",
       "    </tr>\n",
       "    <tr>\n",
       "      <th>C16_250</th>\n",
       "      <td>0.025617</td>\n",
       "    </tr>\n",
       "    <tr>\n",
       "      <th>device_model_very_high</th>\n",
       "      <td>0.024923</td>\n",
       "    </tr>\n",
       "    <tr>\n",
       "      <th>C18_1</th>\n",
       "      <td>0.019846</td>\n",
       "    </tr>\n",
       "    <tr>\n",
       "      <th>device_model_lower</th>\n",
       "      <td>0.017432</td>\n",
       "    </tr>\n",
       "  </tbody>\n",
       "</table>\n",
       "</div>"
      ],
      "text/plain": [
       "                               0\n",
       "site_id_very_low        0.484713\n",
       "app_id_very_high        0.193362\n",
       "site_id_very_high       0.099280\n",
       "app_category_very_low   0.073712\n",
       "app_id_very_low         0.061116\n",
       "C16_250                 0.025617\n",
       "device_model_very_high  0.024923\n",
       "C18_1                   0.019846\n",
       "device_model_lower      0.017432"
      ]
     },
     "execution_count": 88,
     "metadata": {},
     "output_type": "execute_result"
    }
   ],
   "source": [
    "# 輸出重要特徵，並依特徵之重要性排序\n",
    "feature_importances = pd.DataFrame(tree.feature_importances_)\n",
    "feature_importances.index = pre_X.columns\n",
    "feature_importances = feature_importances.sort_values(0,ascending=False)\n",
    "feature_importances"
   ]
  },
  {
   "cell_type": "code",
   "execution_count": 89,
   "id": "c357c114",
   "metadata": {
    "ExecuteTime": {
     "end_time": "2021-12-18T16:19:50.569599Z",
     "start_time": "2021-12-18T16:19:50.490719Z"
    }
   },
   "outputs": [],
   "source": [
    "# 最終預測模型之特徵，將採用特徵值 .005以上的變數\n",
    "feature_len = len(feature_importances[feature_importances[feature_importances.columns[0]] > 0.005])\n",
    "\n",
    "# 調整最終完整Train Set 與 Test set之特徵\n",
    "y = train[['click']]\n",
    "X = train[feature_importances[:feature_len].index]\n",
    "test = test[feature_importances[:feature_len].index]"
   ]
  },
  {
   "cell_type": "code",
   "execution_count": 96,
   "id": "6cd71729",
   "metadata": {
    "ExecuteTime": {
     "end_time": "2021-12-18T16:26:59.818908Z",
     "start_time": "2021-12-18T16:26:54.474845Z"
    }
   },
   "outputs": [
    {
     "name": "stdout",
     "output_type": "stream",
     "text": [
      "[11:26:54] WARNING: C:/Users/Administrator/workspace/xgboost-win64_release_1.5.1/src/learner.cc:1115: Starting in XGBoost 1.3.0, the default evaluation metric used with the objective 'binary:logistic' was changed from 'error' to 'logloss'. Explicitly set eval_metric if you'd like to restore the old behavior.\n"
     ]
    }
   ],
   "source": [
    "from xgboost import XGBClassifier\n",
    "\n",
    "# 使用xgboost 建模，並指定先前調參得到的節點深度限制使用xgboost 建模，並指定先前調參得到的節點深度限制\n",
    "model = XGBClassifier(tree_method = 'gpu_hist', n_jobs=-1, n_estimators=500, max_depth=11)\n",
    "model.fit(X,y.values.ravel())\n",
    "y_pred = model.predict_proba(X)"
   ]
  },
  {
   "cell_type": "code",
   "execution_count": 97,
   "id": "5072b787",
   "metadata": {
    "ExecuteTime": {
     "end_time": "2021-12-18T16:27:02.302544Z",
     "start_time": "2021-12-18T16:27:02.153861Z"
    }
   },
   "outputs": [
    {
     "name": "stdout",
     "output_type": "stream",
     "text": [
      "log_loss:  0.4096210889192551\n"
     ]
    }
   ],
   "source": [
    "print(\"log_loss: \",log_loss(y,y_pred))"
   ]
  },
  {
   "cell_type": "code",
   "execution_count": 98,
   "id": "97493548",
   "metadata": {
    "ExecuteTime": {
     "end_time": "2021-12-18T16:27:05.749596Z",
     "start_time": "2021-12-18T16:27:05.729690Z"
    }
   },
   "outputs": [
    {
     "data": {
      "text/plain": [
       "array([[0.9469039 , 0.0530961 ],\n",
       "       [0.76686215, 0.23313786],\n",
       "       [0.8951936 , 0.10480645],\n",
       "       ...,\n",
       "       [0.8162542 , 0.18374579],\n",
       "       [0.9469039 , 0.0530961 ],\n",
       "       [0.9336424 , 0.06635762]], dtype=float32)"
      ]
     },
     "execution_count": 98,
     "metadata": {},
     "output_type": "execute_result"
    }
   ],
   "source": [
    "y_pred"
   ]
  }
 ],
 "metadata": {
  "kernelspec": {
   "display_name": "Python 3 (ipykernel)",
   "language": "python",
   "name": "python3"
  },
  "language_info": {
   "codemirror_mode": {
    "name": "ipython",
    "version": 3
   },
   "file_extension": ".py",
   "mimetype": "text/x-python",
   "name": "python",
   "nbconvert_exporter": "python",
   "pygments_lexer": "ipython3",
   "version": "3.8.12"
  }
 },
 "nbformat": 4,
 "nbformat_minor": 5
}
