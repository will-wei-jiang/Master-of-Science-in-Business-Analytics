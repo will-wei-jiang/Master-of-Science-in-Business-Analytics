{
 "cells": [
  {
   "cell_type": "code",
   "execution_count": 13,
   "id": "5b7b8bc5",
   "metadata": {},
   "outputs": [],
   "source": [
    "import pandas as pd\n",
    "import numpy as np\n",
    "import seaborn as sns\n",
    "import matplotlib.pyplot as plt\n",
    "import seaborn"
   ]
  },
  {
   "cell_type": "code",
   "execution_count": 57,
   "id": "2a88e0eb",
   "metadata": {},
   "outputs": [],
   "source": [
    "df = pd.read_csv('C:/Users/Xiang Meng/Desktop/ML final project/Project Data/Project Data/Train000.csv')"
   ]
  },
  {
   "cell_type": "code",
   "execution_count": 58,
   "id": "9bf07791",
   "metadata": {},
   "outputs": [],
   "source": [
    "df.columns = ['id', 'click', 'hour', 'C1', 'banner_pos', 'site_id', 'site_domain',\n",
    "       'site_category', 'app_id', 'app_domain', 'app_category', 'device_id',\n",
    "       'device_ip', 'device_model', 'device_type', 'device_conn_type', 'C14',\n",
    "       'C15', 'C16', 'C17', 'C18', 'C19', 'C20', 'C21']"
   ]
  },
  {
   "cell_type": "code",
   "execution_count": 59,
   "id": "85bb6464",
   "metadata": {},
   "outputs": [
    {
     "data": {
      "text/html": [
       "<div>\n",
       "<style scoped>\n",
       "    .dataframe tbody tr th:only-of-type {\n",
       "        vertical-align: middle;\n",
       "    }\n",
       "\n",
       "    .dataframe tbody tr th {\n",
       "        vertical-align: top;\n",
       "    }\n",
       "\n",
       "    .dataframe thead th {\n",
       "        text-align: right;\n",
       "    }\n",
       "</style>\n",
       "<table border=\"1\" class=\"dataframe\">\n",
       "  <thead>\n",
       "    <tr style=\"text-align: right;\">\n",
       "      <th></th>\n",
       "      <th>id</th>\n",
       "      <th>click</th>\n",
       "      <th>hour</th>\n",
       "      <th>C1</th>\n",
       "      <th>banner_pos</th>\n",
       "      <th>site_id</th>\n",
       "      <th>site_domain</th>\n",
       "      <th>site_category</th>\n",
       "      <th>app_id</th>\n",
       "      <th>app_domain</th>\n",
       "      <th>...</th>\n",
       "      <th>device_type</th>\n",
       "      <th>device_conn_type</th>\n",
       "      <th>C14</th>\n",
       "      <th>C15</th>\n",
       "      <th>C16</th>\n",
       "      <th>C17</th>\n",
       "      <th>C18</th>\n",
       "      <th>C19</th>\n",
       "      <th>C20</th>\n",
       "      <th>C21</th>\n",
       "    </tr>\n",
       "  </thead>\n",
       "  <tbody>\n",
       "    <tr>\n",
       "      <th>0</th>\n",
       "      <td>10258522767243640572</td>\n",
       "      <td>0</td>\n",
       "      <td>14102819</td>\n",
       "      <td>1010</td>\n",
       "      <td>1</td>\n",
       "      <td>85f751fd</td>\n",
       "      <td>c4e18dd6</td>\n",
       "      <td>50e219e0</td>\n",
       "      <td>3fd3187a</td>\n",
       "      <td>7801e8d9</td>\n",
       "      <td>...</td>\n",
       "      <td>4</td>\n",
       "      <td>3</td>\n",
       "      <td>16252</td>\n",
       "      <td>320</td>\n",
       "      <td>50</td>\n",
       "      <td>1809</td>\n",
       "      <td>0</td>\n",
       "      <td>171</td>\n",
       "      <td>100162</td>\n",
       "      <td>126</td>\n",
       "    </tr>\n",
       "    <tr>\n",
       "      <th>1</th>\n",
       "      <td>7801328047195758573</td>\n",
       "      <td>0</td>\n",
       "      <td>14102516</td>\n",
       "      <td>1005</td>\n",
       "      <td>0</td>\n",
       "      <td>1fbe01fe</td>\n",
       "      <td>f3845767</td>\n",
       "      <td>28905ebd</td>\n",
       "      <td>ecad2386</td>\n",
       "      <td>7801e8d9</td>\n",
       "      <td>...</td>\n",
       "      <td>1</td>\n",
       "      <td>0</td>\n",
       "      <td>15706</td>\n",
       "      <td>320</td>\n",
       "      <td>50</td>\n",
       "      <td>1722</td>\n",
       "      <td>0</td>\n",
       "      <td>35</td>\n",
       "      <td>-1</td>\n",
       "      <td>79</td>\n",
       "    </tr>\n",
       "    <tr>\n",
       "      <th>2</th>\n",
       "      <td>16046150418661423859</td>\n",
       "      <td>0</td>\n",
       "      <td>14102410</td>\n",
       "      <td>1005</td>\n",
       "      <td>1</td>\n",
       "      <td>92c7cbe7</td>\n",
       "      <td>6e882918</td>\n",
       "      <td>75fa27f6</td>\n",
       "      <td>ecad2386</td>\n",
       "      <td>7801e8d9</td>\n",
       "      <td>...</td>\n",
       "      <td>1</td>\n",
       "      <td>0</td>\n",
       "      <td>16615</td>\n",
       "      <td>320</td>\n",
       "      <td>50</td>\n",
       "      <td>1863</td>\n",
       "      <td>3</td>\n",
       "      <td>39</td>\n",
       "      <td>-1</td>\n",
       "      <td>23</td>\n",
       "    </tr>\n",
       "    <tr>\n",
       "      <th>3</th>\n",
       "      <td>12577991248190121985</td>\n",
       "      <td>0</td>\n",
       "      <td>14102316</td>\n",
       "      <td>1005</td>\n",
       "      <td>0</td>\n",
       "      <td>85f751fd</td>\n",
       "      <td>c4e18dd6</td>\n",
       "      <td>50e219e0</td>\n",
       "      <td>7358e05e</td>\n",
       "      <td>b9528b13</td>\n",
       "      <td>...</td>\n",
       "      <td>1</td>\n",
       "      <td>0</td>\n",
       "      <td>1039</td>\n",
       "      <td>320</td>\n",
       "      <td>50</td>\n",
       "      <td>178</td>\n",
       "      <td>3</td>\n",
       "      <td>1327</td>\n",
       "      <td>100148</td>\n",
       "      <td>15</td>\n",
       "    </tr>\n",
       "    <tr>\n",
       "      <th>4</th>\n",
       "      <td>4502759030559738848</td>\n",
       "      <td>0</td>\n",
       "      <td>14102106</td>\n",
       "      <td>1005</td>\n",
       "      <td>0</td>\n",
       "      <td>1fbe01fe</td>\n",
       "      <td>f3845767</td>\n",
       "      <td>28905ebd</td>\n",
       "      <td>ecad2386</td>\n",
       "      <td>7801e8d9</td>\n",
       "      <td>...</td>\n",
       "      <td>1</td>\n",
       "      <td>0</td>\n",
       "      <td>15702</td>\n",
       "      <td>320</td>\n",
       "      <td>50</td>\n",
       "      <td>1722</td>\n",
       "      <td>0</td>\n",
       "      <td>35</td>\n",
       "      <td>100084</td>\n",
       "      <td>79</td>\n",
       "    </tr>\n",
       "    <tr>\n",
       "      <th>...</th>\n",
       "      <td>...</td>\n",
       "      <td>...</td>\n",
       "      <td>...</td>\n",
       "      <td>...</td>\n",
       "      <td>...</td>\n",
       "      <td>...</td>\n",
       "      <td>...</td>\n",
       "      <td>...</td>\n",
       "      <td>...</td>\n",
       "      <td>...</td>\n",
       "      <td>...</td>\n",
       "      <td>...</td>\n",
       "      <td>...</td>\n",
       "      <td>...</td>\n",
       "      <td>...</td>\n",
       "      <td>...</td>\n",
       "      <td>...</td>\n",
       "      <td>...</td>\n",
       "      <td>...</td>\n",
       "      <td>...</td>\n",
       "      <td>...</td>\n",
       "    </tr>\n",
       "    <tr>\n",
       "      <th>999994</th>\n",
       "      <td>10338162508164060481</td>\n",
       "      <td>1</td>\n",
       "      <td>14102302</td>\n",
       "      <td>1005</td>\n",
       "      <td>0</td>\n",
       "      <td>1fbe01fe</td>\n",
       "      <td>f3845767</td>\n",
       "      <td>28905ebd</td>\n",
       "      <td>ecad2386</td>\n",
       "      <td>7801e8d9</td>\n",
       "      <td>...</td>\n",
       "      <td>1</td>\n",
       "      <td>0</td>\n",
       "      <td>21761</td>\n",
       "      <td>320</td>\n",
       "      <td>50</td>\n",
       "      <td>2502</td>\n",
       "      <td>0</td>\n",
       "      <td>35</td>\n",
       "      <td>100083</td>\n",
       "      <td>221</td>\n",
       "    </tr>\n",
       "    <tr>\n",
       "      <th>999995</th>\n",
       "      <td>11766595295761614335</td>\n",
       "      <td>0</td>\n",
       "      <td>14102207</td>\n",
       "      <td>1005</td>\n",
       "      <td>1</td>\n",
       "      <td>5b4d2eda</td>\n",
       "      <td>16a36ef3</td>\n",
       "      <td>f028772b</td>\n",
       "      <td>ecad2386</td>\n",
       "      <td>7801e8d9</td>\n",
       "      <td>...</td>\n",
       "      <td>1</td>\n",
       "      <td>0</td>\n",
       "      <td>20362</td>\n",
       "      <td>320</td>\n",
       "      <td>50</td>\n",
       "      <td>2333</td>\n",
       "      <td>0</td>\n",
       "      <td>39</td>\n",
       "      <td>-1</td>\n",
       "      <td>157</td>\n",
       "    </tr>\n",
       "    <tr>\n",
       "      <th>999996</th>\n",
       "      <td>502890454260961232</td>\n",
       "      <td>0</td>\n",
       "      <td>14102716</td>\n",
       "      <td>1005</td>\n",
       "      <td>1</td>\n",
       "      <td>5b4d2eda</td>\n",
       "      <td>16a36ef3</td>\n",
       "      <td>f028772b</td>\n",
       "      <td>ecad2386</td>\n",
       "      <td>7801e8d9</td>\n",
       "      <td>...</td>\n",
       "      <td>1</td>\n",
       "      <td>0</td>\n",
       "      <td>16615</td>\n",
       "      <td>320</td>\n",
       "      <td>50</td>\n",
       "      <td>1863</td>\n",
       "      <td>3</td>\n",
       "      <td>39</td>\n",
       "      <td>-1</td>\n",
       "      <td>23</td>\n",
       "    </tr>\n",
       "    <tr>\n",
       "      <th>999997</th>\n",
       "      <td>12081616419175799676</td>\n",
       "      <td>0</td>\n",
       "      <td>14102211</td>\n",
       "      <td>1005</td>\n",
       "      <td>0</td>\n",
       "      <td>85f751fd</td>\n",
       "      <td>c4e18dd6</td>\n",
       "      <td>50e219e0</td>\n",
       "      <td>39fb6e33</td>\n",
       "      <td>d9b5648e</td>\n",
       "      <td>...</td>\n",
       "      <td>1</td>\n",
       "      <td>0</td>\n",
       "      <td>15840</td>\n",
       "      <td>320</td>\n",
       "      <td>50</td>\n",
       "      <td>1741</td>\n",
       "      <td>3</td>\n",
       "      <td>171</td>\n",
       "      <td>100114</td>\n",
       "      <td>100</td>\n",
       "    </tr>\n",
       "    <tr>\n",
       "      <th>999998</th>\n",
       "      <td>14661932444753430650</td>\n",
       "      <td>0</td>\n",
       "      <td>14102213</td>\n",
       "      <td>1005</td>\n",
       "      <td>0</td>\n",
       "      <td>9a977531</td>\n",
       "      <td>a434fa42</td>\n",
       "      <td>f028772b</td>\n",
       "      <td>ecad2386</td>\n",
       "      <td>7801e8d9</td>\n",
       "      <td>...</td>\n",
       "      <td>1</td>\n",
       "      <td>0</td>\n",
       "      <td>21764</td>\n",
       "      <td>216</td>\n",
       "      <td>36</td>\n",
       "      <td>2506</td>\n",
       "      <td>0</td>\n",
       "      <td>35</td>\n",
       "      <td>100077</td>\n",
       "      <td>157</td>\n",
       "    </tr>\n",
       "  </tbody>\n",
       "</table>\n",
       "<p>999999 rows × 24 columns</p>\n",
       "</div>"
      ],
      "text/plain": [
       "                          id  click      hour    C1  banner_pos   site_id  \\\n",
       "0       10258522767243640572      0  14102819  1010           1  85f751fd   \n",
       "1        7801328047195758573      0  14102516  1005           0  1fbe01fe   \n",
       "2       16046150418661423859      0  14102410  1005           1  92c7cbe7   \n",
       "3       12577991248190121985      0  14102316  1005           0  85f751fd   \n",
       "4        4502759030559738848      0  14102106  1005           0  1fbe01fe   \n",
       "...                      ...    ...       ...   ...         ...       ...   \n",
       "999994  10338162508164060481      1  14102302  1005           0  1fbe01fe   \n",
       "999995  11766595295761614335      0  14102207  1005           1  5b4d2eda   \n",
       "999996    502890454260961232      0  14102716  1005           1  5b4d2eda   \n",
       "999997  12081616419175799676      0  14102211  1005           0  85f751fd   \n",
       "999998  14661932444753430650      0  14102213  1005           0  9a977531   \n",
       "\n",
       "       site_domain site_category    app_id app_domain  ... device_type  \\\n",
       "0         c4e18dd6      50e219e0  3fd3187a   7801e8d9  ...           4   \n",
       "1         f3845767      28905ebd  ecad2386   7801e8d9  ...           1   \n",
       "2         6e882918      75fa27f6  ecad2386   7801e8d9  ...           1   \n",
       "3         c4e18dd6      50e219e0  7358e05e   b9528b13  ...           1   \n",
       "4         f3845767      28905ebd  ecad2386   7801e8d9  ...           1   \n",
       "...            ...           ...       ...        ...  ...         ...   \n",
       "999994    f3845767      28905ebd  ecad2386   7801e8d9  ...           1   \n",
       "999995    16a36ef3      f028772b  ecad2386   7801e8d9  ...           1   \n",
       "999996    16a36ef3      f028772b  ecad2386   7801e8d9  ...           1   \n",
       "999997    c4e18dd6      50e219e0  39fb6e33   d9b5648e  ...           1   \n",
       "999998    a434fa42      f028772b  ecad2386   7801e8d9  ...           1   \n",
       "\n",
       "       device_conn_type    C14  C15  C16   C17  C18   C19     C20  C21  \n",
       "0                     3  16252  320   50  1809    0   171  100162  126  \n",
       "1                     0  15706  320   50  1722    0    35      -1   79  \n",
       "2                     0  16615  320   50  1863    3    39      -1   23  \n",
       "3                     0   1039  320   50   178    3  1327  100148   15  \n",
       "4                     0  15702  320   50  1722    0    35  100084   79  \n",
       "...                 ...    ...  ...  ...   ...  ...   ...     ...  ...  \n",
       "999994                0  21761  320   50  2502    0    35  100083  221  \n",
       "999995                0  20362  320   50  2333    0    39      -1  157  \n",
       "999996                0  16615  320   50  1863    3    39      -1   23  \n",
       "999997                0  15840  320   50  1741    3   171  100114  100  \n",
       "999998                0  21764  216   36  2506    0    35  100077  157  \n",
       "\n",
       "[999999 rows x 24 columns]"
      ]
     },
     "execution_count": 59,
     "metadata": {},
     "output_type": "execute_result"
    }
   ],
   "source": [
    "df"
   ]
  },
  {
   "cell_type": "code",
   "execution_count": 17,
   "id": "6487d54c",
   "metadata": {},
   "outputs": [
    {
     "name": "stdout",
     "output_type": "stream",
     "text": [
      "999999\n",
      "id: \n",
      "[10258522767243640572  7801328047195758573 16046150418661423859 ...\n",
      "   502890454260961232 12081616419175799676 14661932444753430650]\n",
      "click: \n",
      "[0 1]\n",
      "hour: \n",
      "[14102819 14102516 14102410 14102316 14102106 14102413 14102716 14102620\n",
      " 14102102 14102915 14102202 14102105 14102405 14102203 14102315 14102723\n",
      " 14102305 14102206 14102800 14102208 14102903 14102107 14102122 14102200\n",
      " 14102814 14102520 14102311 14102905 14102810 14102320 14102919 14102612\n",
      " 14102212 14102304 14102514 14102604 14102616 14102100 14102618 14102503\n",
      " 14102209 14102820 14102907 14102705 14102900 14102408 14102205 14102103\n",
      " 14102108 14102515 14102823 14102517 14102116 14102518 14102217 14102719\n",
      " 14102302 14102805 14102310 14102602 14102112 14102521 14102712 14102119\n",
      " 14102508 14102916 14102614 14102407 14102307 14102811 14102220 14102113\n",
      " 14102219 14102617 14102904 14102721 14102813 14102901 14102600 14102802\n",
      " 14102505 14102807 14102207 14102109 14102511 14102309 14102509 14102418\n",
      " 14102401 14102622 14102706 14102500 14102318 14102909 14102513 14102606\n",
      " 14102918 14102912 14102715 14102406 14102611 14102115 14102221 14102409\n",
      " 14102911 14102709 14102210 14102806 14102300 14102708 14102621 14102308\n",
      " 14102601 14102703 14102215 14102317 14102817 14102711 14102314 14102506\n",
      " 14102718 14102123 14102804 14102808 14102402 14102415 14102404 14102118\n",
      " 14102921 14102615 14102523 14102204 14102403 14102702 14102223 14102213\n",
      " 14102816 14102312 14102720 14102218 14102416 14102722 14102322 14102222\n",
      " 14102910 14102906 14102822 14102414 14102908 14102501 14102609 14102700\n",
      " 14102512 14102809 14102717 14102821 14102812 14102111 14102608 14102613\n",
      " 14102110 14102519 14102411 14102121 14102603 14102923 14102114 14102914\n",
      " 14102211 14102507 14102917 14102214 14102417 14102610 14102420 14102319\n",
      " 14102920 14102101 14102815 14102607 14102303 14102216 14102623 14102801\n",
      " 14102818 14102301 14102913 14102510 14102117 14102605 14102104 14102412\n",
      " 14102313 14102419 14102502 14102504 14102710 14102803 14102522 14102707\n",
      " 14102201 14102323 14102400 14102701 14102423 14102704 14102120 14102421\n",
      " 14102619 14102422 14102713 14102306 14102321 14102902 14102714 14102922]\n",
      "C1: \n",
      "[1010 1005 1002 1012 1007 1001 1008]\n",
      "banner_pos: \n",
      "[1 0 2 3 7 4 5]\n",
      "site_id: \n",
      "['85f751fd' '1fbe01fe' '92c7cbe7' ... '54391e7b' 'f2ad8eb5' '34a00540']\n",
      "site_domain: \n",
      "['c4e18dd6' 'f3845767' '6e882918' ... '2da00723' 'b9dfec6d' '688c70f3']\n",
      "site_category: \n",
      "['50e219e0' '28905ebd' '75fa27f6' 'f028772b' '3e814130' '70fb0e29'\n",
      " 'f66779e6' 'c0dd3be3' '76b2941d' '335d28a8' '0569f928' '72722551'\n",
      " 'dedf689d' '9ccfa2ea' 'a818d37a' '8fd0aea4' '42a36e14' 'e787de0e'\n",
      " 'bcf865d9' '5378d028' 'da34532e']\n",
      "app_id: \n",
      "['3fd3187a' 'ecad2386' '7358e05e' ... '571a79c6' '592a665c' 'bad03dbf']\n",
      "app_domain: \n",
      "['7801e8d9' 'b9528b13' 'ae637522' 'aefc06bd' '6f7ca2ba' '5c5a694b'\n",
      " '82e27996' '2347f47a' 'df32afa9' 'b8d325c3' '0e8616ad' 'd9b5648e'\n",
      " '5b9c592b' '885c7f3f' '33da2e74' '15ec7f39' '5c620f04' 'd18c63a1'\n",
      " '45a51db4' '0654b444' '99b4c806' '1ed56ded' '2b627705' '7a9371fa'\n",
      " 'ad63ec9b' '9ec164d3' '92895b94' '813f3323' '27ee373d' 'b5f3b24a'\n",
      " 'a8b0bf20' 'e5d5313f' '63f57be0' 'f435cae0' 'd6feb1a4' 'b51aefa8'\n",
      " 'c6824def' '47464e95' 'b12ff13e' '448ca2e3' '0d79ee56' '43cf4f06'\n",
      " '18eb4e75' 'f2f777fb' '828da833' 'bb6bcbae' '3feeed1e' '7eec2ab0'\n",
      " 'dcdba109' '700adbf0' 'b408d42a' 'da45f10e' '1ea19ec4' 'ef1fc174'\n",
      " '51174fb1' 'fd5f0ee2' '3c992420' '1dc9b529' '7a94af76' '7a0640b2'\n",
      " '6a0a3a9d' '916026d9' 'f7f22564' '063914ab' '3ca588d4' '756ffb85'\n",
      " '5ac0b939' 'db829551' 'd9e67b62' '97efe5c6' '7b833eb9' '97d745c9'\n",
      " 'ead20d3d' '57cf0548' 'cb36afb8' 'bd8c1fdc' 'f3ad7798' '1cbecd39'\n",
      " 'b0920d40' '3fa331b0' 'e81561d1' 'd89240fd' 'e24414c4' 'b7af3e0a'\n",
      " 'e29fc2b7' '713c0c91' '88293ffa' 'e5d008b4' '9ecca2dd' '6b062297'\n",
      " '7d58e760' 'c343527e' 'd3e7c965' 'be452468' 'afdf1f54' '59e465f4'\n",
      " 'f09de4dc' '65b2af4c' '7cf770da' '8d87821d' 'b299335a' '15c23f8e'\n",
      " 'd25f310a' '0b7d3d7d' '9acfe436' 'f5a7c834' 'ce2ca36f' 'a271c340'\n",
      " '2022d54e' 'e787a6bc' '73fc6786' 'f7eba725' '6aafed40' '4fafd4c4'\n",
      " '5af432e2' '863f4950' '0eb1a401' 'f75ccedd' '26378630' '1cb641ec'\n",
      " 'c87b28e6' '2ef29720' 'fc41b20c' '90d75517' '1d5e09f4' '9492ae41'\n",
      " '298309ba' '2c1c31c6' '12aaf71f' 'b50610ee' 'b9215c20' 'aee494fb'\n",
      " '323f3fe5' '1c895c8c' '203a4d02' '2619a4f7' 'fd68cbd8' 'f48b6635'\n",
      " '5211766b' 'fe369646' 'fd0f197b' 'f84a2400' '7dab23c8' '519a450d'\n",
      " '48aec236' 'ee50c840' '9e96e8cf' 'b97def0d' '03da86e1' 'dec87c2e'\n",
      " '6a90b0cb' 'b2816726' '999f1fac' '5d4da5b0' '47db8711' '13b4d1e1'\n",
      " 'a5204413' 'b88e8096' '38c660a5' '5da9e6db' 'd98095bb' '5b3f66ff'\n",
      " '9d65dcb9' 'b3c288b7' '90322ef6' 'bdde4c9b' '1c666936' '5bcedd7d'\n",
      " '44324ff4' 'bb8f7b3f' 'ca7441a4' '2d332391' '002e4064' 'b4da5985'\n",
      " '800100e0' 'b6c7e8e1' '449e219f' '621d726b' '8e961dc9' '9c566260'\n",
      " '8ab0d4f4' 'e559a22e' '13ed06ee' 'dcb74110' '28a85b13' '435769ed'\n",
      " '9830a8fb' '9cc1123d' '90706f5d' '23e2c80e' '26894d3c' 'ed7f6170'\n",
      " 'ed0f64d8' 'a841febe' '1ddc989f' '29cd071c' '17578ec3' '86adec6c'\n",
      " '6437e20c' '39e34dc5' '56eabb45' '06a7ad59' '92036a11' 'c91cbbb4'\n",
      " 'c5c485e8' 'd8073046' 'fb4fee83' '7a492380' 'dbf5ab77' '8bb7dba9'\n",
      " 'fea0d84a' 'af237497' '391ef1c3' '5ced45bd']\n",
      "app_category: \n",
      "['cef3e649' '07d7df22' '0f2161f8' '8ded1f7a' 'f95efa07' '75d80bbe'\n",
      " 'fc6fa53d' 'd1327cf5' 'dc97ec06' '4ce2e9fc' '09481d60' '879c24eb'\n",
      " '0f9a328c' 'a86a3e89' '2281a340' '8df2e842' 'a3c42688' '4681bb9d'\n",
      " '2fc4f2aa' '0bfbc358' '5326cf99' '18b1e0be' '79f0b860' 'a7fd01ec'\n",
      " '7113d72a' '4b7ade46' 'bf8ac856']\n",
      "device_id: \n",
      "['c437867a' 'a99f214a' '5438694d' ... 'e8015cdb' '3e6a9575' '13080c30']\n",
      "device_ip: \n",
      "['08867d96' 'ef5664fb' 'a7f3ffed' ... '14bb0119' '668b7aab' '49714253']\n",
      "device_model: \n",
      "['f07e20f8' 'edead9f4' 'dc70b0f9' ... '2803d465' '68f55e53' '06bc0559']\n",
      "device_type: \n",
      "[4 1 0 5 2]\n",
      "device_conn_type: \n",
      "[3 0 2 5]\n",
      "C14: \n",
      "[16252 15706 16615 ... 18591 22477 22229]\n",
      "C15: \n",
      "[ 320  300  216  728  120  768 1024  480]\n",
      "C16: \n",
      "[  50  250   36   90  480   20 1024  768  320]\n",
      "C17: \n",
      "[1809 1722 1863  178 2424 2299 2281 2333 2443 2500 2487 2532  479 2295\n",
      " 1899 2498 2528 1637 2684 2502  576 1800 2340 2676 2507 2643  423 2524\n",
      " 2036 1973 1872 2665 2624 2545 2513  761 1993 2331 2495 2685 2519 2480\n",
      " 2506  572 2227 2503 2526 2104 2201 2489 2505 2518 2229 2492 1447 2504\n",
      " 2264  122 2283 1092 2597 2271 2668 1994 2590 2491 2162 2348  112 2420\n",
      " 1526  906 2374  544 2550 2580 1991 1873 2645 2688 2537 1882 2566 2682\n",
      " 2709 2639 2641 2467 2617 2683 2512 2616 1161 2161 2284 2083 2323 1887\n",
      " 2691 2158 2043 2602 2260 2716 1769 2493 2650 2556 2610 2325 1921 2728\n",
      " 2636 2657 2039 2667 2572 2060 2253 2009  547 2303 1780 2523 1955 2446\n",
      " 2496 2439 2225 2371 2625 2647  571 1821 2369 1248  549 2553 2640 2548\n",
      " 2478 2655 1741 2515 2658 1974 2481 2576 2543 2654 2441 2291 1895 2573\n",
      " 2546 2724 2547 2619 1934 1752  550 2664 2569 2494 2286 1926 2555 2637\n",
      " 2680 1823 1702 2649 2454 2699 2551 2721 2509 2554 2577 2450  768 2669\n",
      " 2533 2522 1946 2476 2656  898 2717 2599 2600 2607 2675  613 2339 2351\n",
      " 2671 2226  863 2707 1740 2449 2615  901 2560 2673 2729 2609 2561 1076\n",
      " 2242 2574 2589 1835 2263 2282 2672 2681 2497 2153 1694 2307 1698 2611\n",
      " 2662 2482 2644 2372 2712 2661 2316 2429 1996  153 2534 2598 2535 2440\n",
      " 2578 1884 2714 2181 2462 2520 2552 2606 2608 1528  394 2510  686 2620\n",
      " 2713 2627 1160 2425 1939 2558 2338 1174 2312 2101 2508 2436 2720 2570\n",
      " 2531 2187 2565 2434 2544 2646  827 2612 2571 2278 2648 2695 2603 2708\n",
      " 1784 2579 2679 2613 1401 2428 2587 2698 2710 2421 2206 2659 2638 1272\n",
      " 2642 1255 2583 2601 2634 2306  937 2706 2542 1965 2727 2394 2604 2279\n",
      " 2199 2635 2633 2471 2653 2501 2285 2711 1932 2631 2304 1507 2581 2557\n",
      " 2397 1903 2594 2455 2427 1685 2289 2660 2705 2536 1960 2435  196 2292\n",
      " 2663 2614 2666  832 2412 2527 2418 2686 2453 2677 2485 2483 2438 2703\n",
      " 2250 2539 2016 1515 2479 2154 2530 2605 2591 2563 2451 1042 2270 1149\n",
      " 1972 2689 2511 2630 2582 2670 2678 1008 2715 2588 2346 2465 2218 1107\n",
      " 2674 2687 2702 1141 1426 2592  873 2593 2459 2390 2651 2448  872 2375\n",
      " 2568 2525 2447 2575  644 2541 2084]\n",
      "C18: \n",
      "[0 3 1 2]\n",
      "C19: \n",
      "[ 171   35   39 1327  161   47   34  547  679  431   41  167 1065  175\n",
      " 1063   33  297  559  169  687  427  163  811 1319 1451  935  419  291\n",
      "  815  675  673  801  290   38  303  555 1711  551  809  937  681 1831\n",
      " 1583 1059  553  299   43  939  943 1315  289 1839  813 1835  423  295\n",
      "  417  425 1071   45  683  545 1195 1447  677]\n",
      "C20: \n",
      "[100162     -1 100148 100084 100191 100182 100081 100048 100077 100074\n",
      " 100111 100046 100103 100075 100176 100189 100083 100193 100034 100068\n",
      " 100031 100076 100160 100105 100000 100039 100156 100003 100079 100228\n",
      " 100190 100060 100141 100013 100221 100050 100188 100199 100202 100173\n",
      " 100020 100241 100200 100177 100192 100181 100194 100233 100144 100215\n",
      " 100005 100094 100161 100155 100112 100071 100004 100028 100057 100021\n",
      " 100131 100019 100217 100114 100143 100210 100055 100119 100151 100128\n",
      " 100130 100171 100065 100061 100248 100059 100183 100032 100224 100172\n",
      " 100150 100062 100070 100022 100002 100225 100051 100106 100133 100090\n",
      " 100056 100072 100113 100170 100121 100101 100049 100212 100012 100064\n",
      " 100139 100097 100054 100052 100168 100179 100025 100096 100026 100135\n",
      " 100088 100149 100010 100166 100117 100029 100205 100195 100152 100086\n",
      " 100041 100073 100040 100063 100123 100058 100087 100126 100016 100093\n",
      " 100185 100024 100109 100095 100053 100001 100033 100099 100229 100037\n",
      " 100124 100213 100178 100107 100206 100163 100108 100165 100137 100043\n",
      " 100122 100091 100244 100138 100082 100153 100100 100175 100186 100078\n",
      " 100169 100098]\n",
      "C21: \n",
      "[126  79  23  15  71  52  42 157  90  51  48 117  61 221  91  32 159 156\n",
      "  68  33 212 171  43  17  13 111  95  93 194  69  35 108 182 101  70 102\n",
      "  46 100 178 253  16  82 112 110 204  20 116 163  94 177 251  85   1 219\n",
      " 195]\n"
     ]
    }
   ],
   "source": [
    "print(len(df))\n",
    "for i in df.columns:\n",
    "    print(i +': ')\n",
    "    print(df[i].unique())"
   ]
  },
  {
   "cell_type": "code",
   "execution_count": 18,
   "id": "4c660090",
   "metadata": {},
   "outputs": [
    {
     "name": "stdout",
     "output_type": "stream",
     "text": [
      "id 999999\n",
      "click 2\n",
      "hour 216\n",
      "C1 7\n",
      "banner_pos 7\n",
      "site_id 2625\n",
      "site_domain 2825\n",
      "site_category 21\n",
      "app_id 3101\n",
      "app_domain 214\n",
      "app_category 27\n",
      "device_id 151353\n",
      "device_ip 546323\n",
      "device_model 5179\n",
      "device_type 5\n",
      "device_conn_type 4\n",
      "C14 2144\n",
      "C15 8\n",
      "C16 9\n",
      "C17 399\n",
      "C18 4\n",
      "C19 65\n",
      "C20 162\n",
      "C21 55\n"
     ]
    }
   ],
   "source": [
    "col = df.columns\n",
    "for i in col:\n",
    "    print(i,len(df[i].unique()))"
   ]
  },
  {
   "cell_type": "markdown",
   "id": "73e0873d",
   "metadata": {},
   "source": [
    "## EDA"
   ]
  },
  {
   "cell_type": "code",
   "execution_count": 20,
   "id": "6b2d8122",
   "metadata": {},
   "outputs": [
    {
     "data": {
      "text/plain": [
       "<AxesSubplot:>"
      ]
     },
     "execution_count": 20,
     "metadata": {},
     "output_type": "execute_result"
    },
    {
     "data": {
      "image/png": "[encoded data removed]",
      "text/plain": [
       "<Figure size 432x288 with 1 Axes>"
      ]
     },
     "metadata": {
      "needs_background": "light"
     },
     "output_type": "display_data"
    }
   ],
   "source": [
    "df['hour'].value_counts().plot(kind='bar')"
   ]
  },
  {
   "cell_type": "code",
   "execution_count": 21,
   "id": "98096ee2",
   "metadata": {},
   "outputs": [
    {
     "data": {
      "text/plain": [
       "<AxesSubplot:>"
      ]
     },
     "execution_count": 21,
     "metadata": {},
     "output_type": "execute_result"
    },
    {
     "data": {
      "image/png": "[encoded data removed]",
      "text/plain": [
       "<Figure size 432x288 with 1 Axes>"
      ]
     },
     "metadata": {
      "needs_background": "light"
     },
     "output_type": "display_data"
    }
   ],
   "source": [
    "df['C1'].value_counts().plot(kind='bar')"
   ]
  },
  {
   "cell_type": "code",
   "execution_count": 22,
   "id": "7eef1667",
   "metadata": {},
   "outputs": [
    {
     "data": {
      "text/plain": [
       "<AxesSubplot:>"
      ]
     },
     "execution_count": 22,
     "metadata": {},
     "output_type": "execute_result"
    },
    {
     "data": {
      "image/png": "[encoded data removed]",
      "text/plain": [
       "<Figure size 432x288 with 1 Axes>"
      ]
     },
     "metadata": {
      "needs_background": "light"
     },
     "output_type": "display_data"
    }
   ],
   "source": [
    "df['banner_pos'].value_counts().plot(kind='bar')"
   ]
  },
  {
   "cell_type": "code",
   "execution_count": 23,
   "id": "ad4acf72",
   "metadata": {},
   "outputs": [
    {
     "data": {
      "text/plain": [
       "<AxesSubplot:>"
      ]
     },
     "execution_count": 23,
     "metadata": {},
     "output_type": "execute_result"
    },
    {
     "data": {
      "image/png": "[encoded data removed]",
      "text/plain": [
       "<Figure size 1440x576 with 1 Axes>"
      ]
     },
     "metadata": {
      "needs_background": "light"
     },
     "output_type": "display_data"
    }
   ],
   "source": [
    "plt.figure(figsize=(20,8))\n",
    "df['site_id'].value_counts().plot(kind='bar')"
   ]
  },
  {
   "cell_type": "code",
   "execution_count": 24,
   "id": "4eaf8e85",
   "metadata": {},
   "outputs": [
    {
     "data": {
      "text/plain": [
       "<AxesSubplot:>"
      ]
     },
     "execution_count": 24,
     "metadata": {},
     "output_type": "execute_result"
    },
    {
     "data": {
      "image/png": "[encoded data removed]",
      "text/plain": [
       "<Figure size 432x288 with 1 Axes>"
      ]
     },
     "metadata": {
      "needs_background": "light"
     },
     "output_type": "display_data"
    }
   ],
   "source": [
    "df['site_domain'].value_counts().plot(kind='bar')"
   ]
  },
  {
   "cell_type": "code",
   "execution_count": 25,
   "id": "fc710255",
   "metadata": {},
   "outputs": [
    {
     "data": {
      "text/plain": [
       "<AxesSubplot:>"
      ]
     },
     "execution_count": 25,
     "metadata": {},
     "output_type": "execute_result"
    },
    {
     "data": {
      "image/png": "[encoded data removed]",
      "text/plain": [
       "<Figure size 432x288 with 1 Axes>"
      ]
     },
     "metadata": {
      "needs_background": "light"
     },
     "output_type": "display_data"
    }
   ],
   "source": [
    "df['site_category'].value_counts().plot(kind='bar')"
   ]
  },
  {
   "cell_type": "code",
   "execution_count": 28,
   "id": "9760026c",
   "metadata": {},
   "outputs": [
    {
     "data": {
      "text/plain": [
       "<AxesSubplot:>"
      ]
     },
     "execution_count": 28,
     "metadata": {},
     "output_type": "execute_result"
    },
    {
     "data": {
      "image/png": "[encoded data removed]",
      "text/plain": [
       "<Figure size 1440x576 with 1 Axes>"
      ]
     },
     "metadata": {
      "needs_background": "light"
     },
     "output_type": "display_data"
    }
   ],
   "source": [
    "plt.figure(figsize=(20,8))\n",
    "df['app_id'].value_counts().plot(kind='bar')"
   ]
  },
  {
   "cell_type": "code",
   "execution_count": 31,
   "id": "08bec793",
   "metadata": {},
   "outputs": [
    {
     "data": {
      "text/plain": [
       "<AxesSubplot:>"
      ]
     },
     "execution_count": 31,
     "metadata": {},
     "output_type": "execute_result"
    },
    {
     "data": {
      "image/png": "[encoded data removed]",
      "text/plain": [
       "<Figure size 1440x576 with 1 Axes>"
      ]
     },
     "metadata": {
      "needs_background": "light"
     },
     "output_type": "display_data"
    }
   ],
   "source": [
    "plt.figure(figsize=(20,8))\n",
    "df['app_domain'].value_counts().plot(kind='bar')"
   ]
  },
  {
   "cell_type": "code",
   "execution_count": 32,
   "id": "214dbc66",
   "metadata": {},
   "outputs": [
    {
     "data": {
      "text/plain": [
       "<AxesSubplot:>"
      ]
     },
     "execution_count": 32,
     "metadata": {},
     "output_type": "execute_result"
    },
    {
     "data": {
      "image/png": "[encoded data removed]",
      "text/plain": [
       "<Figure size 432x288 with 1 Axes>"
      ]
     },
     "metadata": {
      "needs_background": "light"
     },
     "output_type": "display_data"
    }
   ],
   "source": [
    "df['app_category'].value_counts().plot(kind='bar')"
   ]
  },
  {
   "cell_type": "code",
   "execution_count": null,
   "id": "1c34e9b0",
   "metadata": {},
   "outputs": [],
   "source": [
    "df['device_id'].value_counts().plot(kind='bar')"
   ]
  },
  {
   "cell_type": "code",
   "execution_count": null,
   "id": "d67435a6",
   "metadata": {},
   "outputs": [],
   "source": [
    "df['device_ip'].value_counts().plot(kind='bar')"
   ]
  },
  {
   "cell_type": "code",
   "execution_count": null,
   "id": "7d202010",
   "metadata": {},
   "outputs": [],
   "source": [
    "df['device_model'].value_counts().plot(kind='bar')"
   ]
  },
  {
   "cell_type": "code",
   "execution_count": 12,
   "id": "9cd6cac5",
   "metadata": {},
   "outputs": [
    {
     "data": {
      "text/plain": [
       "<AxesSubplot:>"
      ]
     },
     "execution_count": 12,
     "metadata": {},
     "output_type": "execute_result"
    },
    {
     "data": {
      "image/png": "[encoded data removed]",
      "text/plain": [
       "<Figure size 432x288 with 1 Axes>"
      ]
     },
     "metadata": {
      "needs_background": "light"
     },
     "output_type": "display_data"
    }
   ],
   "source": [
    "df['device_type'].value_counts().plot(kind='bar')"
   ]
  },
  {
   "cell_type": "code",
   "execution_count": null,
   "id": "0e7db91e",
   "metadata": {},
   "outputs": [],
   "source": [
    "df['device_conn_type'].value_counts().plot(kind='bar')"
   ]
  },
  {
   "cell_type": "code",
   "execution_count": null,
   "id": "222a4633",
   "metadata": {},
   "outputs": [],
   "source": [
    "df['C14'].value_counts().plot(kind='bar')"
   ]
  },
  {
   "cell_type": "code",
   "execution_count": null,
   "id": "b8112c24",
   "metadata": {},
   "outputs": [],
   "source": [
    "df['C15'].value_counts().plot(kind='bar')"
   ]
  },
  {
   "cell_type": "code",
   "execution_count": null,
   "id": "740ade5e",
   "metadata": {},
   "outputs": [],
   "source": [
    "df['C16'].value_counts().plot(kind='bar')"
   ]
  },
  {
   "cell_type": "code",
   "execution_count": null,
   "id": "69211e64",
   "metadata": {},
   "outputs": [],
   "source": [
    "df['C17'].value_counts().plot(kind='bar')"
   ]
  },
  {
   "cell_type": "code",
   "execution_count": null,
   "id": "5371289d",
   "metadata": {},
   "outputs": [],
   "source": [
    "df['C18'].value_counts().plot(kind='bar')"
   ]
  },
  {
   "cell_type": "code",
   "execution_count": null,
   "id": "e7bf0727",
   "metadata": {},
   "outputs": [],
   "source": [
    "df['C19'].value_counts().plot(kind='bar')"
   ]
  },
  {
   "cell_type": "code",
   "execution_count": 30,
   "id": "d4c6308c",
   "metadata": {},
   "outputs": [
    {
     "data": {
      "text/plain": [
       "<AxesSubplot:>"
      ]
     },
     "execution_count": 30,
     "metadata": {},
     "output_type": "execute_result"
    },
    {
     "data": {
      "image/png": "[encoded data removed]",
      "text/plain": [
       "<Figure size 1440x576 with 1 Axes>"
      ]
     },
     "metadata": {
      "needs_background": "light"
     },
     "output_type": "display_data"
    }
   ],
   "source": [
    "plt.figure(figsize=(20,8))\n",
    "df['C20'].value_counts().plot(kind='bar')"
   ]
  },
  {
   "cell_type": "code",
   "execution_count": null,
   "id": "f54318a2",
   "metadata": {},
   "outputs": [],
   "source": [
    "df['C21'].value_counts().plot(kind='bar')"
   ]
  },
  {
   "cell_type": "markdown",
   "id": "effa593f",
   "metadata": {},
   "source": [
    "### Feature engineering"
   ]
  },
  {
   "cell_type": "code",
   "execution_count": 60,
   "id": "963d1d1f",
   "metadata": {},
   "outputs": [
    {
     "data": {
      "text/plain": [
       "0           Tuesday\n",
       "1          Saturday\n",
       "2            Friday\n",
       "3          Thursday\n",
       "4           Tuesday\n",
       "            ...    \n",
       "999994     Thursday\n",
       "999995    Wednesday\n",
       "999996       Monday\n",
       "999997    Wednesday\n",
       "999998    Wednesday\n",
       "Name: weekday, Length: 999999, dtype: object"
      ]
     },
     "execution_count": 60,
     "metadata": {},
     "output_type": "execute_result"
    }
   ],
   "source": [
    "#weekdays\n",
    "def get_date(hour):\n",
    "    y = '20'+str(hour)[:2]\n",
    "    m = str(hour)[2:4]\n",
    "    d = str(hour)[4:6]\n",
    "    return y + '-' + m + '-' + d\n",
    "\n",
    "df['weekday'] = pd.to_datetime(df.hour.apply(get_date)).dt.day_name()\n",
    "df['weekday']"
   ]
  },
  {
   "cell_type": "code",
   "execution_count": 61,
   "id": "4b281b38",
   "metadata": {},
   "outputs": [
    {
     "data": {
      "text/plain": [
       "0         19\n",
       "1         16\n",
       "2         10\n",
       "3         16\n",
       "4          6\n",
       "          ..\n",
       "999994     2\n",
       "999995     7\n",
       "999996    16\n",
       "999997    11\n",
       "999998    13\n",
       "Name: hour, Length: 999999, dtype: int64"
      ]
     },
     "execution_count": 61,
     "metadata": {},
     "output_type": "execute_result"
    }
   ],
   "source": [
    "#hour\n",
    "def get_hour(hour):\n",
    "    h = str(hour)[6:8]\n",
    "    h = int(h)\n",
    "    return h\n",
    "\n",
    "df['hour'] = df.hour.apply(get_hour)\n",
    "df['hour']"
   ]
  },
  {
   "cell_type": "code",
   "execution_count": 62,
   "id": "1967657e",
   "metadata": {},
   "outputs": [
    {
     "data": {
      "text/plain": [
       "0         5\n",
       "1         5\n",
       "2         3\n",
       "3         5\n",
       "4         2\n",
       "         ..\n",
       "999994    1\n",
       "999995    2\n",
       "999996    5\n",
       "999997    3\n",
       "999998    4\n",
       "Name: cut_hour, Length: 999999, dtype: int64"
      ]
     },
     "execution_count": 62,
     "metadata": {},
     "output_type": "execute_result"
    }
   ],
   "source": [
    "def cut_hour(x):\n",
    "    if x in [0,1,2,3]: return 1\n",
    "    elif x in [4,5,6,7]: return 2\n",
    "    elif x in [8,9,10,11]: return 3\n",
    "    elif x in [12,13,14,15]: return 4\n",
    "    elif x in [16,17,18,19]: return 5\n",
    "    else: return 6\n",
    "\n",
    "df['cut_hour'] = df['hour'].apply(cut_hour)\n",
    "df['cut_hour']"
   ]
  },
  {
   "cell_type": "code",
   "execution_count": 63,
   "id": "e10fe541",
   "metadata": {},
   "outputs": [],
   "source": [
    "df = df.drop(['id','hour'], axis=1)"
   ]
  },
  {
   "cell_type": "code",
   "execution_count": 65,
   "id": "248ca8f4",
   "metadata": {},
   "outputs": [
    {
     "name": "stdout",
     "output_type": "stream",
     "text": [
      "<class 'pandas.core.frame.DataFrame'>\n",
      "RangeIndex: 999999 entries, 0 to 999998\n",
      "Data columns (total 24 columns):\n",
      " #   Column            Non-Null Count   Dtype \n",
      "---  ------            --------------   ----- \n",
      " 0   click             999999 non-null  int64 \n",
      " 1   C1                999999 non-null  int64 \n",
      " 2   banner_pos        999999 non-null  int64 \n",
      " 3   site_id           999999 non-null  object\n",
      " 4   site_domain       999999 non-null  object\n",
      " 5   site_category     999999 non-null  object\n",
      " 6   app_id            999999 non-null  object\n",
      " 7   app_domain        999999 non-null  object\n",
      " 8   app_category      999999 non-null  object\n",
      " 9   device_id         999999 non-null  object\n",
      " 10  device_ip         999999 non-null  object\n",
      " 11  device_model      999999 non-null  object\n",
      " 12  device_type       999999 non-null  int64 \n",
      " 13  device_conn_type  999999 non-null  int64 \n",
      " 14  C14               999999 non-null  int64 \n",
      " 15  C15               999999 non-null  int64 \n",
      " 16  C16               999999 non-null  int64 \n",
      " 17  C17               999999 non-null  int64 \n",
      " 18  C18               999999 non-null  int64 \n",
      " 19  C19               999999 non-null  int64 \n",
      " 20  C20               999999 non-null  int64 \n",
      " 21  C21               999999 non-null  int64 \n",
      " 22  weekday           999999 non-null  object\n",
      " 23  cut_hour          999999 non-null  object\n",
      "dtypes: int64(13), object(11)\n",
      "memory usage: 183.1+ MB\n"
     ]
    }
   ],
   "source": [
    "df1 = df.copy()\n",
    "df1[['cut_hour']] = df1[['cut_hour']].astype('object')\n",
    "df1.info()"
   ]
  },
  {
   "cell_type": "markdown",
   "id": "3cf840a2",
   "metadata": {},
   "source": [
    "### Frequency encoding"
   ]
  },
  {
   "cell_type": "code",
   "execution_count": 28,
   "id": "927d7980",
   "metadata": {},
   "outputs": [
    {
     "data": {
      "text/html": [
       "<div>\n",
       "<style scoped>\n",
       "    .dataframe tbody tr th:only-of-type {\n",
       "        vertical-align: middle;\n",
       "    }\n",
       "\n",
       "    .dataframe tbody tr th {\n",
       "        vertical-align: top;\n",
       "    }\n",
       "\n",
       "    .dataframe thead th {\n",
       "        text-align: right;\n",
       "    }\n",
       "</style>\n",
       "<table border=\"1\" class=\"dataframe\">\n",
       "  <thead>\n",
       "    <tr style=\"text-align: right;\">\n",
       "      <th></th>\n",
       "      <th>click</th>\n",
       "      <th>C1</th>\n",
       "      <th>banner_pos</th>\n",
       "      <th>site_id</th>\n",
       "      <th>site_domain</th>\n",
       "      <th>site_category</th>\n",
       "      <th>app_id</th>\n",
       "      <th>app_domain</th>\n",
       "      <th>app_category</th>\n",
       "      <th>device_id</th>\n",
       "      <th>...</th>\n",
       "      <th>C14</th>\n",
       "      <th>C15</th>\n",
       "      <th>C16</th>\n",
       "      <th>C17</th>\n",
       "      <th>C18</th>\n",
       "      <th>C19</th>\n",
       "      <th>C20</th>\n",
       "      <th>C21</th>\n",
       "      <th>weekday</th>\n",
       "      <th>cut_hour</th>\n",
       "    </tr>\n",
       "  </thead>\n",
       "  <tbody>\n",
       "    <tr>\n",
       "      <th>0</th>\n",
       "      <td>0</td>\n",
       "      <td>1010</td>\n",
       "      <td>1</td>\n",
       "      <td>85f751fd</td>\n",
       "      <td>c4e18dd6</td>\n",
       "      <td>50e219e0</td>\n",
       "      <td>3fd3187a</td>\n",
       "      <td>7801e8d9</td>\n",
       "      <td>cef3e649</td>\n",
       "      <td>c437867a</td>\n",
       "      <td>...</td>\n",
       "      <td>16252</td>\n",
       "      <td>320</td>\n",
       "      <td>50</td>\n",
       "      <td>1809</td>\n",
       "      <td>0</td>\n",
       "      <td>171</td>\n",
       "      <td>100162</td>\n",
       "      <td>126</td>\n",
       "      <td>Tuesday</td>\n",
       "      <td>5</td>\n",
       "    </tr>\n",
       "    <tr>\n",
       "      <th>1</th>\n",
       "      <td>0</td>\n",
       "      <td>1005</td>\n",
       "      <td>0</td>\n",
       "      <td>1fbe01fe</td>\n",
       "      <td>f3845767</td>\n",
       "      <td>28905ebd</td>\n",
       "      <td>ecad2386</td>\n",
       "      <td>7801e8d9</td>\n",
       "      <td>07d7df22</td>\n",
       "      <td>a99f214a</td>\n",
       "      <td>...</td>\n",
       "      <td>15706</td>\n",
       "      <td>320</td>\n",
       "      <td>50</td>\n",
       "      <td>1722</td>\n",
       "      <td>0</td>\n",
       "      <td>35</td>\n",
       "      <td>-1</td>\n",
       "      <td>79</td>\n",
       "      <td>Saturday</td>\n",
       "      <td>5</td>\n",
       "    </tr>\n",
       "    <tr>\n",
       "      <th>2</th>\n",
       "      <td>0</td>\n",
       "      <td>1005</td>\n",
       "      <td>1</td>\n",
       "      <td>92c7cbe7</td>\n",
       "      <td>6e882918</td>\n",
       "      <td>75fa27f6</td>\n",
       "      <td>ecad2386</td>\n",
       "      <td>7801e8d9</td>\n",
       "      <td>07d7df22</td>\n",
       "      <td>a99f214a</td>\n",
       "      <td>...</td>\n",
       "      <td>16615</td>\n",
       "      <td>320</td>\n",
       "      <td>50</td>\n",
       "      <td>1863</td>\n",
       "      <td>3</td>\n",
       "      <td>39</td>\n",
       "      <td>-1</td>\n",
       "      <td>23</td>\n",
       "      <td>Friday</td>\n",
       "      <td>3</td>\n",
       "    </tr>\n",
       "    <tr>\n",
       "      <th>3</th>\n",
       "      <td>0</td>\n",
       "      <td>1005</td>\n",
       "      <td>0</td>\n",
       "      <td>85f751fd</td>\n",
       "      <td>c4e18dd6</td>\n",
       "      <td>50e219e0</td>\n",
       "      <td>7358e05e</td>\n",
       "      <td>b9528b13</td>\n",
       "      <td>cef3e649</td>\n",
       "      <td>5438694d</td>\n",
       "      <td>...</td>\n",
       "      <td>1039</td>\n",
       "      <td>320</td>\n",
       "      <td>50</td>\n",
       "      <td>178</td>\n",
       "      <td>3</td>\n",
       "      <td>1327</td>\n",
       "      <td>100148</td>\n",
       "      <td>15</td>\n",
       "      <td>Thursday</td>\n",
       "      <td>5</td>\n",
       "    </tr>\n",
       "    <tr>\n",
       "      <th>4</th>\n",
       "      <td>0</td>\n",
       "      <td>1005</td>\n",
       "      <td>0</td>\n",
       "      <td>1fbe01fe</td>\n",
       "      <td>f3845767</td>\n",
       "      <td>28905ebd</td>\n",
       "      <td>ecad2386</td>\n",
       "      <td>7801e8d9</td>\n",
       "      <td>07d7df22</td>\n",
       "      <td>a99f214a</td>\n",
       "      <td>...</td>\n",
       "      <td>15702</td>\n",
       "      <td>320</td>\n",
       "      <td>50</td>\n",
       "      <td>1722</td>\n",
       "      <td>0</td>\n",
       "      <td>35</td>\n",
       "      <td>100084</td>\n",
       "      <td>79</td>\n",
       "      <td>Tuesday</td>\n",
       "      <td>2</td>\n",
       "    </tr>\n",
       "    <tr>\n",
       "      <th>...</th>\n",
       "      <td>...</td>\n",
       "      <td>...</td>\n",
       "      <td>...</td>\n",
       "      <td>...</td>\n",
       "      <td>...</td>\n",
       "      <td>...</td>\n",
       "      <td>...</td>\n",
       "      <td>...</td>\n",
       "      <td>...</td>\n",
       "      <td>...</td>\n",
       "      <td>...</td>\n",
       "      <td>...</td>\n",
       "      <td>...</td>\n",
       "      <td>...</td>\n",
       "      <td>...</td>\n",
       "      <td>...</td>\n",
       "      <td>...</td>\n",
       "      <td>...</td>\n",
       "      <td>...</td>\n",
       "      <td>...</td>\n",
       "      <td>...</td>\n",
       "    </tr>\n",
       "    <tr>\n",
       "      <th>999994</th>\n",
       "      <td>1</td>\n",
       "      <td>1005</td>\n",
       "      <td>0</td>\n",
       "      <td>1fbe01fe</td>\n",
       "      <td>f3845767</td>\n",
       "      <td>28905ebd</td>\n",
       "      <td>ecad2386</td>\n",
       "      <td>7801e8d9</td>\n",
       "      <td>07d7df22</td>\n",
       "      <td>a99f214a</td>\n",
       "      <td>...</td>\n",
       "      <td>21761</td>\n",
       "      <td>320</td>\n",
       "      <td>50</td>\n",
       "      <td>2502</td>\n",
       "      <td>0</td>\n",
       "      <td>35</td>\n",
       "      <td>100083</td>\n",
       "      <td>221</td>\n",
       "      <td>Thursday</td>\n",
       "      <td>1</td>\n",
       "    </tr>\n",
       "    <tr>\n",
       "      <th>999995</th>\n",
       "      <td>0</td>\n",
       "      <td>1005</td>\n",
       "      <td>1</td>\n",
       "      <td>5b4d2eda</td>\n",
       "      <td>16a36ef3</td>\n",
       "      <td>f028772b</td>\n",
       "      <td>ecad2386</td>\n",
       "      <td>7801e8d9</td>\n",
       "      <td>07d7df22</td>\n",
       "      <td>a99f214a</td>\n",
       "      <td>...</td>\n",
       "      <td>20362</td>\n",
       "      <td>320</td>\n",
       "      <td>50</td>\n",
       "      <td>2333</td>\n",
       "      <td>0</td>\n",
       "      <td>39</td>\n",
       "      <td>-1</td>\n",
       "      <td>157</td>\n",
       "      <td>Wednesday</td>\n",
       "      <td>2</td>\n",
       "    </tr>\n",
       "    <tr>\n",
       "      <th>999996</th>\n",
       "      <td>0</td>\n",
       "      <td>1005</td>\n",
       "      <td>1</td>\n",
       "      <td>5b4d2eda</td>\n",
       "      <td>16a36ef3</td>\n",
       "      <td>f028772b</td>\n",
       "      <td>ecad2386</td>\n",
       "      <td>7801e8d9</td>\n",
       "      <td>07d7df22</td>\n",
       "      <td>a99f214a</td>\n",
       "      <td>...</td>\n",
       "      <td>16615</td>\n",
       "      <td>320</td>\n",
       "      <td>50</td>\n",
       "      <td>1863</td>\n",
       "      <td>3</td>\n",
       "      <td>39</td>\n",
       "      <td>-1</td>\n",
       "      <td>23</td>\n",
       "      <td>Monday</td>\n",
       "      <td>5</td>\n",
       "    </tr>\n",
       "    <tr>\n",
       "      <th>999997</th>\n",
       "      <td>0</td>\n",
       "      <td>1005</td>\n",
       "      <td>0</td>\n",
       "      <td>85f751fd</td>\n",
       "      <td>c4e18dd6</td>\n",
       "      <td>50e219e0</td>\n",
       "      <td>39fb6e33</td>\n",
       "      <td>d9b5648e</td>\n",
       "      <td>0f2161f8</td>\n",
       "      <td>a99f214a</td>\n",
       "      <td>...</td>\n",
       "      <td>15840</td>\n",
       "      <td>320</td>\n",
       "      <td>50</td>\n",
       "      <td>1741</td>\n",
       "      <td>3</td>\n",
       "      <td>171</td>\n",
       "      <td>100114</td>\n",
       "      <td>100</td>\n",
       "      <td>Wednesday</td>\n",
       "      <td>3</td>\n",
       "    </tr>\n",
       "    <tr>\n",
       "      <th>999998</th>\n",
       "      <td>0</td>\n",
       "      <td>1005</td>\n",
       "      <td>0</td>\n",
       "      <td>9a977531</td>\n",
       "      <td>a434fa42</td>\n",
       "      <td>f028772b</td>\n",
       "      <td>ecad2386</td>\n",
       "      <td>7801e8d9</td>\n",
       "      <td>07d7df22</td>\n",
       "      <td>a99f214a</td>\n",
       "      <td>...</td>\n",
       "      <td>21764</td>\n",
       "      <td>216</td>\n",
       "      <td>36</td>\n",
       "      <td>2506</td>\n",
       "      <td>0</td>\n",
       "      <td>35</td>\n",
       "      <td>100077</td>\n",
       "      <td>157</td>\n",
       "      <td>Wednesday</td>\n",
       "      <td>4</td>\n",
       "    </tr>\n",
       "  </tbody>\n",
       "</table>\n",
       "<p>999999 rows × 24 columns</p>\n",
       "</div>"
      ],
      "text/plain": [
       "        click    C1  banner_pos   site_id site_domain site_category    app_id  \\\n",
       "0           0  1010           1  85f751fd    c4e18dd6      50e219e0  3fd3187a   \n",
       "1           0  1005           0  1fbe01fe    f3845767      28905ebd  ecad2386   \n",
       "2           0  1005           1  92c7cbe7    6e882918      75fa27f6  ecad2386   \n",
       "3           0  1005           0  85f751fd    c4e18dd6      50e219e0  7358e05e   \n",
       "4           0  1005           0  1fbe01fe    f3845767      28905ebd  ecad2386   \n",
       "...       ...   ...         ...       ...         ...           ...       ...   \n",
       "999994      1  1005           0  1fbe01fe    f3845767      28905ebd  ecad2386   \n",
       "999995      0  1005           1  5b4d2eda    16a36ef3      f028772b  ecad2386   \n",
       "999996      0  1005           1  5b4d2eda    16a36ef3      f028772b  ecad2386   \n",
       "999997      0  1005           0  85f751fd    c4e18dd6      50e219e0  39fb6e33   \n",
       "999998      0  1005           0  9a977531    a434fa42      f028772b  ecad2386   \n",
       "\n",
       "       app_domain app_category device_id  ...    C14  C15  C16   C17  C18  \\\n",
       "0        7801e8d9     cef3e649  c437867a  ...  16252  320   50  1809    0   \n",
       "1        7801e8d9     07d7df22  a99f214a  ...  15706  320   50  1722    0   \n",
       "2        7801e8d9     07d7df22  a99f214a  ...  16615  320   50  1863    3   \n",
       "3        b9528b13     cef3e649  5438694d  ...   1039  320   50   178    3   \n",
       "4        7801e8d9     07d7df22  a99f214a  ...  15702  320   50  1722    0   \n",
       "...           ...          ...       ...  ...    ...  ...  ...   ...  ...   \n",
       "999994   7801e8d9     07d7df22  a99f214a  ...  21761  320   50  2502    0   \n",
       "999995   7801e8d9     07d7df22  a99f214a  ...  20362  320   50  2333    0   \n",
       "999996   7801e8d9     07d7df22  a99f214a  ...  16615  320   50  1863    3   \n",
       "999997   d9b5648e     0f2161f8  a99f214a  ...  15840  320   50  1741    3   \n",
       "999998   7801e8d9     07d7df22  a99f214a  ...  21764  216   36  2506    0   \n",
       "\n",
       "         C19     C20  C21    weekday  cut_hour  \n",
       "0        171  100162  126    Tuesday         5  \n",
       "1         35      -1   79   Saturday         5  \n",
       "2         39      -1   23     Friday         3  \n",
       "3       1327  100148   15   Thursday         5  \n",
       "4         35  100084   79    Tuesday         2  \n",
       "...      ...     ...  ...        ...       ...  \n",
       "999994    35  100083  221   Thursday         1  \n",
       "999995    39      -1  157  Wednesday         2  \n",
       "999996    39      -1   23     Monday         5  \n",
       "999997   171  100114  100  Wednesday         3  \n",
       "999998    35  100077  157  Wednesday         4  \n",
       "\n",
       "[999999 rows x 24 columns]"
      ]
     },
     "execution_count": 28,
     "metadata": {},
     "output_type": "execute_result"
    }
   ],
   "source": [
    "df1"
   ]
  },
  {
   "cell_type": "code",
   "execution_count": 27,
   "id": "e9dbc843",
   "metadata": {},
   "outputs": [],
   "source": [
    "def count_encode(X, categorical_features, normalize=False):\n",
    "    print('Count encoding: {}'.format(categorical_features))\n",
    "    X_ = pd.DataFrame()\n",
    "    for cat_feature in categorical_features:\n",
    "        X_[cat_feature] = X[cat_feature].astype(\n",
    "            'object').map(X[cat_feature].value_counts())\n",
    "        if normalize:\n",
    "            X_[cat_feature] = X_[cat_feature] / np.max(X_[cat_feature])\n",
    "    X_ = X_.add_suffix('_count_encoded')\n",
    "    if normalize:\n",
    "        X_ = X_.astype(np.float32)\n",
    "        X_ = X_.add_suffix('_normalized')\n",
    "    else:\n",
    "        X_ = X_.astype(np.uint32)\n",
    "    return X_"
   ]
  },
  {
   "cell_type": "code",
   "execution_count": 29,
   "id": "677f46a0",
   "metadata": {},
   "outputs": [
    {
     "name": "stdout",
     "output_type": "stream",
     "text": [
      "Count encoding: ['C1']\n"
     ]
    }
   ],
   "source": [
    "count_C1 = count_encode(df1, ['C1'])"
   ]
  },
  {
   "cell_type": "code",
   "execution_count": 35,
   "id": "851ac081",
   "metadata": {},
   "outputs": [
    {
     "data": {
      "text/html": [
       "<div>\n",
       "<style scoped>\n",
       "    .dataframe tbody tr th:only-of-type {\n",
       "        vertical-align: middle;\n",
       "    }\n",
       "\n",
       "    .dataframe tbody tr th {\n",
       "        vertical-align: top;\n",
       "    }\n",
       "\n",
       "    .dataframe thead th {\n",
       "        text-align: right;\n",
       "    }\n",
       "</style>\n",
       "<table border=\"1\" class=\"dataframe\">\n",
       "  <thead>\n",
       "    <tr style=\"text-align: right;\">\n",
       "      <th></th>\n",
       "      <th>C1_count_encoded</th>\n",
       "    </tr>\n",
       "  </thead>\n",
       "  <tbody>\n",
       "    <tr>\n",
       "      <th>0</th>\n",
       "      <td>0.025627</td>\n",
       "    </tr>\n",
       "    <tr>\n",
       "      <th>1</th>\n",
       "      <td>1.000000</td>\n",
       "    </tr>\n",
       "    <tr>\n",
       "      <th>2</th>\n",
       "      <td>1.000000</td>\n",
       "    </tr>\n",
       "    <tr>\n",
       "      <th>3</th>\n",
       "      <td>1.000000</td>\n",
       "    </tr>\n",
       "    <tr>\n",
       "      <th>4</th>\n",
       "      <td>1.000000</td>\n",
       "    </tr>\n",
       "  </tbody>\n",
       "</table>\n",
       "</div>"
      ],
      "text/plain": [
       "   C1_count_encoded\n",
       "0          0.025627\n",
       "1          1.000000\n",
       "2          1.000000\n",
       "3          1.000000\n",
       "4          1.000000"
      ]
     },
     "execution_count": 35,
     "metadata": {},
     "output_type": "execute_result"
    }
   ],
   "source": [
    "count_C1 = count_C1 / count_C1.max()\n",
    "count_C1.head()"
   ]
  },
  {
   "cell_type": "code",
   "execution_count": 32,
   "id": "b097f3a5",
   "metadata": {},
   "outputs": [
    {
     "data": {
      "text/plain": [
       "C1_count_encoded    916126\n",
       "dtype: uint32"
      ]
     },
     "execution_count": 32,
     "metadata": {},
     "output_type": "execute_result"
    }
   ],
   "source": [
    "count_C1.max()"
   ]
  },
  {
   "cell_type": "code",
   "execution_count": 33,
   "id": "00609e3d",
   "metadata": {},
   "outputs": [
    {
     "name": "stdout",
     "output_type": "stream",
     "text": [
      "Count encoding: ['site_id']\n"
     ]
    },
    {
     "data": {
      "text/html": [
       "<div>\n",
       "<style scoped>\n",
       "    .dataframe tbody tr th:only-of-type {\n",
       "        vertical-align: middle;\n",
       "    }\n",
       "\n",
       "    .dataframe tbody tr th {\n",
       "        vertical-align: top;\n",
       "    }\n",
       "\n",
       "    .dataframe thead th {\n",
       "        text-align: right;\n",
       "    }\n",
       "</style>\n",
       "<table border=\"1\" class=\"dataframe\">\n",
       "  <thead>\n",
       "    <tr style=\"text-align: right;\">\n",
       "      <th></th>\n",
       "      <th>site_id_count_encoded</th>\n",
       "    </tr>\n",
       "  </thead>\n",
       "  <tbody>\n",
       "    <tr>\n",
       "      <th>0</th>\n",
       "      <td>348672</td>\n",
       "    </tr>\n",
       "    <tr>\n",
       "      <th>1</th>\n",
       "      <td>163256</td>\n",
       "    </tr>\n",
       "    <tr>\n",
       "      <th>2</th>\n",
       "      <td>2807</td>\n",
       "    </tr>\n",
       "    <tr>\n",
       "      <th>3</th>\n",
       "      <td>348672</td>\n",
       "    </tr>\n",
       "    <tr>\n",
       "      <th>4</th>\n",
       "      <td>163256</td>\n",
       "    </tr>\n",
       "  </tbody>\n",
       "</table>\n",
       "</div>"
      ],
      "text/plain": [
       "   site_id_count_encoded\n",
       "0                 348672\n",
       "1                 163256\n",
       "2                   2807\n",
       "3                 348672\n",
       "4                 163256"
      ]
     },
     "execution_count": 33,
     "metadata": {},
     "output_type": "execute_result"
    }
   ],
   "source": [
    "count_site_id = count_encode(df1, ['site_id'])\n",
    "count_site_id.head()"
   ]
  },
  {
   "cell_type": "code",
   "execution_count": 34,
   "id": "d8d5a261",
   "metadata": {},
   "outputs": [
    {
     "data": {
      "text/plain": [
       "site_id_count_encoded    348672\n",
       "dtype: uint32"
      ]
     },
     "execution_count": 34,
     "metadata": {},
     "output_type": "execute_result"
    }
   ],
   "source": [
    "count_site_id.max()"
   ]
  },
  {
   "cell_type": "code",
   "execution_count": 66,
   "id": "2011c758",
   "metadata": {},
   "outputs": [
    {
     "name": "stdout",
     "output_type": "stream",
     "text": [
      "Count encoding: ['C1']\n",
      "Count encoding: ['site_id']\n",
      "Count encoding: ['banner_pos']\n",
      "Count encoding: ['site_domain']\n",
      "Count encoding: ['site_category']\n",
      "Count encoding: ['app_id']\n",
      "Count encoding: ['app_domain']\n",
      "Count encoding: ['app_category']\n",
      "Count encoding: ['device_id']\n",
      "Count encoding: ['device_ip']\n",
      "Count encoding: ['device_model']\n",
      "Count encoding: ['device_type']\n",
      "Count encoding: ['device_conn_type']\n",
      "Count encoding: ['C14']\n",
      "Count encoding: ['C15']\n",
      "Count encoding: ['C16']\n",
      "Count encoding: ['C17']\n",
      "Count encoding: ['C18']\n",
      "Count encoding: ['C19']\n",
      "Count encoding: ['C20']\n",
      "Count encoding: ['C21']\n",
      "Count encoding: ['weekday']\n",
      "Count encoding: ['cut_hour']\n"
     ]
    }
   ],
   "source": [
    "#df2 = df1.apply(count_encode(df1,['C1']))\n",
    "df1[\"count_C1\"] = count_encode(df1, ['C1'])\n",
    "df1[\"count_site_id\"] = count_encode(df1, ['site_id'])\n",
    "df1[\"count_banner_pos\"] = count_encode(df1, ['banner_pos'])\n",
    "df1[\"count_site_domain\"] = count_encode(df1, ['site_domain'])\n",
    "df1[\"count_site_category\"] = count_encode(df1, ['site_category'])\n",
    "df1[\"count_app_id\"] = count_encode(df1, ['app_id'])\n",
    "df1[\"count_app_domain\"] = count_encode(df1, ['app_domain'])\n",
    "df1[\"count_app_category\"] = count_encode(df1, ['app_category'])\n",
    "df1[\"count_device_id\"] = count_encode(df1, ['device_id'])\n",
    "df1[\"count_device_ip\"] = count_encode(df1, ['device_ip'])\n",
    "df1[\"count_device_model\"] = count_encode(df1, ['device_model'])\n",
    "df1[\"count_device_type\"] = count_encode(df1, ['device_type'])\n",
    "df1[\"count_device_conn_type\"] = count_encode(df1, ['device_conn_type'])\n",
    "df1[\"count_C14\"] = count_encode(df1, ['C14'])\n",
    "df1[\"count_C15\"] = count_encode(df1, ['C15'])\n",
    "df1[\"count_C16\"] = count_encode(df1, ['C16'])\n",
    "df1[\"count_C17\"] = count_encode(df1, ['C17'])\n",
    "df1[\"count_C18\"] = count_encode(df1, ['C18'])\n",
    "df1[\"count_C19\"] = count_encode(df1, ['C19'])\n",
    "df1[\"count_C20\"] = count_encode(df1, ['C20'])\n",
    "df1[\"count_C21\"] = count_encode(df1, ['C21'])\n",
    "df1[\"count_weekday\"] = count_encode(df1, ['weekday'])\n",
    "df1[\"count_cut_hour\"] = count_encode(df1, ['cut_hour'])"
   ]
  },
  {
   "cell_type": "code",
   "execution_count": 67,
   "id": "29adc47b",
   "metadata": {},
   "outputs": [],
   "source": [
    "df1 = df1.drop(['C1', 'banner_pos', 'site_id', 'site_domain',\n",
    "       'site_category', 'app_id', 'app_domain', 'app_category', 'device_id',\n",
    "       'device_ip', 'device_model', 'device_type', 'device_conn_type', 'C14',\n",
    "       'C15', 'C16', 'C17', 'C18', 'C19', 'C20', 'C21','weekday','cut_hour'], axis=1)"
   ]
  },
  {
   "cell_type": "code",
   "execution_count": 68,
   "id": "dbf56d22",
   "metadata": {},
   "outputs": [
    {
     "data": {
      "text/html": [
       "<div>\n",
       "<style scoped>\n",
       "    .dataframe tbody tr th:only-of-type {\n",
       "        vertical-align: middle;\n",
       "    }\n",
       "\n",
       "    .dataframe tbody tr th {\n",
       "        vertical-align: top;\n",
       "    }\n",
       "\n",
       "    .dataframe thead th {\n",
       "        text-align: right;\n",
       "    }\n",
       "</style>\n",
       "<table border=\"1\" class=\"dataframe\">\n",
       "  <thead>\n",
       "    <tr style=\"text-align: right;\">\n",
       "      <th></th>\n",
       "      <th>click</th>\n",
       "      <th>count_C1</th>\n",
       "      <th>count_site_id</th>\n",
       "      <th>count_banner_pos</th>\n",
       "      <th>count_site_domain</th>\n",
       "      <th>count_site_category</th>\n",
       "      <th>count_app_id</th>\n",
       "      <th>count_app_domain</th>\n",
       "      <th>count_app_category</th>\n",
       "      <th>count_device_id</th>\n",
       "      <th>...</th>\n",
       "      <th>count_C14</th>\n",
       "      <th>count_C15</th>\n",
       "      <th>count_C16</th>\n",
       "      <th>count_C17</th>\n",
       "      <th>count_C18</th>\n",
       "      <th>count_C19</th>\n",
       "      <th>count_C20</th>\n",
       "      <th>count_C21</th>\n",
       "      <th>count_weekday</th>\n",
       "      <th>count_cut_hour</th>\n",
       "    </tr>\n",
       "  </thead>\n",
       "  <tbody>\n",
       "    <tr>\n",
       "      <th>0</th>\n",
       "      <td>0</td>\n",
       "      <td>23478</td>\n",
       "      <td>348672</td>\n",
       "      <td>283060</td>\n",
       "      <td>362093</td>\n",
       "      <td>397387</td>\n",
       "      <td>107</td>\n",
       "      <td>687650</td>\n",
       "      <td>44246</td>\n",
       "      <td>1</td>\n",
       "      <td>...</td>\n",
       "      <td>75</td>\n",
       "      <td>932916</td>\n",
       "      <td>942651</td>\n",
       "      <td>219</td>\n",
       "      <td>416278</td>\n",
       "      <td>8146</td>\n",
       "      <td>2048</td>\n",
       "      <td>219</td>\n",
       "      <td>260277</td>\n",
       "      <td>179001</td>\n",
       "    </tr>\n",
       "    <tr>\n",
       "      <th>1</th>\n",
       "      <td>0</td>\n",
       "      <td>916126</td>\n",
       "      <td>163256</td>\n",
       "      <td>715048</td>\n",
       "      <td>163256</td>\n",
       "      <td>186196</td>\n",
       "      <td>651327</td>\n",
       "      <td>687650</td>\n",
       "      <td>660163</td>\n",
       "      <td>823222</td>\n",
       "      <td>...</td>\n",
       "      <td>12655</td>\n",
       "      <td>932916</td>\n",
       "      <td>942651</td>\n",
       "      <td>120259</td>\n",
       "      <td>416278</td>\n",
       "      <td>312399</td>\n",
       "      <td>464171</td>\n",
       "      <td>122131</td>\n",
       "      <td>92965</td>\n",
       "      <td>179001</td>\n",
       "    </tr>\n",
       "    <tr>\n",
       "      <th>2</th>\n",
       "      <td>0</td>\n",
       "      <td>916126</td>\n",
       "      <td>2807</td>\n",
       "      <td>283060</td>\n",
       "      <td>2807</td>\n",
       "      <td>4333</td>\n",
       "      <td>651327</td>\n",
       "      <td>687650</td>\n",
       "      <td>660163</td>\n",
       "      <td>823222</td>\n",
       "      <td>...</td>\n",
       "      <td>12241</td>\n",
       "      <td>932916</td>\n",
       "      <td>942651</td>\n",
       "      <td>15774</td>\n",
       "      <td>336886</td>\n",
       "      <td>225136</td>\n",
       "      <td>464171</td>\n",
       "      <td>217333</td>\n",
       "      <td>92601</td>\n",
       "      <td>214927</td>\n",
       "    </tr>\n",
       "    <tr>\n",
       "      <th>3</th>\n",
       "      <td>0</td>\n",
       "      <td>916126</td>\n",
       "      <td>348672</td>\n",
       "      <td>715048</td>\n",
       "      <td>362093</td>\n",
       "      <td>397387</td>\n",
       "      <td>15964</td>\n",
       "      <td>16589</td>\n",
       "      <td>44246</td>\n",
       "      <td>2</td>\n",
       "      <td>...</td>\n",
       "      <td>2241</td>\n",
       "      <td>932916</td>\n",
       "      <td>942651</td>\n",
       "      <td>6831</td>\n",
       "      <td>336886</td>\n",
       "      <td>26817</td>\n",
       "      <td>43711</td>\n",
       "      <td>20716</td>\n",
       "      <td>107427</td>\n",
       "      <td>179001</td>\n",
       "    </tr>\n",
       "    <tr>\n",
       "      <th>4</th>\n",
       "      <td>0</td>\n",
       "      <td>916126</td>\n",
       "      <td>163256</td>\n",
       "      <td>715048</td>\n",
       "      <td>163256</td>\n",
       "      <td>186196</td>\n",
       "      <td>651327</td>\n",
       "      <td>687650</td>\n",
       "      <td>660163</td>\n",
       "      <td>823222</td>\n",
       "      <td>...</td>\n",
       "      <td>12933</td>\n",
       "      <td>932916</td>\n",
       "      <td>942651</td>\n",
       "      <td>120259</td>\n",
       "      <td>416278</td>\n",
       "      <td>312399</td>\n",
       "      <td>62021</td>\n",
       "      <td>122131</td>\n",
       "      <td>260277</td>\n",
       "      <td>181787</td>\n",
       "    </tr>\n",
       "    <tr>\n",
       "      <th>...</th>\n",
       "      <td>...</td>\n",
       "      <td>...</td>\n",
       "      <td>...</td>\n",
       "      <td>...</td>\n",
       "      <td>...</td>\n",
       "      <td>...</td>\n",
       "      <td>...</td>\n",
       "      <td>...</td>\n",
       "      <td>...</td>\n",
       "      <td>...</td>\n",
       "      <td>...</td>\n",
       "      <td>...</td>\n",
       "      <td>...</td>\n",
       "      <td>...</td>\n",
       "      <td>...</td>\n",
       "      <td>...</td>\n",
       "      <td>...</td>\n",
       "      <td>...</td>\n",
       "      <td>...</td>\n",
       "      <td>...</td>\n",
       "      <td>...</td>\n",
       "    </tr>\n",
       "    <tr>\n",
       "      <th>999994</th>\n",
       "      <td>1</td>\n",
       "      <td>916126</td>\n",
       "      <td>163256</td>\n",
       "      <td>715048</td>\n",
       "      <td>163256</td>\n",
       "      <td>186196</td>\n",
       "      <td>651327</td>\n",
       "      <td>687650</td>\n",
       "      <td>660163</td>\n",
       "      <td>823222</td>\n",
       "      <td>...</td>\n",
       "      <td>1603</td>\n",
       "      <td>932916</td>\n",
       "      <td>942651</td>\n",
       "      <td>23692</td>\n",
       "      <td>416278</td>\n",
       "      <td>312399</td>\n",
       "      <td>27459</td>\n",
       "      <td>118547</td>\n",
       "      <td>107427</td>\n",
       "      <td>111649</td>\n",
       "    </tr>\n",
       "    <tr>\n",
       "      <th>999995</th>\n",
       "      <td>0</td>\n",
       "      <td>916126</td>\n",
       "      <td>19066</td>\n",
       "      <td>283060</td>\n",
       "      <td>21139</td>\n",
       "      <td>319555</td>\n",
       "      <td>651327</td>\n",
       "      <td>687650</td>\n",
       "      <td>660163</td>\n",
       "      <td>823222</td>\n",
       "      <td>...</td>\n",
       "      <td>3699</td>\n",
       "      <td>932916</td>\n",
       "      <td>942651</td>\n",
       "      <td>14296</td>\n",
       "      <td>416278</td>\n",
       "      <td>225136</td>\n",
       "      <td>464171</td>\n",
       "      <td>51696</td>\n",
       "      <td>252576</td>\n",
       "      <td>181787</td>\n",
       "    </tr>\n",
       "    <tr>\n",
       "      <th>999996</th>\n",
       "      <td>0</td>\n",
       "      <td>916126</td>\n",
       "      <td>19066</td>\n",
       "      <td>283060</td>\n",
       "      <td>21139</td>\n",
       "      <td>319555</td>\n",
       "      <td>651327</td>\n",
       "      <td>687650</td>\n",
       "      <td>660163</td>\n",
       "      <td>823222</td>\n",
       "      <td>...</td>\n",
       "      <td>12241</td>\n",
       "      <td>932916</td>\n",
       "      <td>942651</td>\n",
       "      <td>15774</td>\n",
       "      <td>336886</td>\n",
       "      <td>225136</td>\n",
       "      <td>464171</td>\n",
       "      <td>217333</td>\n",
       "      <td>88815</td>\n",
       "      <td>179001</td>\n",
       "    </tr>\n",
       "    <tr>\n",
       "      <th>999997</th>\n",
       "      <td>0</td>\n",
       "      <td>916126</td>\n",
       "      <td>348672</td>\n",
       "      <td>715048</td>\n",
       "      <td>362093</td>\n",
       "      <td>397387</td>\n",
       "      <td>335</td>\n",
       "      <td>18254</td>\n",
       "      <td>233339</td>\n",
       "      <td>823222</td>\n",
       "      <td>...</td>\n",
       "      <td>889</td>\n",
       "      <td>932916</td>\n",
       "      <td>942651</td>\n",
       "      <td>966</td>\n",
       "      <td>336886</td>\n",
       "      <td>8146</td>\n",
       "      <td>324</td>\n",
       "      <td>1720</td>\n",
       "      <td>252576</td>\n",
       "      <td>214927</td>\n",
       "    </tr>\n",
       "    <tr>\n",
       "      <th>999998</th>\n",
       "      <td>0</td>\n",
       "      <td>916126</td>\n",
       "      <td>4692</td>\n",
       "      <td>715048</td>\n",
       "      <td>5564</td>\n",
       "      <td>319555</td>\n",
       "      <td>651327</td>\n",
       "      <td>687650</td>\n",
       "      <td>660163</td>\n",
       "      <td>823222</td>\n",
       "      <td>...</td>\n",
       "      <td>1380</td>\n",
       "      <td>8015</td>\n",
       "      <td>8015</td>\n",
       "      <td>22274</td>\n",
       "      <td>416278</td>\n",
       "      <td>312399</td>\n",
       "      <td>39316</td>\n",
       "      <td>51696</td>\n",
       "      <td>252576</td>\n",
       "      <td>217902</td>\n",
       "    </tr>\n",
       "  </tbody>\n",
       "</table>\n",
       "<p>999999 rows × 24 columns</p>\n",
       "</div>"
      ],
      "text/plain": [
       "        click  count_C1  count_site_id  count_banner_pos  count_site_domain  \\\n",
       "0           0     23478         348672            283060             362093   \n",
       "1           0    916126         163256            715048             163256   \n",
       "2           0    916126           2807            283060               2807   \n",
       "3           0    916126         348672            715048             362093   \n",
       "4           0    916126         163256            715048             163256   \n",
       "...       ...       ...            ...               ...                ...   \n",
       "999994      1    916126         163256            715048             163256   \n",
       "999995      0    916126          19066            283060              21139   \n",
       "999996      0    916126          19066            283060              21139   \n",
       "999997      0    916126         348672            715048             362093   \n",
       "999998      0    916126           4692            715048               5564   \n",
       "\n",
       "        count_site_category  count_app_id  count_app_domain  \\\n",
       "0                    397387           107            687650   \n",
       "1                    186196        651327            687650   \n",
       "2                      4333        651327            687650   \n",
       "3                    397387         15964             16589   \n",
       "4                    186196        651327            687650   \n",
       "...                     ...           ...               ...   \n",
       "999994               186196        651327            687650   \n",
       "999995               319555        651327            687650   \n",
       "999996               319555        651327            687650   \n",
       "999997               397387           335             18254   \n",
       "999998               319555        651327            687650   \n",
       "\n",
       "        count_app_category  count_device_id  ...  count_C14  count_C15  \\\n",
       "0                    44246                1  ...         75     932916   \n",
       "1                   660163           823222  ...      12655     932916   \n",
       "2                   660163           823222  ...      12241     932916   \n",
       "3                    44246                2  ...       2241     932916   \n",
       "4                   660163           823222  ...      12933     932916   \n",
       "...                    ...              ...  ...        ...        ...   \n",
       "999994              660163           823222  ...       1603     932916   \n",
       "999995              660163           823222  ...       3699     932916   \n",
       "999996              660163           823222  ...      12241     932916   \n",
       "999997              233339           823222  ...        889     932916   \n",
       "999998              660163           823222  ...       1380       8015   \n",
       "\n",
       "        count_C16  count_C17  count_C18  count_C19  count_C20  count_C21  \\\n",
       "0          942651        219     416278       8146       2048        219   \n",
       "1          942651     120259     416278     312399     464171     122131   \n",
       "2          942651      15774     336886     225136     464171     217333   \n",
       "3          942651       6831     336886      26817      43711      20716   \n",
       "4          942651     120259     416278     312399      62021     122131   \n",
       "...           ...        ...        ...        ...        ...        ...   \n",
       "999994     942651      23692     416278     312399      27459     118547   \n",
       "999995     942651      14296     416278     225136     464171      51696   \n",
       "999996     942651      15774     336886     225136     464171     217333   \n",
       "999997     942651        966     336886       8146        324       1720   \n",
       "999998       8015      22274     416278     312399      39316      51696   \n",
       "\n",
       "        count_weekday  count_cut_hour  \n",
       "0              260277          179001  \n",
       "1               92965          179001  \n",
       "2               92601          214927  \n",
       "3              107427          179001  \n",
       "4              260277          181787  \n",
       "...               ...             ...  \n",
       "999994         107427          111649  \n",
       "999995         252576          181787  \n",
       "999996          88815          179001  \n",
       "999997         252576          214927  \n",
       "999998         252576          217902  \n",
       "\n",
       "[999999 rows x 24 columns]"
      ]
     },
     "execution_count": 68,
     "metadata": {},
     "output_type": "execute_result"
    }
   ],
   "source": [
    "df1"
   ]
  },
  {
   "cell_type": "code",
   "execution_count": 76,
   "id": "dd83b83a",
   "metadata": {},
   "outputs": [],
   "source": [
    "#normalize the count\n",
    "df2 = df1.drop(['click'], axis=1)\n",
    "\n",
    "df2 = df2 / (df2.max(axis=0) + np.spacing(0))"
   ]
  },
  {
   "cell_type": "code",
   "execution_count": 74,
   "id": "3371664e",
   "metadata": {},
   "outputs": [],
   "source": [
    "#add click to the original column\n",
    "#click = df1['click']\n",
    "#df2[\"click\"] = click"
   ]
  },
  {
   "cell_type": "code",
   "execution_count": 86,
   "id": "923e99d5",
   "metadata": {},
   "outputs": [
    {
     "name": "stdout",
     "output_type": "stream",
     "text": [
      "340820 170410\n"
     ]
    }
   ],
   "source": [
    "#balance the data\n",
    "\n",
    "X = df2\n",
    "y = df1['click']\n",
    "\n",
    "#X = df1.drop('click', axis=1)\n",
    "#y = df1.click\n",
    "\n",
    "from sklearn.utils import resample\n",
    "X_resampled, y_resampled = resample(X[y==0], y[y==0], replace=False, n_samples=X[y==1].shape[0], random_state=42)\n",
    "\n",
    "X = np.vstack((X_resampled, X[y==1]))\n",
    "y = np.hstack((y_resampled, y[y==1]))\n",
    "\n",
    "print(len(y), y.sum())"
   ]
  },
  {
   "cell_type": "code",
   "execution_count": 87,
   "id": "13e17233",
   "metadata": {},
   "outputs": [],
   "source": [
    "from sklearn.model_selection import train_test_split\n",
    "X_train, X_test, y_train, y_test = train_test_split(X, y, random_state=42, test_size =0.3)"
   ]
  },
  {
   "cell_type": "markdown",
   "id": "a195395b",
   "metadata": {},
   "source": [
    "### logistic regression"
   ]
  },
  {
   "cell_type": "code",
   "execution_count": 89,
   "id": "54d88ab9",
   "metadata": {},
   "outputs": [
    {
     "name": "stdout",
     "output_type": "stream",
     "text": [
      "log_loss:  0.6615644119694079\n"
     ]
    }
   ],
   "source": [
    "from sklearn.linear_model import LogisticRegression\n",
    "\n",
    "model = LogisticRegression(solver='liblinear', random_state=42)\n",
    "model.fit(X_train,y_train)\n",
    "y_pred = model.predict_proba(X_test)\n",
    "print(\"log_loss: \",log_loss(y_test,y_pred))"
   ]
  },
  {
   "cell_type": "markdown",
   "id": "e5b383e6",
   "metadata": {},
   "source": [
    "### XGBoost"
   ]
  },
  {
   "cell_type": "code",
   "execution_count": 85,
   "id": "a135db26",
   "metadata": {},
   "outputs": [
    {
     "name": "stderr",
     "output_type": "stream",
     "text": [
      "C:\\Users\\Xiang Meng\\anaconda3\\lib\\site-packages\\xgboost\\sklearn.py:1224: UserWarning: The use of label encoder in XGBClassifier is deprecated and will be removed in a future release. To remove this warning, do the following: 1) Pass option use_label_encoder=False when constructing XGBClassifier object; and 2) Encode your labels (y) as integers starting with 0, i.e. 0, 1, 2, ..., [num_class - 1].\n",
      "  warnings.warn(label_encoder_deprecation_msg, UserWarning)\n"
     ]
    },
    {
     "name": "stdout",
     "output_type": "stream",
     "text": [
      "[13:37:51] WARNING: ..\\src\\learner.cc:1115: Starting in XGBoost 1.3.0, the default evaluation metric used with the objective 'binary:logistic' was changed from 'error' to 'logloss'. Explicitly set eval_metric if you'd like to restore the old behavior.\n",
      "log_loss:  0.6604700320178613\n"
     ]
    }
   ],
   "source": [
    "# XGBoost\n",
    "from xgboost import XGBClassifier\n",
    "from sklearn.metrics import log_loss\n",
    "\n",
    "model = XGBClassifier(tree_method = 'hist', n_jobs=-1, n_estimators=500, max_depth=10)\n",
    "model.fit(X_train,y_train)\n",
    "y_pred = model.predict_proba(X_test)\n",
    "print(\"log_loss: \",log_loss(y_test,y_pred))"
   ]
  },
  {
   "cell_type": "code",
   "execution_count": null,
   "id": "a7744fa4",
   "metadata": {},
   "outputs": [],
   "source": []
  }
 ],
 "metadata": {
  "kernelspec": {
   "display_name": "Python 3 (ipykernel)",
   "language": "python",
   "name": "python3"
  },
  "language_info": {
   "codemirror_mode": {
    "name": "ipython",
    "version": 3
   },
   "file_extension": ".py",
   "mimetype": "text/x-python",
   "name": "python",
   "nbconvert_exporter": "python",
   "pygments_lexer": "ipython3",
   "version": "3.8.12"
  }
 },
 "nbformat": 4,
 "nbformat_minor": 5
}
