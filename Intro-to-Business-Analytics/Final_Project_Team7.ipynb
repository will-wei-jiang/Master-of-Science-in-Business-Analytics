{
 "cells": [
  {
   "cell_type": "markdown",
   "id": "00cf76d2",
   "metadata": {
    "id": "1e3sBMdX1iHf"
   },
   "source": [
    "## EDA"
   ]
  },
  {
   "cell_type": "code",
   "execution_count": 1,
   "id": "a14e24bd",
   "metadata": {
    "ExecuteTime": {
     "end_time": "2021-10-02T04:04:11.515077Z",
     "start_time": "2021-10-02T04:04:10.808491Z"
    },
    "id": "b6ba3390"
   },
   "outputs": [],
   "source": [
    "import pandas as pd\n",
    "import numpy as np\n",
    "import seaborn as sns\n",
    "import matplotlib.pyplot as plt"
   ]
  },
  {
   "cell_type": "code",
   "execution_count": 2,
   "id": "5f149f4e",
   "metadata": {
    "ExecuteTime": {
     "end_time": "2021-10-02T04:04:13.140112Z",
     "start_time": "2021-10-02T04:04:13.100241Z"
    },
    "id": "50b4b264"
   },
   "outputs": [],
   "source": [
    "df = pd.read_csv('C:/Users/Will Jiang/Desktop/Emory Desktop/BA/Group Project/data/aug_train.csv')\n",
    "df = df.loc[:, [x for x in df.columns if x not in ['enrollee_id', 'city']]]"
   ]
  },
  {
   "cell_type": "code",
   "execution_count": 3,
   "id": "0048572d",
   "metadata": {
    "ExecuteTime": {
     "end_time": "2021-10-02T04:04:23.339939Z",
     "start_time": "2021-10-02T04:04:23.316350Z"
    },
    "id": "e330a2f4",
    "outputId": "b249040b-8e57-472f-bfa0-aafa0fa7f0a0",
    "scrolled": false
   },
   "outputs": [
    {
     "name": "stdout",
     "output_type": "stream",
     "text": [
      "19158\n",
      "city_development_index: \n",
      "[0.92  0.776 0.624 0.789 0.767 0.764 0.762 0.913 0.926 0.827 0.843 0.804\n",
      " 0.855 0.887 0.91  0.884 0.924 0.666 0.558 0.923 0.794 0.754 0.939 0.55\n",
      " 0.865 0.698 0.893 0.796 0.866 0.682 0.802 0.579 0.878 0.897 0.949 0.925\n",
      " 0.896 0.836 0.693 0.769 0.775 0.903 0.555 0.727 0.64  0.516 0.743 0.899\n",
      " 0.915 0.689 0.895 0.89  0.847 0.527 0.766 0.738 0.647 0.795 0.74  0.701\n",
      " 0.493 0.84  0.691 0.735 0.742 0.479 0.722 0.921 0.848 0.856 0.898 0.83\n",
      " 0.73  0.68  0.725 0.556 0.448 0.763 0.745 0.645 0.788 0.78  0.512 0.739\n",
      " 0.563 0.518 0.824 0.487 0.649 0.781 0.625 0.807 0.664]\n",
      "gender: \n",
      "['Male' nan 'Female' 'Other']\n",
      "relevent_experience: \n",
      "['Has relevent experience' 'No relevent experience']\n",
      "enrolled_university: \n",
      "['no_enrollment' 'Full time course' nan 'Part time course']\n",
      "education_level: \n",
      "['Graduate' 'Masters' 'High School' nan 'Phd' 'Primary School']\n",
      "major_discipline: \n",
      "['STEM' 'Business Degree' nan 'Arts' 'Humanities' 'No Major' 'Other']\n",
      "experience: \n",
      "['>20' '15' '5' '<1' '11' '13' '7' '17' '2' '16' '1' '4' '10' '14' '18'\n",
      " '19' '12' '3' '6' '9' '8' '20' nan]\n",
      "company_size: \n",
      "[nan '50-99' '<10' '10000+' '5000-9999' '1000-4999' 'Oct-49' '100-500'\n",
      " '500-999']\n",
      "company_type: \n",
      "[nan 'Pvt Ltd' 'Funded Startup' 'Early Stage Startup' 'Other'\n",
      " 'Public Sector' 'NGO']\n",
      "last_new_job: \n",
      "['1' '>4' 'never' '4' '3' '2' nan]\n",
      "training_hours: \n",
      "[ 36  47  83  52   8  24  18  46 123  32 108  23  26 106   7 132  68  50\n",
      "  48  65  13  22 148  72  40 141  82 145 206 152  42  14 112  87  20  21\n",
      "  92 102  43  45  19  90  25  15  98 142  28 228  29  12  17  35   4 136\n",
      "  27  74  86  75 332 140 182 172  33  34 150 160   3   2 210 101  59 260\n",
      " 131 109  70  51  60 164 290 133  76 156 120 100  39  55  49   6 125 326\n",
      " 198  11  41 114 246  81  31  84 105  38 178 104 202  88 218  62  10  80\n",
      "  77  37 162 190  30  16   5  54  44 110 262 107 134 103  96  57 240  94\n",
      " 113  56  64 320   9 129  58 126 166  95  97 204 116 161 146 302  53 143\n",
      " 124 214 288 306 322  67  61 130 220  78 314 226 280  91 234 163 151  85\n",
      " 256 168 144  66 128  73 122 154  63 292 188  71 135 138 184  89 157 118\n",
      " 111 192 127 216 139 196  99 167 276 121  69 155 316 242 304 284 278 310\n",
      " 222 212 250 180 258 330 158 149 165  79 194 176 174 312 200 328 300 153\n",
      " 232 336 308 147 298 224 254 248 236 170 264 119 117 334 324   1 238 266\n",
      " 282 268 244 272 294 270 286]\n",
      "target: \n",
      "[1 0]\n"
     ]
    }
   ],
   "source": [
    "#check details of dataset\n",
    "print(len(df)) #19158\n",
    "for i in df.columns:\n",
    "    print(i +': ')\n",
    "    print(df[i].unique())"
   ]
  },
  {
   "cell_type": "code",
   "execution_count": 4,
   "id": "4e29cedb",
   "metadata": {
    "ExecuteTime": {
     "end_time": "2021-10-02T04:04:30.233396Z",
     "start_time": "2021-10-02T04:04:30.164524Z"
    },
    "id": "nrmTUudC1rcI"
   },
   "outputs": [
    {
     "data": {
      "text/html": [
       "<div>\n",
       "<style scoped>\n",
       "    .dataframe tbody tr th:only-of-type {\n",
       "        vertical-align: middle;\n",
       "    }\n",
       "\n",
       "    .dataframe tbody tr th {\n",
       "        vertical-align: top;\n",
       "    }\n",
       "\n",
       "    .dataframe thead th {\n",
       "        text-align: right;\n",
       "    }\n",
       "</style>\n",
       "<table border=\"1\" class=\"dataframe\">\n",
       "  <thead>\n",
       "    <tr style=\"text-align: right;\">\n",
       "      <th></th>\n",
       "      <th>city_development_index</th>\n",
       "      <th>gender</th>\n",
       "      <th>relevent_experience</th>\n",
       "      <th>enrolled_university</th>\n",
       "      <th>education_level</th>\n",
       "      <th>major_discipline</th>\n",
       "      <th>experience</th>\n",
       "      <th>company_size</th>\n",
       "      <th>company_type</th>\n",
       "      <th>last_new_job</th>\n",
       "      <th>training_hours</th>\n",
       "      <th>target</th>\n",
       "    </tr>\n",
       "  </thead>\n",
       "  <tbody>\n",
       "    <tr>\n",
       "      <th>count</th>\n",
       "      <td>19158.000000</td>\n",
       "      <td>14650</td>\n",
       "      <td>19158</td>\n",
       "      <td>18772</td>\n",
       "      <td>18698</td>\n",
       "      <td>16345</td>\n",
       "      <td>19093</td>\n",
       "      <td>13220</td>\n",
       "      <td>13018</td>\n",
       "      <td>18735</td>\n",
       "      <td>19158.000000</td>\n",
       "      <td>19158.000000</td>\n",
       "    </tr>\n",
       "    <tr>\n",
       "      <th>unique</th>\n",
       "      <td>NaN</td>\n",
       "      <td>3</td>\n",
       "      <td>2</td>\n",
       "      <td>3</td>\n",
       "      <td>5</td>\n",
       "      <td>6</td>\n",
       "      <td>22</td>\n",
       "      <td>8</td>\n",
       "      <td>6</td>\n",
       "      <td>6</td>\n",
       "      <td>NaN</td>\n",
       "      <td>NaN</td>\n",
       "    </tr>\n",
       "    <tr>\n",
       "      <th>top</th>\n",
       "      <td>NaN</td>\n",
       "      <td>Male</td>\n",
       "      <td>Has relevent experience</td>\n",
       "      <td>no_enrollment</td>\n",
       "      <td>Graduate</td>\n",
       "      <td>STEM</td>\n",
       "      <td>&gt;20</td>\n",
       "      <td>50-99</td>\n",
       "      <td>Pvt Ltd</td>\n",
       "      <td>1</td>\n",
       "      <td>NaN</td>\n",
       "      <td>NaN</td>\n",
       "    </tr>\n",
       "    <tr>\n",
       "      <th>freq</th>\n",
       "      <td>NaN</td>\n",
       "      <td>13221</td>\n",
       "      <td>13792</td>\n",
       "      <td>13817</td>\n",
       "      <td>11598</td>\n",
       "      <td>14492</td>\n",
       "      <td>3286</td>\n",
       "      <td>3083</td>\n",
       "      <td>9817</td>\n",
       "      <td>8040</td>\n",
       "      <td>NaN</td>\n",
       "      <td>NaN</td>\n",
       "    </tr>\n",
       "    <tr>\n",
       "      <th>mean</th>\n",
       "      <td>0.828848</td>\n",
       "      <td>NaN</td>\n",
       "      <td>NaN</td>\n",
       "      <td>NaN</td>\n",
       "      <td>NaN</td>\n",
       "      <td>NaN</td>\n",
       "      <td>NaN</td>\n",
       "      <td>NaN</td>\n",
       "      <td>NaN</td>\n",
       "      <td>NaN</td>\n",
       "      <td>65.366896</td>\n",
       "      <td>0.249348</td>\n",
       "    </tr>\n",
       "    <tr>\n",
       "      <th>std</th>\n",
       "      <td>0.123362</td>\n",
       "      <td>NaN</td>\n",
       "      <td>NaN</td>\n",
       "      <td>NaN</td>\n",
       "      <td>NaN</td>\n",
       "      <td>NaN</td>\n",
       "      <td>NaN</td>\n",
       "      <td>NaN</td>\n",
       "      <td>NaN</td>\n",
       "      <td>NaN</td>\n",
       "      <td>60.058462</td>\n",
       "      <td>0.432647</td>\n",
       "    </tr>\n",
       "    <tr>\n",
       "      <th>min</th>\n",
       "      <td>0.448000</td>\n",
       "      <td>NaN</td>\n",
       "      <td>NaN</td>\n",
       "      <td>NaN</td>\n",
       "      <td>NaN</td>\n",
       "      <td>NaN</td>\n",
       "      <td>NaN</td>\n",
       "      <td>NaN</td>\n",
       "      <td>NaN</td>\n",
       "      <td>NaN</td>\n",
       "      <td>1.000000</td>\n",
       "      <td>0.000000</td>\n",
       "    </tr>\n",
       "    <tr>\n",
       "      <th>25%</th>\n",
       "      <td>0.740000</td>\n",
       "      <td>NaN</td>\n",
       "      <td>NaN</td>\n",
       "      <td>NaN</td>\n",
       "      <td>NaN</td>\n",
       "      <td>NaN</td>\n",
       "      <td>NaN</td>\n",
       "      <td>NaN</td>\n",
       "      <td>NaN</td>\n",
       "      <td>NaN</td>\n",
       "      <td>23.000000</td>\n",
       "      <td>0.000000</td>\n",
       "    </tr>\n",
       "    <tr>\n",
       "      <th>50%</th>\n",
       "      <td>0.903000</td>\n",
       "      <td>NaN</td>\n",
       "      <td>NaN</td>\n",
       "      <td>NaN</td>\n",
       "      <td>NaN</td>\n",
       "      <td>NaN</td>\n",
       "      <td>NaN</td>\n",
       "      <td>NaN</td>\n",
       "      <td>NaN</td>\n",
       "      <td>NaN</td>\n",
       "      <td>47.000000</td>\n",
       "      <td>0.000000</td>\n",
       "    </tr>\n",
       "    <tr>\n",
       "      <th>75%</th>\n",
       "      <td>0.920000</td>\n",
       "      <td>NaN</td>\n",
       "      <td>NaN</td>\n",
       "      <td>NaN</td>\n",
       "      <td>NaN</td>\n",
       "      <td>NaN</td>\n",
       "      <td>NaN</td>\n",
       "      <td>NaN</td>\n",
       "      <td>NaN</td>\n",
       "      <td>NaN</td>\n",
       "      <td>88.000000</td>\n",
       "      <td>0.000000</td>\n",
       "    </tr>\n",
       "    <tr>\n",
       "      <th>max</th>\n",
       "      <td>0.949000</td>\n",
       "      <td>NaN</td>\n",
       "      <td>NaN</td>\n",
       "      <td>NaN</td>\n",
       "      <td>NaN</td>\n",
       "      <td>NaN</td>\n",
       "      <td>NaN</td>\n",
       "      <td>NaN</td>\n",
       "      <td>NaN</td>\n",
       "      <td>NaN</td>\n",
       "      <td>336.000000</td>\n",
       "      <td>1.000000</td>\n",
       "    </tr>\n",
       "  </tbody>\n",
       "</table>\n",
       "</div>"
      ],
      "text/plain": [
       "        city_development_index gender      relevent_experience  \\\n",
       "count             19158.000000  14650                    19158   \n",
       "unique                     NaN      3                        2   \n",
       "top                        NaN   Male  Has relevent experience   \n",
       "freq                       NaN  13221                    13792   \n",
       "mean                  0.828848    NaN                      NaN   \n",
       "std                   0.123362    NaN                      NaN   \n",
       "min                   0.448000    NaN                      NaN   \n",
       "25%                   0.740000    NaN                      NaN   \n",
       "50%                   0.903000    NaN                      NaN   \n",
       "75%                   0.920000    NaN                      NaN   \n",
       "max                   0.949000    NaN                      NaN   \n",
       "\n",
       "       enrolled_university education_level major_discipline experience  \\\n",
       "count                18772           18698            16345      19093   \n",
       "unique                   3               5                6         22   \n",
       "top          no_enrollment        Graduate             STEM        >20   \n",
       "freq                 13817           11598            14492       3286   \n",
       "mean                   NaN             NaN              NaN        NaN   \n",
       "std                    NaN             NaN              NaN        NaN   \n",
       "min                    NaN             NaN              NaN        NaN   \n",
       "25%                    NaN             NaN              NaN        NaN   \n",
       "50%                    NaN             NaN              NaN        NaN   \n",
       "75%                    NaN             NaN              NaN        NaN   \n",
       "max                    NaN             NaN              NaN        NaN   \n",
       "\n",
       "       company_size company_type last_new_job  training_hours        target  \n",
       "count         13220        13018        18735    19158.000000  19158.000000  \n",
       "unique            8            6            6             NaN           NaN  \n",
       "top           50-99      Pvt Ltd            1             NaN           NaN  \n",
       "freq           3083         9817         8040             NaN           NaN  \n",
       "mean            NaN          NaN          NaN       65.366896      0.249348  \n",
       "std             NaN          NaN          NaN       60.058462      0.432647  \n",
       "min             NaN          NaN          NaN        1.000000      0.000000  \n",
       "25%             NaN          NaN          NaN       23.000000      0.000000  \n",
       "50%             NaN          NaN          NaN       47.000000      0.000000  \n",
       "75%             NaN          NaN          NaN       88.000000      0.000000  \n",
       "max             NaN          NaN          NaN      336.000000      1.000000  "
      ]
     },
     "execution_count": 4,
     "metadata": {},
     "output_type": "execute_result"
    }
   ],
   "source": [
    "# Summary Statistics\n",
    "# summary statistics for numerical variables (mean, sd, min, max, quantiles)\n",
    "df.describe(include = 'all')"
   ]
  },
  {
   "cell_type": "code",
   "execution_count": 5,
   "id": "7aa7a151",
   "metadata": {
    "ExecuteTime": {
     "end_time": "2021-10-02T04:04:31.631677Z",
     "start_time": "2021-10-02T04:04:31.501969Z"
    },
    "id": "g2qazMvb1t9i"
   },
   "outputs": [
    {
     "data": {
      "text/plain": [
       "<AxesSubplot:>"
      ]
     },
     "execution_count": 5,
     "metadata": {},
     "output_type": "execute_result"
    },
    {
     "data": {
      "image/png": "[encoded data removed]",
      "text/plain": [
       "<Figure size 432x288 with 1 Axes>"
      ]
     },
     "metadata": {
      "needs_background": "light"
     },
     "output_type": "display_data"
    }
   ],
   "source": [
    "df['target'].value_counts().plot(kind='bar')"
   ]
  },
  {
   "cell_type": "code",
   "execution_count": 24,
   "id": "90f0da4e",
   "metadata": {
    "ExecuteTime": {
     "end_time": "2021-10-02T03:29:40.481813Z",
     "start_time": "2021-10-02T03:29:40.157711Z"
    },
    "id": "EvCZvSKf1wIw"
   },
   "outputs": [
    {
     "name": "stderr",
     "output_type": "stream",
     "text": [
      "C:\\Users\\Will Jiang\\anaconda3\\lib\\site-packages\\seaborn\\_decorators.py:36: FutureWarning: Pass the following variable as a keyword arg: x. From version 0.12, the only valid positional argument will be `data`, and passing other arguments without an explicit keyword will result in an error or misinterpretation.\n",
      "  warnings.warn(\n",
      "C:\\Users\\Will Jiang\\anaconda3\\lib\\site-packages\\seaborn\\categorical.py:3762: UserWarning: catplot is a figure-level function and does not accept target axes. You may wish to try countplot\n",
      "  warnings.warn(msg, UserWarning)\n"
     ]
    },
    {
     "data": {
      "image/png": "[encoded data removed]",
      "text/plain": [
       "<Figure size 432.125x360 with 1 Axes>"
      ]
     },
     "metadata": {
      "needs_background": "light"
     },
     "output_type": "display_data"
    }
   ],
   "source": [
    "import pandas as pd\n",
    "import numpy as np\n",
    "\n",
    "import matplotlib.pyplot as plt\n",
    "from matplotlib.patches import Patch\n",
    "from matplotlib.lines import Line2D\n",
    "import seaborn as sns\n",
    "\n",
    "\n",
    "fig, ax = plt.subplots()\n",
    "\n",
    "sns.catplot(\"target\", hue=\"gender\", data=df, kind=\"count\", \n",
    "            palette={'Male':\"blue\", 'Female':\"green\", 'Other':'red'}, ax=ax)\n",
    "\n",
    "plt.close(1) # catplot creates an extra figure we don't need\n",
    "\n",
    "ax.set_xlabel(\"Target\")\n",
    "\n",
    "color_patches = [\n",
    "    Patch(facecolor=\"blue\", label=\"Male\"),\n",
    "    Patch(facecolor=\"green\", label=\"Female\"),\n",
    "    Patch(facecolor = 'red', label = 'Other')\n",
    "]\n",
    "ax.legend(handles=color_patches)\n",
    "\n",
    "fig.suptitle(\"Gender against the target variable\");"
   ]
  },
  {
   "cell_type": "code",
   "execution_count": 25,
   "id": "a6781001",
   "metadata": {
    "ExecuteTime": {
     "end_time": "2021-10-02T03:29:42.935657Z",
     "start_time": "2021-10-02T03:29:42.676191Z"
    },
    "id": "_R_RpWwz1y7B"
   },
   "outputs": [
    {
     "name": "stderr",
     "output_type": "stream",
     "text": [
      "C:\\Users\\Will Jiang\\anaconda3\\lib\\site-packages\\seaborn\\_decorators.py:36: FutureWarning: Pass the following variable as a keyword arg: x. From version 0.12, the only valid positional argument will be `data`, and passing other arguments without an explicit keyword will result in an error or misinterpretation.\n",
      "  warnings.warn(\n",
      "C:\\Users\\Will Jiang\\anaconda3\\lib\\site-packages\\seaborn\\categorical.py:3762: UserWarning: catplot is a figure-level function and does not accept target axes. You may wish to try countplot\n",
      "  warnings.warn(msg, UserWarning)\n",
      "No handles with labels found to put in legend.\n",
      "<ipython-input-25-aeea829d8216>:9: UserWarning: FixedFormatter should only be used together with FixedLocator\n",
      "  ax.set_xticklabels([\"took new job\", \"did not take new job\"])\n"
     ]
    },
    {
     "data": {
      "image/png": "[encoded data removed]",
      "text/plain": [
       "<Figure size 402.375x360 with 1 Axes>"
      ]
     },
     "metadata": {
      "needs_background": "light"
     },
     "output_type": "display_data"
    }
   ],
   "source": [
    "fig, ax = plt.subplots()\n",
    "\n",
    "sns.catplot(\"gender\", hue=\"target\", data=df, kind=\"count\", \n",
    "            palette={1:\"yellow\", 0:\"orange\"}, ax=ax)\n",
    "\n",
    "plt.close(1) # catplot creates an extra figure we don't need\n",
    "\n",
    "ax.legend(title=\"target\")\n",
    "ax.set_xticklabels([\"took new job\", \"did not take new job\"])\n",
    "ax.set_xlabel(\"\")\n",
    "\n",
    "fig.suptitle(\"gender and target\");\n",
    "\n",
    "\n",
    "\n"
   ]
  },
  {
   "cell_type": "code",
   "execution_count": 26,
   "id": "a405497b",
   "metadata": {
    "ExecuteTime": {
     "end_time": "2021-10-02T03:29:45.337724Z",
     "start_time": "2021-10-02T03:29:44.588876Z"
    },
    "id": "nyjzYqn911Li"
   },
   "outputs": [
    {
     "name": "stderr",
     "output_type": "stream",
     "text": [
      "C:\\Users\\Will Jiang\\anaconda3\\lib\\site-packages\\seaborn\\_decorators.py:36: FutureWarning: Pass the following variable as a keyword arg: x. From version 0.12, the only valid positional argument will be `data`, and passing other arguments without an explicit keyword will result in an error or misinterpretation.\n",
      "  warnings.warn(\n",
      "C:\\Users\\Will Jiang\\anaconda3\\lib\\site-packages\\seaborn\\categorical.py:3762: UserWarning: catplot is a figure-level function and does not accept target axes. You may wish to try countplot\n",
      "  warnings.warn(msg, UserWarning)\n",
      "No handles with labels found to put in legend.\n",
      "<ipython-input-26-52707c4ef4c0>:9: UserWarning: FixedFormatter should only be used together with FixedLocator\n",
      "  ax.set_xticklabels([\"took new job\", \"did not take new job\"])\n",
      "C:\\Users\\Will Jiang\\anaconda3\\lib\\site-packages\\seaborn\\_decorators.py:36: FutureWarning: Pass the following variable as a keyword arg: x. From version 0.12, the only valid positional argument will be `data`, and passing other arguments without an explicit keyword will result in an error or misinterpretation.\n",
      "  warnings.warn(\n",
      "C:\\Users\\Will Jiang\\anaconda3\\lib\\site-packages\\seaborn\\categorical.py:3762: UserWarning: catplot is a figure-level function and does not accept target axes. You may wish to try countplot\n",
      "  warnings.warn(msg, UserWarning)\n",
      "C:\\Users\\Will Jiang\\anaconda3\\lib\\site-packages\\seaborn\\_decorators.py:36: FutureWarning: Pass the following variable as a keyword arg: x. From version 0.12, the only valid positional argument will be `data`, and passing other arguments without an explicit keyword will result in an error or misinterpretation.\n",
      "  warnings.warn(\n",
      "C:\\Users\\Will Jiang\\anaconda3\\lib\\site-packages\\seaborn\\categorical.py:3762: UserWarning: catplot is a figure-level function and does not accept target axes. You may wish to try countplot\n",
      "  warnings.warn(msg, UserWarning)\n"
     ]
    },
    {
     "data": {
      "image/png": "[encoded data removed]",
      "text/plain": [
       "<Figure size 402.375x360 with 1 Axes>"
      ]
     },
     "metadata": {
      "needs_background": "light"
     },
     "output_type": "display_data"
    },
    {
     "data": {
      "image/png": "[encoded data removed]",
      "text/plain": [
       "<Figure size 402.375x360 with 1 Axes>"
      ]
     },
     "metadata": {
      "needs_background": "light"
     },
     "output_type": "display_data"
    },
    {
     "data": {
      "image/png": "[encoded data removed]",
      "text/plain": [
       "<Figure size 402.375x360 with 1 Axes>"
      ]
     },
     "metadata": {
      "needs_background": "light"
     },
     "output_type": "display_data"
    }
   ],
   "source": [
    "fig, ax = plt.subplots()\n",
    "\n",
    "sns.catplot(\"relevent_experience\", hue=\"target\", data=df, kind=\"count\", \n",
    "            palette={1:\"yellow\", 0:\"orange\"}, ax=ax)\n",
    "\n",
    "plt.close(1) # catplot creates an extra figure we don't need\n",
    "\n",
    "ax.legend(title=\"target\")\n",
    "ax.set_xticklabels([\"took new job\", \"did not take new job\"])\n",
    "ax.set_xlabel(\"\")\n",
    "\n",
    "fig.suptitle(\"gender and target\");\n",
    "\n",
    "\n",
    "sns.catplot(\"enrolled_university\", hue=\"target\", data=df, kind=\"count\", \n",
    "            palette={1:\"yellow\", 0:\"orange\"}, ax=ax)\n",
    "\n",
    "plt.close(1)\n",
    "\n",
    "sns.catplot(\"education_level\", hue=\"target\", data=df, kind=\"count\", \n",
    "            palette={1:\"yellow\", 0:\"orange\"}, ax=ax)\n",
    "\n",
    "plt.close(1)"
   ]
  },
  {
   "cell_type": "code",
   "execution_count": 27,
   "id": "8fc9b29a",
   "metadata": {
    "ExecuteTime": {
     "end_time": "2021-10-02T03:29:48.118598Z",
     "start_time": "2021-10-02T03:29:48.100832Z"
    },
    "id": "wifnnNFN15o4"
   },
   "outputs": [
    {
     "data": {
      "text/plain": [
       "city_development_index    0\n",
       "gender                    0\n",
       "relevent_experience       0\n",
       "enrolled_university       0\n",
       "education_level           0\n",
       "major_discipline          0\n",
       "experience                0\n",
       "company_size              0\n",
       "company_type              0\n",
       "last_new_job              0\n",
       "training_hours            0\n",
       "target                    0\n",
       "cut_exp                   0\n",
       "dtype: int64"
      ]
     },
     "execution_count": 27,
     "metadata": {},
     "output_type": "execute_result"
    }
   ],
   "source": [
    "df.isna().sum()"
   ]
  },
  {
   "cell_type": "code",
   "execution_count": 28,
   "id": "78b34243",
   "metadata": {
    "ExecuteTime": {
     "end_time": "2021-10-02T03:29:51.804962Z",
     "start_time": "2021-10-02T03:29:51.612591Z"
    },
    "id": "Tk_NMfZy171u"
   },
   "outputs": [
    {
     "data": {
      "image/png": "[encoded data removed]",
      "text/plain": [
       "<Figure size 360x360 with 2 Axes>"
      ]
     },
     "metadata": {
      "needs_background": "light"
     },
     "output_type": "display_data"
    }
   ],
   "source": [
    "# find correlations among variables\n",
    "corr_matrix = df.corr()\n",
    "top_correlated_features = corr_matrix.index\n",
    "plt.figure(figsize = (5,5))\n",
    "sns.set(style = \"whitegrid\")\n",
    "plot = sns.heatmap(corr_matrix, annot = True, linewidths = .5, annot_kws={\"size\": 12})"
   ]
  },
  {
   "cell_type": "markdown",
   "id": "26499d5d",
   "metadata": {},
   "source": [
    "## DATA CLEANING"
   ]
  },
  {
   "cell_type": "code",
   "execution_count": 6,
   "id": "1f13eb51",
   "metadata": {
    "ExecuteTime": {
     "end_time": "2021-10-02T04:04:38.271490Z",
     "start_time": "2021-10-02T04:04:38.253544Z"
    },
    "id": "918822ee",
    "outputId": "4c98e6b1-83c8-4582-a6ef-406ea7fdcc5a"
   },
   "outputs": [
    {
     "data": {
      "text/plain": [
       "city_development_index       0\n",
       "gender                    4508\n",
       "relevent_experience          0\n",
       "enrolled_university        386\n",
       "education_level            460\n",
       "major_discipline          2813\n",
       "experience                  65\n",
       "company_size              5938\n",
       "company_type              6140\n",
       "last_new_job               423\n",
       "training_hours               0\n",
       "target                       0\n",
       "dtype: int64"
      ]
     },
     "execution_count": 6,
     "metadata": {},
     "output_type": "execute_result"
    }
   ],
   "source": [
    "df.isna().sum()"
   ]
  },
  {
   "cell_type": "markdown",
   "id": "03479060",
   "metadata": {
    "id": "cb3bcbd9"
   },
   "source": [
    "### since \"education_level\",\"enrolled_university\",\"experience\",\"last_new_job\", \"major_discipline\" have relatively small number of null value, we decide to drop it directly"
   ]
  },
  {
   "cell_type": "code",
   "execution_count": 7,
   "id": "78bd2a00",
   "metadata": {
    "ExecuteTime": {
     "end_time": "2021-10-02T04:04:39.642234Z",
     "start_time": "2021-10-02T04:04:39.621414Z"
    },
    "id": "af45160e"
   },
   "outputs": [],
   "source": [
    "df.dropna(subset=[\"education_level\",\"enrolled_university\",\"experience\",\"last_new_job\",\"major_discipline\"],inplace = True)"
   ]
  },
  {
   "cell_type": "code",
   "execution_count": 8,
   "id": "d5082e9c",
   "metadata": {
    "ExecuteTime": {
     "end_time": "2021-10-02T04:04:40.355368Z",
     "start_time": "2021-10-02T04:04:40.341642Z"
    },
    "id": "5d25b4f4",
    "outputId": "559d904e-9b61-4eaf-a726-fbafcf4ea9d0",
    "scrolled": true
   },
   "outputs": [
    {
     "data": {
      "text/plain": [
       "15792"
      ]
     },
     "execution_count": 8,
     "metadata": {},
     "output_type": "execute_result"
    }
   ],
   "source": [
    "len(df)"
   ]
  },
  {
   "cell_type": "code",
   "execution_count": 9,
   "id": "504e9578",
   "metadata": {
    "ExecuteTime": {
     "end_time": "2021-10-02T04:04:41.741678Z",
     "start_time": "2021-10-02T04:04:41.725731Z"
    },
    "id": "d05a651e",
    "outputId": "d8cb094c-fbad-4b7e-ea14-f7b34af39602"
   },
   "outputs": [
    {
     "data": {
      "text/plain": [
       "city_development_index       0\n",
       "gender                    3315\n",
       "relevent_experience          0\n",
       "enrolled_university          0\n",
       "education_level              0\n",
       "major_discipline             0\n",
       "experience                   0\n",
       "company_size              3993\n",
       "company_type              4232\n",
       "last_new_job                 0\n",
       "training_hours               0\n",
       "target                       0\n",
       "dtype: int64"
      ]
     },
     "execution_count": 9,
     "metadata": {},
     "output_type": "execute_result"
    }
   ],
   "source": [
    "df.isna().sum()"
   ]
  },
  {
   "cell_type": "markdown",
   "id": "e08b6786",
   "metadata": {
    "id": "41a73d03"
   },
   "source": [
    "### replace null in \"gender\" with \"Other\""
   ]
  },
  {
   "cell_type": "code",
   "execution_count": 10,
   "id": "a9067931",
   "metadata": {
    "ExecuteTime": {
     "end_time": "2021-10-02T04:04:43.729535Z",
     "start_time": "2021-10-02T04:04:43.725552Z"
    },
    "id": "59ce74a1"
   },
   "outputs": [],
   "source": [
    "df.gender = df.gender.fillna('Other')"
   ]
  },
  {
   "cell_type": "markdown",
   "id": "5212487d",
   "metadata": {
    "id": "635e0564"
   },
   "source": [
    "### deal with company_size & company_type (fill in with mode)"
   ]
  },
  {
   "cell_type": "code",
   "execution_count": 11,
   "id": "b99eab88",
   "metadata": {
    "ExecuteTime": {
     "end_time": "2021-10-02T04:04:45.381437Z",
     "start_time": "2021-10-02T04:04:45.364489Z"
    },
    "id": "6b3b3c5f",
    "outputId": "aa30cf5b-2537-4d83-ddfb-11c66adc7f14"
   },
   "outputs": [
    {
     "data": {
      "text/plain": [
       "city_development_index       0\n",
       "gender                       0\n",
       "relevent_experience          0\n",
       "enrolled_university          0\n",
       "education_level              0\n",
       "major_discipline             0\n",
       "experience                   0\n",
       "company_size              3993\n",
       "company_type              4232\n",
       "last_new_job                 0\n",
       "training_hours               0\n",
       "target                       0\n",
       "dtype: int64"
      ]
     },
     "execution_count": 11,
     "metadata": {},
     "output_type": "execute_result"
    }
   ],
   "source": [
    "df.isna().sum()"
   ]
  },
  {
   "cell_type": "code",
   "execution_count": 12,
   "id": "f50c7503",
   "metadata": {
    "ExecuteTime": {
     "end_time": "2021-10-02T04:04:46.595541Z",
     "start_time": "2021-10-02T04:04:46.452728Z"
    },
    "id": "33d136cf",
    "outputId": "4920f498-480f-4146-840d-839707d919d7"
   },
   "outputs": [
    {
     "data": {
      "image/png": "[encoded data removed]",
      "text/plain": [
       "<Figure size 432x288 with 1 Axes>"
      ]
     },
     "metadata": {
      "needs_background": "light"
     },
     "output_type": "display_data"
    }
   ],
   "source": [
    "sns.histplot(df.loc[df.company_size.isna(), 'company_type'].replace(np.nan, 'NaN')) \n",
    "#those two columns are correlated\n",
    "#5000 of data points are null in both of the columns\n",
    "plt.xticks(rotation=30)\n",
    "plt.show()"
   ]
  },
  {
   "cell_type": "code",
   "execution_count": 13,
   "id": "2513a7e6",
   "metadata": {
    "ExecuteTime": {
     "end_time": "2021-10-02T04:04:47.794380Z",
     "start_time": "2021-10-02T04:04:47.781616Z"
    },
    "id": "8371d9bb",
    "outputId": "77935c78-e7f0-4e42-e3c8-d0dde514ff40"
   },
   "outputs": [
    {
     "name": "stdout",
     "output_type": "stream",
     "text": [
      "0    Pvt Ltd\n",
      "dtype: object\n",
      "0    50-99\n",
      "dtype: object\n"
     ]
    }
   ],
   "source": [
    "print(df.company_type.mode())\n",
    "print(df.company_size.mode())"
   ]
  },
  {
   "cell_type": "code",
   "execution_count": 14,
   "id": "0973426b",
   "metadata": {
    "ExecuteTime": {
     "end_time": "2021-10-02T04:04:49.197686Z",
     "start_time": "2021-10-02T04:04:49.070539Z"
    },
    "id": "124cf8ca",
    "outputId": "ba2417ad-84ff-468d-f606-672a4310db47"
   },
   "outputs": [
    {
     "name": "stderr",
     "output_type": "stream",
     "text": [
      "C:\\Users\\Will Jiang\\anaconda3\\lib\\site-packages\\seaborn\\_decorators.py:36: FutureWarning: Pass the following variable as a keyword arg: x. From version 0.12, the only valid positional argument will be `data`, and passing other arguments without an explicit keyword will result in an error or misinterpretation.\n",
      "  warnings.warn(\n"
     ]
    },
    {
     "data": {
      "image/png": "[encoded data removed]",
      "text/plain": [
       "<Figure size 432x288 with 1 Axes>"
      ]
     },
     "metadata": {
      "needs_background": "light"
     },
     "output_type": "display_data"
    }
   ],
   "source": [
    "sns.countplot(df.company_size)\n",
    "plt.xticks(rotation=30)\n",
    "plt.show()"
   ]
  },
  {
   "cell_type": "code",
   "execution_count": 15,
   "id": "86c5d9e3",
   "metadata": {
    "ExecuteTime": {
     "end_time": "2021-10-02T04:04:50.453542Z",
     "start_time": "2021-10-02T04:04:50.444573Z"
    },
    "id": "d5c4dc8f"
   },
   "outputs": [],
   "source": [
    "df[\"company_type\"].fillna(df[\"company_type\"].mode()[0],inplace=True)\n",
    "df[\"company_size\"].fillna(df[\"company_size\"].mode()[0],inplace=True)"
   ]
  },
  {
   "cell_type": "markdown",
   "id": "f2cdbe5d",
   "metadata": {
    "id": "4c911c3b"
   },
   "source": [
    "### deal with experience column\n",
    "### cut experience into 5 levels\n",
    "### 0-4, 5-10, 11-14, 15-19, >20"
   ]
  },
  {
   "cell_type": "code",
   "execution_count": 16,
   "id": "fa59fa1b",
   "metadata": {
    "ExecuteTime": {
     "end_time": "2021-10-02T04:04:52.153090Z",
     "start_time": "2021-10-02T04:04:51.965551Z"
    },
    "id": "455f41d9",
    "outputId": "dd211399-44d4-46cc-9bdb-87829e9b54c5",
    "scrolled": false
   },
   "outputs": [
    {
     "name": "stderr",
     "output_type": "stream",
     "text": [
      "C:\\Users\\Will Jiang\\anaconda3\\lib\\site-packages\\seaborn\\_decorators.py:36: FutureWarning: Pass the following variable as a keyword arg: x. From version 0.12, the only valid positional argument will be `data`, and passing other arguments without an explicit keyword will result in an error or misinterpretation.\n",
      "  warnings.warn(\n"
     ]
    },
    {
     "data": {
      "image/png": "[encoded data removed]",
      "text/plain": [
       "<Figure size 432x288 with 1 Axes>"
      ]
     },
     "metadata": {
      "needs_background": "light"
     },
     "output_type": "display_data"
    }
   ],
   "source": [
    "sns.countplot(df.experience)\n",
    "plt.xticks(rotation=30)\n",
    "plt.show()"
   ]
  },
  {
   "cell_type": "code",
   "execution_count": 17,
   "id": "24006335",
   "metadata": {
    "ExecuteTime": {
     "end_time": "2021-10-02T04:04:53.339311Z",
     "start_time": "2021-10-02T04:04:53.301437Z"
    },
    "id": "3e37e99c"
   },
   "outputs": [],
   "source": [
    "def cut_exp(x):\n",
    "    if x in ['<1','1','2','3','4']: return 1\n",
    "    elif x in [str(i) for i in range(5, 10)]: return 2\n",
    "    elif x in [str(i) for i in range(10, 15)]: return 3\n",
    "    elif x in [str(i) for i in range(15, 20)]: return 4\n",
    "    else: return 5\n",
    "\n",
    "df['cut_exp'] = df['experience'].apply(cut_exp)"
   ]
  },
  {
   "cell_type": "code",
   "execution_count": 18,
   "id": "4f1172a8",
   "metadata": {
    "ExecuteTime": {
     "end_time": "2021-10-02T04:04:54.832170Z",
     "start_time": "2021-10-02T04:04:54.805398Z"
    },
    "id": "5ba7e74d",
    "outputId": "146f5cd3-c7d7-4dd5-aa07-5452cfe2b2a8"
   },
   "outputs": [
    {
     "data": {
      "text/plain": [
       "Index(['city_development_index', 'training_hours', 'target', 'gender_Male',\n",
       "       'gender_Other', 'relevent_experience_No relevent experience',\n",
       "       'enrolled_university_Part time course',\n",
       "       'enrolled_university_no_enrollment', 'education_level_Masters',\n",
       "       'education_level_Phd', 'major_discipline_Business Degree',\n",
       "       'major_discipline_Humanities', 'major_discipline_No Major',\n",
       "       'major_discipline_Other', 'major_discipline_STEM',\n",
       "       'company_size_1000-4999', 'company_size_10000+', 'company_size_50-99',\n",
       "       'company_size_500-999', 'company_size_5000-9999', 'company_size_<10',\n",
       "       'company_size_Oct-49', 'company_type_Funded Startup',\n",
       "       'company_type_NGO', 'company_type_Other', 'company_type_Public Sector',\n",
       "       'company_type_Pvt Ltd', 'last_new_job_2', 'last_new_job_3',\n",
       "       'last_new_job_4', 'last_new_job_>4', 'last_new_job_never', 'cut_exp_2',\n",
       "       'cut_exp_3', 'cut_exp_4', 'cut_exp_5'],\n",
       "      dtype='object')"
      ]
     },
     "execution_count": 18,
     "metadata": {},
     "output_type": "execute_result"
    }
   ],
   "source": [
    "df1 = df.copy()\n",
    "df1[['cut_exp']] = df1[['cut_exp']].astype('object')\n",
    "df1 = df1.loc[:, [x for x in df1.columns if x != 'experience']]\n",
    "df1 = pd.get_dummies(df1, drop_first = True)\n",
    "df1.columns"
   ]
  },
  {
   "cell_type": "markdown",
   "id": "f21610bc",
   "metadata": {
    "id": "94afc2e6"
   },
   "source": [
    "### balance the data (under-sampling)"
   ]
  },
  {
   "cell_type": "code",
   "execution_count": 19,
   "id": "721accda",
   "metadata": {
    "ExecuteTime": {
     "end_time": "2021-10-02T04:04:56.266519Z",
     "start_time": "2021-10-02T04:04:56.252579Z"
    },
    "id": "6b3ade18",
    "outputId": "9f20c8b8-2921-4054-c48d-d5297969c0fd"
   },
   "outputs": [
    {
     "name": "stdout",
     "output_type": "stream",
     "text": [
      "15792 4004\n"
     ]
    }
   ],
   "source": [
    "X = df1.drop('target', axis=1)\n",
    "y = df1.target\n",
    "print(len(y), sum(y))"
   ]
  },
  {
   "cell_type": "code",
   "execution_count": 20,
   "id": "abe29b42",
   "metadata": {
    "ExecuteTime": {
     "end_time": "2021-10-02T04:04:57.605170Z",
     "start_time": "2021-10-02T04:04:57.125368Z"
    },
    "id": "b955e2f8"
   },
   "outputs": [],
   "source": [
    "from sklearn.utils import resample\n",
    "\n",
    "X_resampled, y_resampled = resample(X[y==0], y[y==0], replace=False, n_samples=X[y==1].shape[0], random_state=42)"
   ]
  },
  {
   "cell_type": "code",
   "execution_count": 21,
   "id": "83fbf2bf",
   "metadata": {
    "ExecuteTime": {
     "end_time": "2021-10-02T04:04:58.242343Z",
     "start_time": "2021-10-02T04:04:58.221689Z"
    },
    "id": "83520a6a"
   },
   "outputs": [],
   "source": [
    "X = np.vstack((X_resampled, X[y==1]))\n",
    "y = np.hstack((y_resampled, y[y==1]))"
   ]
  },
  {
   "cell_type": "code",
   "execution_count": 22,
   "id": "c1431d65",
   "metadata": {
    "ExecuteTime": {
     "end_time": "2021-10-02T04:04:58.923559Z",
     "start_time": "2021-10-02T04:04:58.916583Z"
    },
    "id": "0eb942fd",
    "outputId": "cc354bc0-6749-4a1a-c8e9-87e71d729ab0"
   },
   "outputs": [
    {
     "name": "stdout",
     "output_type": "stream",
     "text": [
      "8008 4004\n"
     ]
    }
   ],
   "source": [
    "print(len(y), y.sum())"
   ]
  },
  {
   "cell_type": "code",
   "execution_count": 35,
   "id": "ec1a0743",
   "metadata": {
    "ExecuteTime": {
     "end_time": "2021-10-02T04:15:34.987076Z",
     "start_time": "2021-10-02T04:15:34.967183Z"
    }
   },
   "outputs": [
    {
     "data": {
      "text/plain": [
       "array([[ 0.77, 54.  ,  1.  , ...,  0.  ,  0.  ,  0.  ],\n",
       "       [ 0.92, 36.  ,  1.  , ...,  0.  ,  0.  ,  1.  ],\n",
       "       [ 0.62, 78.  ,  1.  , ...,  0.  ,  0.  ,  0.  ],\n",
       "       ...,\n",
       "       [ 0.92, 36.  ,  1.  , ...,  0.  ,  0.  ,  0.  ],\n",
       "       [ 0.88, 42.  ,  1.  , ...,  1.  ,  0.  ,  0.  ],\n",
       "       [ 0.92, 52.  ,  1.  , ...,  1.  ,  0.  ,  0.  ]])"
      ]
     },
     "execution_count": 35,
     "metadata": {},
     "output_type": "execute_result"
    }
   ],
   "source": [
    "X"
   ]
  },
  {
   "cell_type": "markdown",
   "id": "a61001de",
   "metadata": {
    "id": "feeca4a7"
   },
   "source": [
    "# MODELLING"
   ]
  },
  {
   "cell_type": "code",
   "execution_count": 23,
   "id": "c37f9df2",
   "metadata": {
    "ExecuteTime": {
     "end_time": "2021-10-02T04:05:01.344468Z",
     "start_time": "2021-10-02T04:05:01.261610Z"
    },
    "id": "GLaGq8CdvOhn"
   },
   "outputs": [],
   "source": [
    "from sklearn.model_selection import train_test_split\n",
    "from sklearn.linear_model import LogisticRegression\n",
    "from sklearn.neighbors import KNeighborsClassifier\n",
    "from sklearn.tree import DecisionTreeClassifier,plot_tree\n",
    "from sklearn.pipeline import Pipeline\n",
    "from sklearn.model_selection import GridSearchCV, KFold, cross_val_score\n",
    "from sklearn.metrics import plot_confusion_matrix,accuracy_score,roc_curve,auc\n",
    "from sklearn.preprocessing import StandardScaler"
   ]
  },
  {
   "cell_type": "code",
   "execution_count": 24,
   "id": "53a938da",
   "metadata": {
    "ExecuteTime": {
     "end_time": "2021-10-02T04:05:02.466422Z",
     "start_time": "2021-10-02T04:05:02.462448Z"
    },
    "id": "qnNPyxCLvUCP"
   },
   "outputs": [
    {
     "name": "stdout",
     "output_type": "stream",
     "text": [
      "35 35\n"
     ]
    }
   ],
   "source": [
    "print(X.shape[1], len([x for x in df1.columns if x != 'target']))"
   ]
  },
  {
   "cell_type": "code",
   "execution_count": 25,
   "id": "3fca4317",
   "metadata": {
    "ExecuteTime": {
     "end_time": "2021-10-02T04:05:03.925742Z",
     "start_time": "2021-10-02T04:05:03.916772Z"
    },
    "id": "9qEfbGNFvWTi"
   },
   "outputs": [],
   "source": [
    "inner_cv = KFold(n_splits=5, shuffle=True, random_state=42)\n",
    "outer_cv = KFold(n_splits=5, shuffle=True, random_state=42)"
   ]
  },
  {
   "cell_type": "code",
   "execution_count": 26,
   "id": "cbacd255",
   "metadata": {
    "ExecuteTime": {
     "end_time": "2021-10-02T04:06:34.932569Z",
     "start_time": "2021-10-02T04:05:26.029005Z"
    },
    "id": "HEzaq9dWvX7J"
   },
   "outputs": [
    {
     "name": "stdout",
     "output_type": "stream",
     "text": [
      "Desicion Tree:\n",
      "Non-nested CV accuracy:  0.7441294883581657\n",
      "Optimal Parameter:  {'criterion': 'gini', 'max_depth': 6, 'min_samples_leaf': 7, 'min_samples_split': 2}\n",
      "Optimal Estimator:  DecisionTreeClassifier(max_depth=6, min_samples_leaf=7, random_state=42)\n"
     ]
    }
   ],
   "source": [
    "#Decision Tree Parameter Tuning\n",
    "param_tree = {\n",
    "    'max_depth': range(1,20),\n",
    "    'criterion':['gini','entropy'],\n",
    "    'min_samples_leaf':range(1,10),\n",
    "    'min_samples_split':range(0,10)\n",
    "}\n",
    "\n",
    "gs_tree = GridSearchCV(estimator=DecisionTreeClassifier(random_state=42),\n",
    "                       param_grid=param_tree,\n",
    "                       scoring='accuracy',\n",
    "                       cv=5,\n",
    "                       n_jobs=-1)\n",
    "\n",
    "gs_tree = gs_tree.fit(X,y)\n",
    "print(\"Desicion Tree:\")\n",
    "print(\"Non-nested CV accuracy: \", gs_tree.best_score_)\n",
    "print(\"Optimal Parameter: \", gs_tree.best_params_)\n",
    "print(\"Optimal Estimator: \", gs_tree.best_estimator_)\n",
    "\n",
    "# NCV_gs_tree = cross_val_score(gs_tree, X=X, y=y, scoring='accuracy', cv=outer_cv)\n",
    "# print(\"Nested CV accuraacy:\",NCV_gs_tree.mean(), \" +/- \", NCV_gs_tree.std())"
   ]
  },
  {
   "cell_type": "code",
   "execution_count": 27,
   "id": "180206c4",
   "metadata": {
    "ExecuteTime": {
     "end_time": "2021-10-02T04:06:51.384057Z",
     "start_time": "2021-10-02T04:06:49.236918Z"
    },
    "id": "Jv7zyrf4vZ9W"
   },
   "outputs": [
    {
     "data": {
      "image/png": "[encoded data removed]",
      "text/plain": [
       "<Figure size 432x288 with 1 Axes>"
      ]
     },
     "metadata": {
      "needs_background": "light"
     },
     "output_type": "display_data"
    }
   ],
   "source": [
    "#plot decision tree\n",
    "plot_tree(gs_tree.best_estimator_,\n",
    "          rounded = True,\n",
    "          filled = True)\n",
    "plt.show()"
   ]
  },
  {
   "cell_type": "code",
   "execution_count": 28,
   "id": "8894e6e8",
   "metadata": {
    "ExecuteTime": {
     "end_time": "2021-10-02T04:06:54.189078Z",
     "start_time": "2021-10-02T04:06:53.917012Z"
    },
    "id": "unbjv2dAvbzE"
   },
   "outputs": [
    {
     "name": "stdout",
     "output_type": "stream",
     "text": [
      "Confusion matrix, without normalization\n",
      "[[926 288]\n",
      " [292 897]]\n",
      "Normalized confusion matrix\n",
      "[[0.76 0.24]\n",
      " [0.25 0.75]]\n"
     ]
    },
    {
     "data": {
      "image/png": "[encoded data removed]",
      "text/plain": [
       "<Figure size 432x288 with 2 Axes>"
      ]
     },
     "metadata": {
      "needs_background": "light"
     },
     "output_type": "display_data"
    },
    {
     "data": {
      "image/png": "[encoded data removed]",
      "text/plain": [
       "<Figure size 432x288 with 2 Axes>"
      ]
     },
     "metadata": {
      "needs_background": "light"
     },
     "output_type": "display_data"
    }
   ],
   "source": [
    "# plot confusion matrix\n",
    "X_train, X_test, y_train, y_test = train_test_split(X, y, random_state=42, test_size =0.3)\n",
    "\n",
    "np.set_printoptions(precision=2) #determine floating point on matrix\n",
    "\n",
    "titles_options = [('Confusion matrix, without normalization', None),\n",
    "                  ('Normalized confusion matrix', 'true')]\n",
    "for title, normalize in titles_options:\n",
    "    disp = plot_confusion_matrix(gs_tree.best_estimator_, X_test, y_test,\n",
    "                                 cmap=plt.cm.Blues,\n",
    "                                 normalize=normalize)\n",
    "    disp.ax_.set_title(title)\n",
    "\n",
    "    print(title)\n",
    "    print(disp.confusion_matrix)\n",
    "\n",
    "plt.show()"
   ]
  },
  {
   "cell_type": "code",
   "execution_count": 29,
   "id": "336db80d",
   "metadata": {
    "ExecuteTime": {
     "end_time": "2021-10-02T04:07:06.476640Z",
     "start_time": "2021-10-02T04:07:05.909571Z"
    },
    "id": "I0v3dxNCvdx0"
   },
   "outputs": [
    {
     "name": "stdout",
     "output_type": "stream",
     "text": [
      "Logistic Regression\n",
      "Non-nested CV accuracy:  0.7050443659978433\n",
      "Optimal Parameter:  {'lr__C': 0.01, 'lr__penalty': 'l2'}\n",
      "Optimal Estimator:  Pipeline(steps=[('sc', StandardScaler()),\n",
      "                ('lr', LogisticRegression(C=0.01, random_state=42))])\n"
     ]
    }
   ],
   "source": [
    "#Logistic Regression Parameter Tuning\n",
    "pipe_lr = Pipeline([('sc',StandardScaler()),('lr',LogisticRegression(random_state=42))])\n",
    "\n",
    "param_lr={\n",
    "    'lr__C':10.0**np.arange(-5,6,1),\n",
    "    'lr__penalty':['l1','l2']\n",
    "}\n",
    "\n",
    "gs_lr = GridSearchCV(estimator=pipe_lr,\n",
    "                  param_grid=param_lr,\n",
    "                  scoring='accuracy',\n",
    "                  cv=5,\n",
    "                  n_jobs=-1)\n",
    "\n",
    "gs_lr = gs_lr.fit(X,y)\n",
    "print(\"Logistic Regression\")\n",
    "print(\"Non-nested CV accuracy: \", gs_lr.best_score_)\n",
    "print(\"Optimal Parameter: \", gs_lr.best_params_)\n",
    "print(\"Optimal Estimator: \", gs_lr.best_estimator_)\n",
    "\n",
    "# NCV_gs_lr = cross_val_score(gs_lr, X=X, y=y, scoring='accuracy', cv=outer_cv)\n",
    "# print(\"Nested CV accuraacy:\",NCV_gs_lr.mean(), \" +/- \", NCV_gs_lr.std())"
   ]
  },
  {
   "cell_type": "code",
   "execution_count": 30,
   "id": "e52ca186",
   "metadata": {
    "ExecuteTime": {
     "end_time": "2021-10-02T04:07:46.612888Z",
     "start_time": "2021-10-02T04:07:13.502025Z"
    },
    "id": "OPfzxtfXvgBZ"
   },
   "outputs": [
    {
     "name": "stdout",
     "output_type": "stream",
     "text": [
      "KNN\n",
      "Non-nested CV accuracy:  0.6809438701311057\n",
      "Optimal Parameter:  {'knn__n_neighbors': 27, 'knn__weights': 'uniform'}\n",
      "Optimal Estimator:  Pipeline(steps=[('sc', StandardScaler()),\n",
      "                ('knn', KNeighborsClassifier(n_neighbors=27))])\n"
     ]
    }
   ],
   "source": [
    "#KNN Parameter Tuning\n",
    "pipe = Pipeline([('sc', StandardScaler()),('knn', KNeighborsClassifier())])\n",
    "\n",
    "param_knn = {\n",
    "        'knn__n_neighbors': np.arange(1,50,2),\n",
    "        'knn__weights': ['uniform', 'distance']\n",
    "    }\n",
    "\n",
    "gs_knn = GridSearchCV(estimator=pipe,\n",
    "                  param_grid=param_knn,\n",
    "                  scoring='accuracy',\n",
    "                  cv=5,\n",
    "                  n_jobs=-1)\n",
    "\n",
    "gs_knn = gs_knn.fit(X,y) \n",
    "print(\"KNN\")\n",
    "print(\"Non-nested CV accuracy: \", gs_knn.best_score_)\n",
    "print(\"Optimal Parameter: \", gs_knn.best_params_)\n",
    "print(\"Optimal Estimator: \", gs_knn.best_estimator_)\n",
    "\n",
    "# NCV_gs_knn = cross_val_score(gs_knn, X=X, y=y, scoring='accuracy', cv=outer_cv)\n",
    "# print(\"Nested CV accuraacy:\",NCV_gs_knn.mean(), \" +/- \", NCV_gs_knn.std())"
   ]
  },
  {
   "cell_type": "markdown",
   "id": "0c79d019",
   "metadata": {
    "id": "eRlhBHloSpXK"
   },
   "source": [
    "## **ROC curve**"
   ]
  },
  {
   "cell_type": "code",
   "execution_count": 31,
   "id": "9ba9357f",
   "metadata": {
    "ExecuteTime": {
     "end_time": "2021-10-02T04:07:50.395830Z",
     "start_time": "2021-10-02T04:07:50.388882Z"
    },
    "id": "8a9e37aa"
   },
   "outputs": [],
   "source": [
    "knn_clf = gs_knn.best_estimator_\n",
    "lr_clf = gs_lr.best_estimator_\n",
    "dt_clf = gs_tree.best_estimator_"
   ]
  },
  {
   "cell_type": "code",
   "execution_count": 43,
   "id": "260b3d2d",
   "metadata": {
    "ExecuteTime": {
     "end_time": "2021-10-02T03:47:56.076413Z",
     "start_time": "2021-10-02T03:47:54.173572Z"
    },
    "id": "JGIuU-3IS44L"
   },
   "outputs": [
    {
     "name": "stdout",
     "output_type": "stream",
     "text": [
      "5-fold cross validation:\n",
      "\n",
      "ROC AUC: 0.76 (+/- 0.00) [Logistic regression]\n",
      "ROC AUC: 0.78 (+/- 0.00) [Decision tree]\n",
      "ROC AUC: 0.73 (+/- 0.01) [kNN]\n"
     ]
    }
   ],
   "source": [
    "clf_labels = ['Logistic regression', 'Decision tree', 'kNN']\n",
    "all_clf = [lr_clf, dt_clf, knn_clf]\n",
    "\n",
    "print('5-fold cross validation:\\n')\n",
    "\n",
    "for clf, label in zip(all_clf, clf_labels): #For all classifiers \n",
    "    scores = cross_val_score(estimator=clf, \n",
    "                             X=X,\n",
    "                             y=y,\n",
    "                             cv=5,\n",
    "                             scoring='roc_auc')\n",
    "    print(\"ROC AUC: %0.2f (+/- %0.2f) [%s]\"\n",
    "          % (scores.mean(), scores.std(), label))"
   ]
  },
  {
   "cell_type": "code",
   "execution_count": 44,
   "id": "12ad57a5",
   "metadata": {
    "ExecuteTime": {
     "end_time": "2021-10-02T03:48:14.901655Z",
     "start_time": "2021-10-02T03:48:14.253541Z"
    },
    "id": "0Vaann8zS7XH"
   },
   "outputs": [
    {
     "data": {
      "image/png": "[encoded data removed]",
      "text/plain": [
       "<Figure size 432x288 with 1 Axes>"
      ]
     },
     "metadata": {},
     "output_type": "display_data"
    }
   ],
   "source": [
    "colors = [ 'orange', 'blue', 'green']      \n",
    "linestyles = [':', '--', '-.', '-']        \n",
    "for clf, label, clr, ls in zip(all_clf, clf_labels, colors, linestyles):\n",
    "\n",
    "    # Assuming the label of the positive class is 1 and data is normalized\n",
    "    y_pred = clf.fit(X_train,y_train).predict_proba(X_test)[:, 1] \n",
    "    fpr, tpr, thresholds = roc_curve(y_true=y_test, y_score=y_pred)\n",
    "    roc_auc = auc(x=fpr, y=tpr)               \n",
    "    plt.plot(fpr, tpr,\n",
    "             color=clr,\n",
    "             linestyle=ls,\n",
    "             label='%s (auc = %0.3f)' % (label, roc_auc))\n",
    "\n",
    "plt.legend(loc='lower right')    \n",
    "plt.plot([0, 1], [0, 1], \n",
    "         linestyle='--',\n",
    "         color='gray',\n",
    "         linewidth=2)\n",
    "\n",
    "plt.xlim([-0.1, 1.1])   #limits for x axis\n",
    "plt.ylim([-0.1, 1.1])   #limits for y axis\n",
    "plt.grid(alpha=0.5)\n",
    "plt.xlabel('False positive rate (FPR)')\n",
    "plt.ylabel('True positive rate (TPR)')\n",
    "\n",
    "\n",
    "#plt.savefig('ROC_all_classifiers', dpi=300)\n",
    "plt.show()"
   ]
  },
  {
   "cell_type": "markdown",
   "id": "bf8f6399",
   "metadata": {},
   "source": [
    "## PREDICTION"
   ]
  },
  {
   "cell_type": "code",
   "execution_count": 45,
   "id": "fd66fcd1",
   "metadata": {
    "ExecuteTime": {
     "end_time": "2021-10-02T04:26:28.320111Z",
     "start_time": "2021-10-02T04:26:28.310156Z"
    }
   },
   "outputs": [],
   "source": [
    "msba_sample = np.array([0.9,65,1,0,1,0,0,1,0,0,0,0,0,1,0,0,0,0,0,1,0,1,0,0,0,0,0,0,0,0,1,0,0,0,0])"
   ]
  },
  {
   "cell_type": "code",
   "execution_count": 41,
   "id": "154c6bd1",
   "metadata": {
    "ExecuteTime": {
     "end_time": "2021-10-02T04:23:57.081652Z",
     "start_time": "2021-10-02T04:23:57.069692Z"
    }
   },
   "outputs": [
    {
     "data": {
      "text/plain": [
       "array([ 0.9, 65. ,  1. ,  0. ,  1. ,  0. ,  0. ,  1. ,  0. ,  0. ,  0. ,\n",
       "        0. ,  0. ,  1. ,  0. ,  0. ,  0. ,  0. ,  0. ,  1. ,  0. ,  1. ,\n",
       "        0. ,  0. ,  0. ,  0. ,  0. ,  0. ,  0. ,  0. ,  1. ,  0. ,  0. ,\n",
       "        0. ,  0. ])"
      ]
     },
     "execution_count": 41,
     "metadata": {},
     "output_type": "execute_result"
    }
   ],
   "source": [
    "msba_sample"
   ]
  },
  {
   "cell_type": "code",
   "execution_count": 44,
   "id": "ff666849",
   "metadata": {
    "ExecuteTime": {
     "end_time": "2021-10-02T04:25:44.768123Z",
     "start_time": "2021-10-02T04:25:44.749247Z"
    }
   },
   "outputs": [
    {
     "data": {
      "text/plain": [
       "array([0], dtype=int64)"
      ]
     },
     "execution_count": 44,
     "metadata": {},
     "output_type": "execute_result"
    }
   ],
   "source": [
    "y_pred = dt_clf.predict([msba_sample])\n",
    "y_pred"
   ]
  }
 ],
 "metadata": {
  "colab": {
   "collapsed_sections": [],
   "name": "final_project.ipynb",
   "provenance": []
  },
  "kernelspec": {
   "display_name": "Python 3 (ipykernel)",
   "language": "python",
   "name": "python3"
  },
  "language_info": {
   "codemirror_mode": {
    "name": "ipython",
    "version": 3
   },
   "file_extension": ".py",
   "mimetype": "text/x-python",
   "name": "python",
   "nbconvert_exporter": "python",
   "pygments_lexer": "ipython3",
   "version": "3.8.12"
  }
 },
 "nbformat": 4,
 "nbformat_minor": 5
}
