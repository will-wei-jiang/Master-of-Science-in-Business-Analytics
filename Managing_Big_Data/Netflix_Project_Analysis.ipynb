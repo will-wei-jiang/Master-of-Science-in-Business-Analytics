{
 "cells": [
  {
   "cell_type": "markdown",
   "id": "63c7152c",
   "metadata": {},
   "source": [
    "# I. Exploratory Data Analysis"
   ]
  },
  {
   "cell_type": "code",
   "execution_count": 1,
   "id": "861318a0",
   "metadata": {
    "ExecuteTime": {
     "end_time": "2021-11-30T00:45:26.068320Z",
     "start_time": "2021-11-30T00:45:25.235260Z"
    }
   },
   "outputs": [],
   "source": [
    "# set up\n",
    "import numpy as np\n",
    "import pandas as pd\n",
    "import matplotlib.pyplot as plt\n",
    "import seaborn as sns\n",
    "import warnings\n",
    "warnings.filterwarnings(\"ignore\") #ignore warnings"
   ]
  },
  {
   "cell_type": "code",
   "execution_count": 2,
   "id": "1ed5078f",
   "metadata": {
    "ExecuteTime": {
     "end_time": "2021-11-30T00:45:26.083168Z",
     "start_time": "2021-11-30T00:45:26.069099Z"
    }
   },
   "outputs": [],
   "source": [
    "# import data from csv, need change file path\n",
    "netflix = pd.read_csv('C:/Users/Will Jiang/Desktop/Emory Desktop/Big Data/Final Project/data/netflix_clean.csv')"
   ]
  },
  {
   "cell_type": "code",
   "execution_count": 3,
   "id": "30292d2e",
   "metadata": {
    "ExecuteTime": {
     "end_time": "2021-11-30T00:45:26.114620Z",
     "start_time": "2021-11-30T00:45:26.085101Z"
    }
   },
   "outputs": [
    {
     "data": {
      "text/html": [
       "<div>\n",
       "<style scoped>\n",
       "    .dataframe tbody tr th:only-of-type {\n",
       "        vertical-align: middle;\n",
       "    }\n",
       "\n",
       "    .dataframe tbody tr th {\n",
       "        vertical-align: top;\n",
       "    }\n",
       "\n",
       "    .dataframe thead th {\n",
       "        text-align: right;\n",
       "    }\n",
       "</style>\n",
       "<table border=\"1\" class=\"dataframe\">\n",
       "  <thead>\n",
       "    <tr style=\"text-align: right;\">\n",
       "      <th></th>\n",
       "      <th>title</th>\n",
       "      <th>country</th>\n",
       "      <th>date_added</th>\n",
       "      <th>release_year</th>\n",
       "      <th>cate_rating</th>\n",
       "      <th>duration</th>\n",
       "      <th>genre</th>\n",
       "      <th>avg_rating</th>\n",
       "      <th>num_votes</th>\n",
       "      <th>is_original</th>\n",
       "      <th>is_US</th>\n",
       "      <th>season_added</th>\n",
       "      <th>audience_class</th>\n",
       "    </tr>\n",
       "  </thead>\n",
       "  <tbody>\n",
       "    <tr>\n",
       "      <th>0</th>\n",
       "      <td>¡Ay, mi madre!</td>\n",
       "      <td>Spain</td>\n",
       "      <td>2019-07-19</td>\n",
       "      <td>2019</td>\n",
       "      <td>TV-MA</td>\n",
       "      <td>81</td>\n",
       "      <td>Comedies</td>\n",
       "      <td>3.9</td>\n",
       "      <td>372</td>\n",
       "      <td>0</td>\n",
       "      <td>0</td>\n",
       "      <td>summer</td>\n",
       "      <td>3</td>\n",
       "    </tr>\n",
       "    <tr>\n",
       "      <th>1</th>\n",
       "      <td>1 Chance 2 Dance</td>\n",
       "      <td>United States</td>\n",
       "      <td>2017-07-01</td>\n",
       "      <td>2014</td>\n",
       "      <td>TV-PG</td>\n",
       "      <td>89</td>\n",
       "      <td>Dramas</td>\n",
       "      <td>4.8</td>\n",
       "      <td>560</td>\n",
       "      <td>0</td>\n",
       "      <td>1</td>\n",
       "      <td>summer</td>\n",
       "      <td>2</td>\n",
       "    </tr>\n",
       "    <tr>\n",
       "      <th>2</th>\n",
       "      <td>1 Mile to You</td>\n",
       "      <td>United States</td>\n",
       "      <td>2017-07-07</td>\n",
       "      <td>2017</td>\n",
       "      <td>TV-14</td>\n",
       "      <td>105</td>\n",
       "      <td>Dramas</td>\n",
       "      <td>6.3</td>\n",
       "      <td>2473</td>\n",
       "      <td>0</td>\n",
       "      <td>1</td>\n",
       "      <td>summer</td>\n",
       "      <td>2</td>\n",
       "    </tr>\n",
       "    <tr>\n",
       "      <th>3</th>\n",
       "      <td>10 Days in Sun City</td>\n",
       "      <td>South Africa</td>\n",
       "      <td>2019-10-18</td>\n",
       "      <td>2017</td>\n",
       "      <td>TV-14</td>\n",
       "      <td>87</td>\n",
       "      <td>Comedies</td>\n",
       "      <td>5.1</td>\n",
       "      <td>65</td>\n",
       "      <td>0</td>\n",
       "      <td>0</td>\n",
       "      <td>fall</td>\n",
       "      <td>2</td>\n",
       "    </tr>\n",
       "    <tr>\n",
       "      <th>4</th>\n",
       "      <td>10 jours en or</td>\n",
       "      <td>France</td>\n",
       "      <td>2017-07-01</td>\n",
       "      <td>2012</td>\n",
       "      <td>TV-14</td>\n",
       "      <td>97</td>\n",
       "      <td>Comedies</td>\n",
       "      <td>5.9</td>\n",
       "      <td>984</td>\n",
       "      <td>0</td>\n",
       "      <td>0</td>\n",
       "      <td>summer</td>\n",
       "      <td>2</td>\n",
       "    </tr>\n",
       "    <tr>\n",
       "      <th>...</th>\n",
       "      <td>...</td>\n",
       "      <td>...</td>\n",
       "      <td>...</td>\n",
       "      <td>...</td>\n",
       "      <td>...</td>\n",
       "      <td>...</td>\n",
       "      <td>...</td>\n",
       "      <td>...</td>\n",
       "      <td>...</td>\n",
       "      <td>...</td>\n",
       "      <td>...</td>\n",
       "      <td>...</td>\n",
       "      <td>...</td>\n",
       "    </tr>\n",
       "    <tr>\n",
       "      <th>3939</th>\n",
       "      <td>Zodiac</td>\n",
       "      <td>United States</td>\n",
       "      <td>2019-11-20</td>\n",
       "      <td>2007</td>\n",
       "      <td>R</td>\n",
       "      <td>158</td>\n",
       "      <td>Cult Movies</td>\n",
       "      <td>8.3</td>\n",
       "      <td>7</td>\n",
       "      <td>0</td>\n",
       "      <td>1</td>\n",
       "      <td>fall</td>\n",
       "      <td>2</td>\n",
       "    </tr>\n",
       "    <tr>\n",
       "      <th>3940</th>\n",
       "      <td>Zokkomon</td>\n",
       "      <td>India</td>\n",
       "      <td>2018-11-01</td>\n",
       "      <td>2011</td>\n",
       "      <td>PG</td>\n",
       "      <td>104</td>\n",
       "      <td>Children &amp; Family Movies</td>\n",
       "      <td>4.1</td>\n",
       "      <td>396</td>\n",
       "      <td>0</td>\n",
       "      <td>0</td>\n",
       "      <td>fall</td>\n",
       "      <td>2</td>\n",
       "    </tr>\n",
       "    <tr>\n",
       "      <th>3941</th>\n",
       "      <td>Zombieland</td>\n",
       "      <td>United States</td>\n",
       "      <td>2019-11-01</td>\n",
       "      <td>2009</td>\n",
       "      <td>R</td>\n",
       "      <td>88</td>\n",
       "      <td>Comedies</td>\n",
       "      <td>5.9</td>\n",
       "      <td>8</td>\n",
       "      <td>0</td>\n",
       "      <td>1</td>\n",
       "      <td>fall</td>\n",
       "      <td>2</td>\n",
       "    </tr>\n",
       "    <tr>\n",
       "      <th>3942</th>\n",
       "      <td>Zoom</td>\n",
       "      <td>United States</td>\n",
       "      <td>2020-01-11</td>\n",
       "      <td>2006</td>\n",
       "      <td>PG</td>\n",
       "      <td>88</td>\n",
       "      <td>Children &amp; Family Movies</td>\n",
       "      <td>6.4</td>\n",
       "      <td>7</td>\n",
       "      <td>0</td>\n",
       "      <td>1</td>\n",
       "      <td>winter</td>\n",
       "      <td>2</td>\n",
       "    </tr>\n",
       "    <tr>\n",
       "      <th>3943</th>\n",
       "      <td>Zubaan</td>\n",
       "      <td>India</td>\n",
       "      <td>2019-03-02</td>\n",
       "      <td>2015</td>\n",
       "      <td>TV-14</td>\n",
       "      <td>111</td>\n",
       "      <td>Dramas</td>\n",
       "      <td>8.0</td>\n",
       "      <td>10</td>\n",
       "      <td>0</td>\n",
       "      <td>0</td>\n",
       "      <td>spring</td>\n",
       "      <td>2</td>\n",
       "    </tr>\n",
       "  </tbody>\n",
       "</table>\n",
       "<p>3944 rows × 13 columns</p>\n",
       "</div>"
      ],
      "text/plain": [
       "                    title        country  date_added  release_year  \\\n",
       "0          ¡Ay, mi madre!          Spain  2019-07-19          2019   \n",
       "1        1 Chance 2 Dance  United States  2017-07-01          2014   \n",
       "2           1 Mile to You  United States  2017-07-07          2017   \n",
       "3     10 Days in Sun City   South Africa  2019-10-18          2017   \n",
       "4          10 jours en or         France  2017-07-01          2012   \n",
       "...                   ...            ...         ...           ...   \n",
       "3939               Zodiac  United States  2019-11-20          2007   \n",
       "3940             Zokkomon          India  2018-11-01          2011   \n",
       "3941           Zombieland  United States  2019-11-01          2009   \n",
       "3942                 Zoom  United States  2020-01-11          2006   \n",
       "3943               Zubaan          India  2019-03-02          2015   \n",
       "\n",
       "     cate_rating  duration                     genre  avg_rating  num_votes  \\\n",
       "0          TV-MA        81                  Comedies         3.9        372   \n",
       "1          TV-PG        89                    Dramas         4.8        560   \n",
       "2          TV-14       105                    Dramas         6.3       2473   \n",
       "3          TV-14        87                  Comedies         5.1         65   \n",
       "4          TV-14        97                  Comedies         5.9        984   \n",
       "...          ...       ...                       ...         ...        ...   \n",
       "3939           R       158               Cult Movies         8.3          7   \n",
       "3940          PG       104  Children & Family Movies         4.1        396   \n",
       "3941           R        88                  Comedies         5.9          8   \n",
       "3942          PG        88  Children & Family Movies         6.4          7   \n",
       "3943       TV-14       111                    Dramas         8.0         10   \n",
       "\n",
       "      is_original  is_US season_added  audience_class  \n",
       "0               0      0       summer               3  \n",
       "1               0      1       summer               2  \n",
       "2               0      1       summer               2  \n",
       "3               0      0         fall               2  \n",
       "4               0      0       summer               2  \n",
       "...           ...    ...          ...             ...  \n",
       "3939            0      1         fall               2  \n",
       "3940            0      0         fall               2  \n",
       "3941            0      1         fall               2  \n",
       "3942            0      1       winter               2  \n",
       "3943            0      0       spring               2  \n",
       "\n",
       "[3944 rows x 13 columns]"
      ]
     },
     "execution_count": 3,
     "metadata": {},
     "output_type": "execute_result"
    }
   ],
   "source": [
    "netflix"
   ]
  },
  {
   "cell_type": "code",
   "execution_count": 4,
   "id": "fe73f290",
   "metadata": {
    "ExecuteTime": {
     "end_time": "2021-11-30T00:45:26.130628Z",
     "start_time": "2021-11-30T00:45:26.116621Z"
    }
   },
   "outputs": [
    {
     "name": "stdout",
     "output_type": "stream",
     "text": [
      "Totoal row / column number: (3944, 13)\n",
      "title :\n",
      "['¡Ay, mi madre!' '1 Chance 2 Dance' '1 Mile to You' ... 'Zombieland'\n",
      " 'Zoom' 'Zubaan']\n",
      "country :\n",
      "['Spain' 'United States' 'South Africa' 'France' 'Portugal' 'Indonesia'\n",
      " 'India' 'Egypt' 'Hong Kong' 'Thailand' 'South Korea' 'United Kingdom'\n",
      " 'Norway' 'Canada' 'Denmark' 'Japan' 'Kenya' 'Nigeria' 'Italy' 'Romania'\n",
      " 'Pakistan' 'Mexico' 'Australia' 'Turkey' 'Taiwan' 'Netherlands' 'Germany'\n",
      " 'Argentina' 'Philippines' 'United Arab Emirates' 'Israel' 'Singapore'\n",
      " 'Bulgaria' 'Brazil' 'China' 'Uruguay' 'Soviet Union' 'Malaysia' 'Serbia'\n",
      " 'Colombia' 'Iceland' 'Ireland' 'Peru' 'Chile' 'Sweden' 'Ghana' 'Lebanon'\n",
      " 'Kuwait' 'Saudi Arabia' 'Poland' 'Namibia' 'Belgium' 'New Zealand'\n",
      " 'Vietnam' 'Czech Republic' 'Hungary' 'Finland' 'Russia' 'Venezuela' nan\n",
      " 'Cambodia' 'Slovenia' 'Switzerland' 'Mauritius' 'Bangladesh' 'Austria'\n",
      " 'Georgia' 'Mozambique' 'Guatemala' 'Greece' 'Cameroon' 'Paraguay'\n",
      " 'Somalia' 'Croatia']\n",
      "date_added :\n",
      "['2019-07-19' '2017-07-01' '2017-07-07' ... '2019-02-26' '2016-03-09'\n",
      " '2020-01-11']\n",
      "release_year :\n",
      "[2019 2014 2017 2012 2016 2020 2010 2018 2009 2008 2015 2013 2000 2011\n",
      " 1989 2004 2021 1977 1971 2007 1988 1996 1986 1990 2006 1997 1979 1980\n",
      " 2002 1998 1992 2001 1999 1982 2005 1994 1995 2003 1978 1972 1993 1975\n",
      " 1960 1981 1958 1976 1967 1956 1983 1987 1984 1973 1945 1946 1985 1964\n",
      " 1968 1942 1962 1974 1963 1991 1955 1954 1961 1970 1944 1969 1943]\n",
      "cate_rating :\n",
      "['TV-MA' 'TV-PG' 'TV-14' 'R' 'PG-13' 'TV-G' 'PG' 'G' 'TV-Y7' 'TV-Y'\n",
      " 'NC-17' 'TV-Y7-FV']\n",
      "duration :\n",
      "[ 81  89 105  87  97 109 101  95  93 113  84 124 102 130 103  90  94 158\n",
      " 107 119 144 140 135  70 104 117  92 164  53  91  83 116 120  96  99 126\n",
      "  75 129  80 137 148 118 123 121 131  28 176  85  86  68 111  29 142 168\n",
      "  22  59  20 108 125 110 100 106  26  98  30  57  77 150 122 133 115 127\n",
      " 146  44  52  24  63 151  38  25 174 153 162  69  60  64 147  88  42  45\n",
      " 112 172  10  72  71 160 171 128  48 157  15 139 143 134 161  79  73  13\n",
      " 136  61  78 149 141  74 132  76 114  82  62  56  67  66 312 180  47 155\n",
      "  51  58 177   9  46 145 156  55  65 154   8  12  43 185 165 169  27  40\n",
      " 163  33  36  35 138  54 170 193 214  17 192 187  41 182  23 224  50 189\n",
      "  21 152  19 173 208 229 166  32 178 159  49  31 194 228 195  16   5  18\n",
      " 205 201 179  14 253 190 203 191]\n",
      "genre :\n",
      "['Comedies' 'Dramas' 'Horror Movies' 'Action & Adventure' 'Documentaries'\n",
      " 'International Movies' 'Sci-Fi & Fantasy' 'Independent Movies'\n",
      " 'Children & Family Movies' 'Classic Movies' 'Thrillers' 'Anime Features'\n",
      " 'Music & Musicals' 'Stand-Up Comedy' 'Cult Movies' 'Romantic Movies'\n",
      " 'LGBTQ Movies']\n",
      "avg_rating :\n",
      "[3.9000001  4.80000019 6.30000019 5.0999999  5.9000001  7.5\n",
      " 6.80000019 7.30000019 7.4000001  4.5999999  5.69999981 5.80000019\n",
      " 6.4000001  6.5        6.19999981 3.29999995 5.4000001  7.80000019\n",
      " 8.19999981 4.4000001  6.0999999  6.         6.5999999  8.39999962\n",
      " 7.         2.29999995 7.19999981 4.5        6.69999981 4.\n",
      " 7.0999999  1.79999995 5.5999999  4.30000019 7.69999981 5.30000019\n",
      " 6.9000001  3.4000001  8.10000038 8.30000019 3.         4.69999981\n",
      " 3.20000005 9.10000038 8.         3.0999999  7.9000001  8.89999962\n",
      " 4.9000001  5.5        4.19999981 5.19999981 2.9000001  1.5\n",
      " 7.5999999  5.         2.5999999  8.5        3.79999995 4.0999999\n",
      " 3.70000005 3.5        2.5        8.60000038 2.0999999  1.70000005\n",
      " 9.80000019 2.79999995 9.60000038 2.70000005 8.69999981 3.5999999\n",
      " 9.         9.39999962 2.         2.20000005 8.80000019 9.89999962\n",
      " 1.60000002 1.89999998 2.4000001  9.30000019 9.19999981]\n",
      "num_votes :\n",
      "[   372    560   2473 ... 175486   3128  73515]\n",
      "is_original :\n",
      "[0 1]\n",
      "is_US :\n",
      "[0 1]\n",
      "season_added :\n",
      "['summer' 'fall' 'spring' 'winter']\n",
      "audience_class :\n",
      "[3 2 1]\n"
     ]
    }
   ],
   "source": [
    "# check details of dataset\n",
    "print('Totoal row / column number:',netflix.shape)\n",
    "\n",
    "for i in netflix.columns:\n",
    "    print(i,':')\n",
    "    print(netflix[i].unique())"
   ]
  },
  {
   "cell_type": "code",
   "execution_count": 5,
   "id": "6850d578",
   "metadata": {
    "ExecuteTime": {
     "end_time": "2021-11-30T00:45:26.161843Z",
     "start_time": "2021-11-30T00:45:26.131622Z"
    }
   },
   "outputs": [
    {
     "data": {
      "text/html": [
       "<div>\n",
       "<style scoped>\n",
       "    .dataframe tbody tr th:only-of-type {\n",
       "        vertical-align: middle;\n",
       "    }\n",
       "\n",
       "    .dataframe tbody tr th {\n",
       "        vertical-align: top;\n",
       "    }\n",
       "\n",
       "    .dataframe thead th {\n",
       "        text-align: right;\n",
       "    }\n",
       "</style>\n",
       "<table border=\"1\" class=\"dataframe\">\n",
       "  <thead>\n",
       "    <tr style=\"text-align: right;\">\n",
       "      <th></th>\n",
       "      <th>release_year</th>\n",
       "      <th>duration</th>\n",
       "      <th>avg_rating</th>\n",
       "      <th>num_votes</th>\n",
       "      <th>is_original</th>\n",
       "      <th>is_US</th>\n",
       "      <th>audience_class</th>\n",
       "    </tr>\n",
       "  </thead>\n",
       "  <tbody>\n",
       "    <tr>\n",
       "      <th>count</th>\n",
       "      <td>3944.000000</td>\n",
       "      <td>3944.000000</td>\n",
       "      <td>3944.000000</td>\n",
       "      <td>3.944000e+03</td>\n",
       "      <td>3944.000000</td>\n",
       "      <td>3944.000000</td>\n",
       "      <td>3944.000000</td>\n",
       "    </tr>\n",
       "    <tr>\n",
       "      <th>mean</th>\n",
       "      <td>2013.387424</td>\n",
       "      <td>101.418611</td>\n",
       "      <td>6.288742</td>\n",
       "      <td>1.738092e+04</td>\n",
       "      <td>0.102941</td>\n",
       "      <td>0.410243</td>\n",
       "      <td>2.299949</td>\n",
       "    </tr>\n",
       "    <tr>\n",
       "      <th>std</th>\n",
       "      <td>9.343177</td>\n",
       "      <td>26.519153</td>\n",
       "      <td>1.227851</td>\n",
       "      <td>6.908575e+04</td>\n",
       "      <td>0.303921</td>\n",
       "      <td>0.491940</td>\n",
       "      <td>0.555369</td>\n",
       "    </tr>\n",
       "    <tr>\n",
       "      <th>min</th>\n",
       "      <td>1942.000000</td>\n",
       "      <td>5.000000</td>\n",
       "      <td>1.500000</td>\n",
       "      <td>5.000000e+00</td>\n",
       "      <td>0.000000</td>\n",
       "      <td>0.000000</td>\n",
       "      <td>1.000000</td>\n",
       "    </tr>\n",
       "    <tr>\n",
       "      <th>25%</th>\n",
       "      <td>2013.000000</td>\n",
       "      <td>88.000000</td>\n",
       "      <td>5.500000</td>\n",
       "      <td>2.840000e+02</td>\n",
       "      <td>0.000000</td>\n",
       "      <td>0.000000</td>\n",
       "      <td>2.000000</td>\n",
       "    </tr>\n",
       "    <tr>\n",
       "      <th>50%</th>\n",
       "      <td>2016.000000</td>\n",
       "      <td>99.000000</td>\n",
       "      <td>6.400000</td>\n",
       "      <td>1.392000e+03</td>\n",
       "      <td>0.000000</td>\n",
       "      <td>0.000000</td>\n",
       "      <td>2.000000</td>\n",
       "    </tr>\n",
       "    <tr>\n",
       "      <th>75%</th>\n",
       "      <td>2018.000000</td>\n",
       "      <td>116.000000</td>\n",
       "      <td>7.100000</td>\n",
       "      <td>6.401750e+03</td>\n",
       "      <td>0.000000</td>\n",
       "      <td>1.000000</td>\n",
       "      <td>3.000000</td>\n",
       "    </tr>\n",
       "    <tr>\n",
       "      <th>max</th>\n",
       "      <td>2021.000000</td>\n",
       "      <td>312.000000</td>\n",
       "      <td>9.900000</td>\n",
       "      <td>1.276664e+06</td>\n",
       "      <td>1.000000</td>\n",
       "      <td>1.000000</td>\n",
       "      <td>3.000000</td>\n",
       "    </tr>\n",
       "  </tbody>\n",
       "</table>\n",
       "</div>"
      ],
      "text/plain": [
       "       release_year     duration   avg_rating     num_votes  is_original  \\\n",
       "count   3944.000000  3944.000000  3944.000000  3.944000e+03  3944.000000   \n",
       "mean    2013.387424   101.418611     6.288742  1.738092e+04     0.102941   \n",
       "std        9.343177    26.519153     1.227851  6.908575e+04     0.303921   \n",
       "min     1942.000000     5.000000     1.500000  5.000000e+00     0.000000   \n",
       "25%     2013.000000    88.000000     5.500000  2.840000e+02     0.000000   \n",
       "50%     2016.000000    99.000000     6.400000  1.392000e+03     0.000000   \n",
       "75%     2018.000000   116.000000     7.100000  6.401750e+03     0.000000   \n",
       "max     2021.000000   312.000000     9.900000  1.276664e+06     1.000000   \n",
       "\n",
       "             is_US  audience_class  \n",
       "count  3944.000000     3944.000000  \n",
       "mean      0.410243        2.299949  \n",
       "std       0.491940        0.555369  \n",
       "min       0.000000        1.000000  \n",
       "25%       0.000000        2.000000  \n",
       "50%       0.000000        2.000000  \n",
       "75%       1.000000        3.000000  \n",
       "max       1.000000        3.000000  "
      ]
     },
     "execution_count": 5,
     "metadata": {},
     "output_type": "execute_result"
    }
   ],
   "source": [
    "# summary statistics for numerical variables\n",
    "netflix.describe()"
   ]
  },
  {
   "cell_type": "markdown",
   "id": "0cf3e3eb",
   "metadata": {},
   "source": [
    "## By Rating"
   ]
  },
  {
   "cell_type": "code",
   "execution_count": 6,
   "id": "d3c1c4e0",
   "metadata": {
    "ExecuteTime": {
     "end_time": "2021-11-30T00:45:26.177820Z",
     "start_time": "2021-11-30T00:45:26.162843Z"
    }
   },
   "outputs": [
    {
     "data": {
      "text/html": [
       "<div>\n",
       "<style scoped>\n",
       "    .dataframe tbody tr th:only-of-type {\n",
       "        vertical-align: middle;\n",
       "    }\n",
       "\n",
       "    .dataframe tbody tr th {\n",
       "        vertical-align: top;\n",
       "    }\n",
       "\n",
       "    .dataframe thead th {\n",
       "        text-align: right;\n",
       "    }\n",
       "</style>\n",
       "<table border=\"1\" class=\"dataframe\">\n",
       "  <thead>\n",
       "    <tr style=\"text-align: right;\">\n",
       "      <th></th>\n",
       "      <th>title</th>\n",
       "      <th>country</th>\n",
       "      <th>release_year</th>\n",
       "      <th>cate_rating</th>\n",
       "      <th>duration</th>\n",
       "      <th>genre</th>\n",
       "      <th>avg_rating</th>\n",
       "      <th>num_votes</th>\n",
       "      <th>is_original</th>\n",
       "      <th>season_added</th>\n",
       "    </tr>\n",
       "  </thead>\n",
       "  <tbody>\n",
       "    <tr>\n",
       "      <th>1406</th>\n",
       "      <td>Hero</td>\n",
       "      <td>Hong Kong</td>\n",
       "      <td>1997</td>\n",
       "      <td>TV-MA</td>\n",
       "      <td>89</td>\n",
       "      <td>Action &amp; Adventure</td>\n",
       "      <td>9.9</td>\n",
       "      <td>67464</td>\n",
       "      <td>0</td>\n",
       "      <td>summer</td>\n",
       "    </tr>\n",
       "    <tr>\n",
       "      <th>3366</th>\n",
       "      <td>The Lives of Others</td>\n",
       "      <td>Germany</td>\n",
       "      <td>2006</td>\n",
       "      <td>R</td>\n",
       "      <td>138</td>\n",
       "      <td>Dramas</td>\n",
       "      <td>9.3</td>\n",
       "      <td>1589</td>\n",
       "      <td>0</td>\n",
       "      <td>spring</td>\n",
       "    </tr>\n",
       "    <tr>\n",
       "      <th>1352</th>\n",
       "      <td>Hans Zimmer: Live in Prague</td>\n",
       "      <td>United Kingdom</td>\n",
       "      <td>2017</td>\n",
       "      <td>TV-G</td>\n",
       "      <td>138</td>\n",
       "      <td>International Movies</td>\n",
       "      <td>9.1</td>\n",
       "      <td>2548</td>\n",
       "      <td>0</td>\n",
       "      <td>spring</td>\n",
       "    </tr>\n",
       "    <tr>\n",
       "      <th>867</th>\n",
       "      <td>David Attenborough: A Life on Our Planet</td>\n",
       "      <td>United States</td>\n",
       "      <td>2020</td>\n",
       "      <td>PG</td>\n",
       "      <td>84</td>\n",
       "      <td>Documentaries</td>\n",
       "      <td>9.0</td>\n",
       "      <td>29703</td>\n",
       "      <td>1</td>\n",
       "      <td>fall</td>\n",
       "    </tr>\n",
       "    <tr>\n",
       "      <th>2792</th>\n",
       "      <td>Schindler's List</td>\n",
       "      <td>United States</td>\n",
       "      <td>1993</td>\n",
       "      <td>R</td>\n",
       "      <td>195</td>\n",
       "      <td>Classic Movies</td>\n",
       "      <td>8.9</td>\n",
       "      <td>1276664</td>\n",
       "      <td>0</td>\n",
       "      <td>spring</td>\n",
       "    </tr>\n",
       "    <tr>\n",
       "      <th>663</th>\n",
       "      <td>Care of Kancharapalem</td>\n",
       "      <td>India</td>\n",
       "      <td>2018</td>\n",
       "      <td>TV-MA</td>\n",
       "      <td>142</td>\n",
       "      <td>Comedies</td>\n",
       "      <td>8.9</td>\n",
       "      <td>6143</td>\n",
       "      <td>0</td>\n",
       "      <td>fall</td>\n",
       "    </tr>\n",
       "    <tr>\n",
       "      <th>1298</th>\n",
       "      <td>GoodFellas</td>\n",
       "      <td>United States</td>\n",
       "      <td>1990</td>\n",
       "      <td>R</td>\n",
       "      <td>145</td>\n",
       "      <td>Classic Movies</td>\n",
       "      <td>8.7</td>\n",
       "      <td>1079802</td>\n",
       "      <td>0</td>\n",
       "      <td>winter</td>\n",
       "    </tr>\n",
       "    <tr>\n",
       "      <th>565</th>\n",
       "      <td>Bo Burnham: Inside</td>\n",
       "      <td>United States</td>\n",
       "      <td>2021</td>\n",
       "      <td>TV-MA</td>\n",
       "      <td>88</td>\n",
       "      <td>Stand-Up Comedy</td>\n",
       "      <td>8.7</td>\n",
       "      <td>39401</td>\n",
       "      <td>0</td>\n",
       "      <td>spring</td>\n",
       "    </tr>\n",
       "    <tr>\n",
       "      <th>475</th>\n",
       "      <td>Best Wishes, Warmest Regards: A Schitt's Creek...</td>\n",
       "      <td>Canada</td>\n",
       "      <td>2020</td>\n",
       "      <td>TV-MA</td>\n",
       "      <td>44</td>\n",
       "      <td>Documentaries</td>\n",
       "      <td>8.6</td>\n",
       "      <td>1062</td>\n",
       "      <td>0</td>\n",
       "      <td>fall</td>\n",
       "    </tr>\n",
       "    <tr>\n",
       "      <th>2091</th>\n",
       "      <td>Merku Thodarchi Malai</td>\n",
       "      <td>India</td>\n",
       "      <td>2018</td>\n",
       "      <td>TV-MA</td>\n",
       "      <td>115</td>\n",
       "      <td>Dramas</td>\n",
       "      <td>8.6</td>\n",
       "      <td>1760</td>\n",
       "      <td>0</td>\n",
       "      <td>winter</td>\n",
       "    </tr>\n",
       "  </tbody>\n",
       "</table>\n",
       "</div>"
      ],
      "text/plain": [
       "                                                  title         country  \\\n",
       "1406                                               Hero       Hong Kong   \n",
       "3366                                The Lives of Others         Germany   \n",
       "1352                        Hans Zimmer: Live in Prague  United Kingdom   \n",
       "867            David Attenborough: A Life on Our Planet   United States   \n",
       "2792                                   Schindler's List   United States   \n",
       "663                               Care of Kancharapalem           India   \n",
       "1298                                         GoodFellas   United States   \n",
       "565                                  Bo Burnham: Inside   United States   \n",
       "475   Best Wishes, Warmest Regards: A Schitt's Creek...          Canada   \n",
       "2091                              Merku Thodarchi Malai           India   \n",
       "\n",
       "      release_year cate_rating  duration                 genre  avg_rating  \\\n",
       "1406          1997       TV-MA        89    Action & Adventure         9.9   \n",
       "3366          2006           R       138                Dramas         9.3   \n",
       "1352          2017        TV-G       138  International Movies         9.1   \n",
       "867           2020          PG        84         Documentaries         9.0   \n",
       "2792          1993           R       195        Classic Movies         8.9   \n",
       "663           2018       TV-MA       142              Comedies         8.9   \n",
       "1298          1990           R       145        Classic Movies         8.7   \n",
       "565           2021       TV-MA        88       Stand-Up Comedy         8.7   \n",
       "475           2020       TV-MA        44         Documentaries         8.6   \n",
       "2091          2018       TV-MA       115                Dramas         8.6   \n",
       "\n",
       "      num_votes  is_original season_added  \n",
       "1406      67464            0       summer  \n",
       "3366       1589            0       spring  \n",
       "1352       2548            0       spring  \n",
       "867       29703            1         fall  \n",
       "2792    1276664            0       spring  \n",
       "663        6143            0         fall  \n",
       "1298    1079802            0       winter  \n",
       "565       39401            0       spring  \n",
       "475        1062            0         fall  \n",
       "2091       1760            0       winter  "
      ]
     },
     "execution_count": 6,
     "metadata": {},
     "output_type": "execute_result"
    }
   ],
   "source": [
    "# select Top movies with number of votes more than 1000\n",
    "netflix.sort_values('avg_rating',ascending=False).loc[netflix['num_votes'] > 1000, [x for x in netflix.columns if x not in ['date_added','is_US','audience_class']]].head(10)"
   ]
  },
  {
   "cell_type": "code",
   "execution_count": 7,
   "id": "21e3a954",
   "metadata": {
    "ExecuteTime": {
     "end_time": "2021-11-30T00:45:26.652819Z",
     "start_time": "2021-11-30T00:45:26.178864Z"
    }
   },
   "outputs": [
    {
     "data": {
      "image/png": "[encoded data removed]",
      "text/plain": [
       "<Figure size 576x432 with 1 Axes>"
      ]
     },
     "metadata": {
      "needs_background": "light"
     },
     "output_type": "display_data"
    }
   ],
   "source": [
    "# plot rating with duration of the movie with regression line\n",
    "g = sns.lmplot(x=\"duration\",\n",
    "               y=\"avg_rating\",\n",
    "               hue=\"is_original\",\n",
    "               data=netflix,\n",
    "               scatter_kws={\"s\": 10},\n",
    "               palette={1:\"#e50914\", 0:\"#c8c6c6ff\"},\n",
    "              facet_kws={'legend_out': False})\n",
    "\n",
    "g.fig.set_size_inches(8,6)\n",
    "plt.title(\"Rating and Duration of the Movie\")\n",
    "plt.xlabel('Duration')\n",
    "plt.ylabel('Rating')\n",
    "new_title = 'Netflix Original Movie?'\n",
    "g._legend.set_title(new_title)\n",
    "# replace labels\n",
    "new_labels = ['No', 'Yes']\n",
    "for t, l in zip(g._legend.texts, new_labels):\n",
    "    t.set_text(l)"
   ]
  },
  {
   "cell_type": "markdown",
   "id": "6653a38f",
   "metadata": {},
   "source": [
    "## By Country"
   ]
  },
  {
   "cell_type": "code",
   "execution_count": 8,
   "id": "948d7061",
   "metadata": {
    "ExecuteTime": {
     "end_time": "2021-11-30T00:45:26.668818Z",
     "start_time": "2021-11-30T00:45:26.653819Z"
    }
   },
   "outputs": [],
   "source": [
    "# calculate count of movies by countries\n",
    "net_country = netflix['country'].value_counts().sort_values(ascending=False)\n",
    "\n",
    "# select the TOP 20 data\n",
    "net_country = pd.DataFrame(net_country).reset_index(drop=False).head(20)\n",
    "net_country.columns = ['country','cnt']"
   ]
  },
  {
   "cell_type": "code",
   "execution_count": 9,
   "id": "90bed63b",
   "metadata": {
    "ExecuteTime": {
     "end_time": "2021-11-30T00:45:26.812818Z",
     "start_time": "2021-11-30T00:45:26.670818Z"
    }
   },
   "outputs": [
    {
     "data": {
      "image/png": "[encoded data removed]",
      "text/plain": [
       "<Figure size 576x432 with 1 Axes>"
      ]
     },
     "metadata": {
      "needs_background": "light"
     },
     "output_type": "display_data"
    }
   ],
   "source": [
    "# plot horizontal bar chart\n",
    "plt.figure(figsize=(8,6))\n",
    "plt.barh(net_country.country,net_country.cnt, facecolor = '#e50914') # barh means horizontal bar chart\n",
    "plt.gca().invert_yaxis() # invert y axis so ranking in desc way\n",
    "plt.title('TOP 20 Countries of Movies in Netflix')\n",
    "plt.xlabel('Total Number of Movies')\n",
    "plt.show()"
   ]
  },
  {
   "cell_type": "markdown",
   "id": "8657cbb3",
   "metadata": {
    "ExecuteTime": {
     "end_time": "2021-11-28T19:09:21.581961Z",
     "start_time": "2021-11-28T19:09:21.581961Z"
    }
   },
   "source": [
    "## By Rating Class & Audience Class"
   ]
  },
  {
   "cell_type": "code",
   "execution_count": 10,
   "id": "40ace454",
   "metadata": {
    "ExecuteTime": {
     "end_time": "2021-11-30T00:45:26.988825Z",
     "start_time": "2021-11-30T00:45:26.814820Z"
    }
   },
   "outputs": [
    {
     "data": {
      "image/png": "[encoded data removed]",
      "text/plain": [
       "<Figure size 576x432 with 1 Axes>"
      ]
     },
     "metadata": {
      "needs_background": "light"
     },
     "output_type": "display_data"
    }
   ],
   "source": [
    "# plot by rating class\n",
    "plt.figure(figsize=(8,6))\n",
    "netflix['cate_rating'].value_counts().plot(kind='bar', color='#e50914')\n",
    "plt.title('Netflix Movies Rating Class Distribution')\n",
    "plt.xlabel('Rating Class')\n",
    "plt.ylabel('Number of Movies')\n",
    "plt.show()"
   ]
  },
  {
   "cell_type": "code",
   "execution_count": 11,
   "id": "225feeef",
   "metadata": {
    "ExecuteTime": {
     "end_time": "2021-11-30T00:45:27.067956Z",
     "start_time": "2021-11-30T00:45:26.989817Z"
    }
   },
   "outputs": [
    {
     "data": {
      "image/png": "[encoded data removed]",
      "text/plain": [
       "<Figure size 576x432 with 1 Axes>"
      ]
     },
     "metadata": {
      "needs_background": "light"
     },
     "output_type": "display_data"
    }
   ],
   "source": [
    "# plot by audience class\n",
    "plt.figure(figsize=(8,6))\n",
    "sns.countplot(netflix.audience_class,color='#e50914')\n",
    "plt.title('Netflix Movies Audience Class Distribution')\n",
    "plt.xlabel('Audience Class')\n",
    "plt.ylabel('Number of Movies')\n",
    "plt.show()"
   ]
  },
  {
   "cell_type": "markdown",
   "id": "8537d0a8",
   "metadata": {},
   "source": [
    "## By Release Year"
   ]
  },
  {
   "cell_type": "code",
   "execution_count": 12,
   "id": "9ddf7a7d",
   "metadata": {
    "ExecuteTime": {
     "end_time": "2021-11-30T00:45:27.478988Z",
     "start_time": "2021-11-30T00:45:27.069010Z"
    }
   },
   "outputs": [
    {
     "data": {
      "image/png": "[encoded data removed]",
      "text/plain": [
       "<Figure size 720x576 with 1 Axes>"
      ]
     },
     "metadata": {
      "needs_background": "light"
     },
     "output_type": "display_data"
    }
   ],
   "source": [
    "# plot by relsease year\n",
    "plt.figure(figsize=(10,8))\n",
    "sns.countplot(netflix.release_year,color='#e50914')\n",
    "plt.title('Release Year of Movies in Netflix')\n",
    "plt.xlabel('Year')\n",
    "plt.ylabel('Number of Movies')\n",
    "plt.xticks(rotation=90) #rotate xticks to avoid overlap\n",
    "plt.show()"
   ]
  },
  {
   "cell_type": "code",
   "execution_count": 13,
   "id": "1917ee58",
   "metadata": {
    "ExecuteTime": {
     "end_time": "2021-11-30T00:45:27.575221Z",
     "start_time": "2021-11-30T00:45:27.479988Z"
    }
   },
   "outputs": [
    {
     "data": {
      "image/png": "[encoded data removed]",
      "text/plain": [
       "<Figure size 576x432 with 1 Axes>"
      ]
     },
     "metadata": {
      "needs_background": "light"
     },
     "output_type": "display_data"
    }
   ],
   "source": [
    "# plot rating in each release year\n",
    "# Set plot size\n",
    "plt.figure(figsize=(8,6))\n",
    "netflix.groupby('release_year')['avg_rating'].mean().plot(color = '#e50914')\n",
    "plt.title(\"Average Rating in Each Release Year\")\n",
    "plt.xlabel('Release Year')\n",
    "plt.ylabel('Average Rating')\n",
    "plt.show()"
   ]
  },
  {
   "cell_type": "markdown",
   "id": "9c7ccf58",
   "metadata": {},
   "source": [
    "## By Netflix Original or Not"
   ]
  },
  {
   "cell_type": "code",
   "execution_count": 14,
   "id": "fac3f5e9",
   "metadata": {
    "ExecuteTime": {
     "end_time": "2021-11-30T00:45:27.654648Z",
     "start_time": "2021-11-30T00:45:27.576149Z"
    }
   },
   "outputs": [
    {
     "data": {
      "image/png": "[encoded data removed]",
      "text/plain": [
       "<Figure size 576x432 with 1 Axes>"
      ]
     },
     "metadata": {
      "needs_background": "light"
     },
     "output_type": "display_data"
    }
   ],
   "source": [
    "# plot by Netflix original or Not\n",
    "plt.figure(figsize=(8,6))\n",
    "sns.countplot(netflix.is_original,color='#e50914')\n",
    "plt.title('Netflix Original Movies Distribution')\n",
    "plt.xlabel('Is Original or Not')\n",
    "plt.ylabel('Number of Movies')\n",
    "plt.show()"
   ]
  },
  {
   "cell_type": "code",
   "execution_count": 15,
   "id": "e39a2f77",
   "metadata": {
    "ExecuteTime": {
     "end_time": "2021-11-30T00:45:27.846319Z",
     "start_time": "2021-11-30T00:45:27.655485Z"
    }
   },
   "outputs": [
    {
     "data": {
      "text/plain": [
       "<matplotlib.legend.Legend at 0x26be6064280>"
      ]
     },
     "execution_count": 15,
     "metadata": {},
     "output_type": "execute_result"
    },
    {
     "data": {
      "image/png": "[encoded data removed]",
      "text/plain": [
       "<Figure size 576x432 with 1 Axes>"
      ]
     },
     "metadata": {},
     "output_type": "display_data"
    }
   ],
   "source": [
    "# plot average rating of Netflix Original and others by genre\n",
    "sns.set(rc={'figure.figsize':(8,6)})\n",
    "sns.set_style(\"white\")\n",
    "# Plot of avg rating in each genre\n",
    "sns.barplot(data=netflix, y='genre', x='avg_rating', hue='is_original', ci=None, palette={1:\"#e50914\", 0:\"#c8c6c6ff\"})\n",
    "plt.title(\"Average Rating in Each Genre\")\n",
    "plt.xlabel('Average Rating')\n",
    "plt.ylabel('Genre')\n",
    "plt.legend(title='Netflix Original Movie?', labels=['No', 'Yes'], bbox_to_anchor=(1.05, 1), loc=2, borderaxespad=0.)"
   ]
  },
  {
   "cell_type": "markdown",
   "id": "81ab37b2",
   "metadata": {},
   "source": [
    "## By Season Added to Netflix Platform"
   ]
  },
  {
   "cell_type": "code",
   "execution_count": 16,
   "id": "6a9967a6",
   "metadata": {
    "ExecuteTime": {
     "end_time": "2021-11-30T00:45:27.941515Z",
     "start_time": "2021-11-30T00:45:27.847319Z"
    }
   },
   "outputs": [
    {
     "data": {
      "image/png": "[encoded data removed]",
      "text/plain": [
       "<Figure size 576x432 with 1 Axes>"
      ]
     },
     "metadata": {},
     "output_type": "display_data"
    }
   ],
   "source": [
    "# plot by season added to Netflix platform, order by number of movies\n",
    "plt.figure(figsize=(8,6))\n",
    "netflix['season_added'].value_counts().plot(kind='bar', color='#e50914')\n",
    "plt.title('Movie Number Added to Netflix Platform by Seasons')\n",
    "plt.xlabel('Season')\n",
    "plt.ylabel('Number of Movies')\n",
    "plt.xticks(rotation=0)\n",
    "plt.show()"
   ]
  },
  {
   "cell_type": "markdown",
   "id": "c80e98e1",
   "metadata": {},
   "source": [
    "## By Genres"
   ]
  },
  {
   "cell_type": "code",
   "execution_count": 17,
   "id": "1fc1c59b",
   "metadata": {
    "ExecuteTime": {
     "end_time": "2021-11-30T00:45:27.956667Z",
     "start_time": "2021-11-30T00:45:27.942533Z"
    }
   },
   "outputs": [],
   "source": [
    "# include Stand-Up Comedy in Comedies\n",
    "netflix.genre[netflix.genre == 'Stand-Up Comedy'] = 'Comedies'\n",
    "\n",
    "# include Thrillers in Horror Movies\n",
    "netflix.genre[netflix.genre == 'Thrillers'] = 'Horror Movies'"
   ]
  },
  {
   "cell_type": "code",
   "execution_count": 18,
   "id": "830ad45a",
   "metadata": {
    "ExecuteTime": {
     "end_time": "2021-11-30T00:45:27.972670Z",
     "start_time": "2021-11-30T00:45:27.957671Z"
    }
   },
   "outputs": [
    {
     "data": {
      "text/plain": [
       "Dramas                      1070\n",
       "Comedies                    1037\n",
       "Action & Adventure           558\n",
       "Documentaries                537\n",
       "Children & Family Movies     346\n",
       "Horror Movies                205\n",
       "International Movies          83\n",
       "Classic Movies                56\n",
       "Independent Movies            15\n",
       "Anime Features                15\n",
       "Music & Musicals               9\n",
       "Sci-Fi & Fantasy               5\n",
       "Cult Movies                    4\n",
       "Romantic Movies                3\n",
       "LGBTQ Movies                   1\n",
       "Name: genre, dtype: int64"
      ]
     },
     "execution_count": 18,
     "metadata": {},
     "output_type": "execute_result"
    }
   ],
   "source": [
    "# see detailed counts\n",
    "netflix.genre.value_counts()"
   ]
  },
  {
   "cell_type": "code",
   "execution_count": 19,
   "id": "5ca1a849",
   "metadata": {
    "ExecuteTime": {
     "end_time": "2021-11-30T00:45:27.988673Z",
     "start_time": "2021-11-30T00:45:27.974670Z"
    }
   },
   "outputs": [
    {
     "data": {
      "text/plain": [
       "Dramas                      1070\n",
       "Comedies                    1037\n",
       "Action & Adventure           558\n",
       "Documentaries                537\n",
       "Children & Family Movies     346\n",
       "Horror Movies                205\n",
       "International Movies          83\n",
       "Classic Movies                56\n",
       "Others                        52\n",
       "Name: genre, dtype: int64"
      ]
     },
     "execution_count": 19,
     "metadata": {},
     "output_type": "execute_result"
    }
   ],
   "source": [
    "# for those movie genres that have less than 50, change them to others\n",
    "netflix.genre[netflix.genre.isin(['Independent Movies','Anime Features','Music & Musicals',\n",
    "                                  'Sci-Fi & Fantasy','Cult Movies','Romantic Movies','LGBTQ Movies'])] = 'Others'\n",
    "\n",
    "# see new detailed counts\n",
    "netflix.genre.value_counts()"
   ]
  },
  {
   "cell_type": "code",
   "execution_count": 20,
   "id": "0e7a76f7",
   "metadata": {
    "ExecuteTime": {
     "end_time": "2021-11-30T00:45:28.114677Z",
     "start_time": "2021-11-30T00:45:27.990672Z"
    }
   },
   "outputs": [
    {
     "data": {
      "image/png": "[encoded data removed]",
      "text/plain": [
       "<Figure size 720x576 with 1 Axes>"
      ]
     },
     "metadata": {},
     "output_type": "display_data"
    }
   ],
   "source": [
    "# plot by genres\n",
    "plt.figure(figsize=(10,8))\n",
    "sns.countplot(y = netflix.genre,color='#e50914',order = netflix.genre.value_counts().index)\n",
    "plt.title('Genre Distribution in Netflix')\n",
    "plt.xlabel('Number of Movies')\n",
    "plt.ylabel('Genres')\n",
    "plt.show()"
   ]
  },
  {
   "cell_type": "markdown",
   "id": "00971590",
   "metadata": {},
   "source": [
    "# II. Feature Engineering"
   ]
  },
  {
   "cell_type": "markdown",
   "id": "cc9f08f0",
   "metadata": {},
   "source": [
    "## Generate Movie Class to present movies rating"
   ]
  },
  {
   "cell_type": "code",
   "execution_count": 21,
   "id": "44f68e3e",
   "metadata": {
    "ExecuteTime": {
     "end_time": "2021-11-30T00:45:28.130706Z",
     "start_time": "2021-11-30T00:45:28.115677Z"
    }
   },
   "outputs": [],
   "source": [
    "# if a movies' avearge rating is above 6, then it's a good movie (1)\n",
    "# if a movies' avearge rating is under 6, then it's a not good movie (0)\n",
    "netflix.loc[netflix['avg_rating'] >= 6, 'movie_class'] = 1\n",
    "netflix.loc[netflix['avg_rating'] < 6, 'movie_class'] = 0"
   ]
  },
  {
   "cell_type": "code",
   "execution_count": 22,
   "id": "c83cd470",
   "metadata": {
    "ExecuteTime": {
     "end_time": "2021-11-30T00:45:28.146699Z",
     "start_time": "2021-11-30T00:45:28.131715Z"
    },
    "scrolled": true
   },
   "outputs": [
    {
     "data": {
      "text/html": [
       "<div>\n",
       "<style scoped>\n",
       "    .dataframe tbody tr th:only-of-type {\n",
       "        vertical-align: middle;\n",
       "    }\n",
       "\n",
       "    .dataframe tbody tr th {\n",
       "        vertical-align: top;\n",
       "    }\n",
       "\n",
       "    .dataframe thead th {\n",
       "        text-align: right;\n",
       "    }\n",
       "</style>\n",
       "<table border=\"1\" class=\"dataframe\">\n",
       "  <thead>\n",
       "    <tr style=\"text-align: right;\">\n",
       "      <th></th>\n",
       "      <th>title</th>\n",
       "      <th>country</th>\n",
       "      <th>date_added</th>\n",
       "      <th>release_year</th>\n",
       "      <th>cate_rating</th>\n",
       "      <th>duration</th>\n",
       "      <th>genre</th>\n",
       "      <th>avg_rating</th>\n",
       "      <th>num_votes</th>\n",
       "      <th>is_original</th>\n",
       "      <th>is_US</th>\n",
       "      <th>season_added</th>\n",
       "      <th>audience_class</th>\n",
       "      <th>movie_class</th>\n",
       "    </tr>\n",
       "  </thead>\n",
       "  <tbody>\n",
       "    <tr>\n",
       "      <th>0</th>\n",
       "      <td>¡Ay, mi madre!</td>\n",
       "      <td>Spain</td>\n",
       "      <td>2019-07-19</td>\n",
       "      <td>2019</td>\n",
       "      <td>TV-MA</td>\n",
       "      <td>81</td>\n",
       "      <td>Comedies</td>\n",
       "      <td>3.9</td>\n",
       "      <td>372</td>\n",
       "      <td>0</td>\n",
       "      <td>0</td>\n",
       "      <td>summer</td>\n",
       "      <td>3</td>\n",
       "      <td>0.0</td>\n",
       "    </tr>\n",
       "    <tr>\n",
       "      <th>1</th>\n",
       "      <td>1 Chance 2 Dance</td>\n",
       "      <td>United States</td>\n",
       "      <td>2017-07-01</td>\n",
       "      <td>2014</td>\n",
       "      <td>TV-PG</td>\n",
       "      <td>89</td>\n",
       "      <td>Dramas</td>\n",
       "      <td>4.8</td>\n",
       "      <td>560</td>\n",
       "      <td>0</td>\n",
       "      <td>1</td>\n",
       "      <td>summer</td>\n",
       "      <td>2</td>\n",
       "      <td>0.0</td>\n",
       "    </tr>\n",
       "    <tr>\n",
       "      <th>2</th>\n",
       "      <td>1 Mile to You</td>\n",
       "      <td>United States</td>\n",
       "      <td>2017-07-07</td>\n",
       "      <td>2017</td>\n",
       "      <td>TV-14</td>\n",
       "      <td>105</td>\n",
       "      <td>Dramas</td>\n",
       "      <td>6.3</td>\n",
       "      <td>2473</td>\n",
       "      <td>0</td>\n",
       "      <td>1</td>\n",
       "      <td>summer</td>\n",
       "      <td>2</td>\n",
       "      <td>1.0</td>\n",
       "    </tr>\n",
       "    <tr>\n",
       "      <th>3</th>\n",
       "      <td>10 Days in Sun City</td>\n",
       "      <td>South Africa</td>\n",
       "      <td>2019-10-18</td>\n",
       "      <td>2017</td>\n",
       "      <td>TV-14</td>\n",
       "      <td>87</td>\n",
       "      <td>Comedies</td>\n",
       "      <td>5.1</td>\n",
       "      <td>65</td>\n",
       "      <td>0</td>\n",
       "      <td>0</td>\n",
       "      <td>fall</td>\n",
       "      <td>2</td>\n",
       "      <td>0.0</td>\n",
       "    </tr>\n",
       "    <tr>\n",
       "      <th>4</th>\n",
       "      <td>10 jours en or</td>\n",
       "      <td>France</td>\n",
       "      <td>2017-07-01</td>\n",
       "      <td>2012</td>\n",
       "      <td>TV-14</td>\n",
       "      <td>97</td>\n",
       "      <td>Comedies</td>\n",
       "      <td>5.9</td>\n",
       "      <td>984</td>\n",
       "      <td>0</td>\n",
       "      <td>0</td>\n",
       "      <td>summer</td>\n",
       "      <td>2</td>\n",
       "      <td>0.0</td>\n",
       "    </tr>\n",
       "  </tbody>\n",
       "</table>\n",
       "</div>"
      ],
      "text/plain": [
       "                 title        country  date_added  release_year cate_rating  \\\n",
       "0       ¡Ay, mi madre!          Spain  2019-07-19          2019       TV-MA   \n",
       "1     1 Chance 2 Dance  United States  2017-07-01          2014       TV-PG   \n",
       "2        1 Mile to You  United States  2017-07-07          2017       TV-14   \n",
       "3  10 Days in Sun City   South Africa  2019-10-18          2017       TV-14   \n",
       "4       10 jours en or         France  2017-07-01          2012       TV-14   \n",
       "\n",
       "   duration     genre  avg_rating  num_votes  is_original  is_US season_added  \\\n",
       "0        81  Comedies         3.9        372            0      0       summer   \n",
       "1        89    Dramas         4.8        560            0      1       summer   \n",
       "2       105    Dramas         6.3       2473            0      1       summer   \n",
       "3        87  Comedies         5.1         65            0      0         fall   \n",
       "4        97  Comedies         5.9        984            0      0       summer   \n",
       "\n",
       "   audience_class  movie_class  \n",
       "0               3          0.0  \n",
       "1               2          0.0  \n",
       "2               2          1.0  \n",
       "3               2          0.0  \n",
       "4               2          0.0  "
      ]
     },
     "execution_count": 22,
     "metadata": {},
     "output_type": "execute_result"
    }
   ],
   "source": [
    "netflix.head()"
   ]
  },
  {
   "cell_type": "code",
   "execution_count": 23,
   "id": "def4fc0d",
   "metadata": {
    "ExecuteTime": {
     "end_time": "2021-11-30T00:45:28.224752Z",
     "start_time": "2021-11-30T00:45:28.147699Z"
    }
   },
   "outputs": [
    {
     "data": {
      "image/png": "[encoded data removed]",
      "text/plain": [
       "<Figure size 720x576 with 1 Axes>"
      ]
     },
     "metadata": {},
     "output_type": "display_data"
    }
   ],
   "source": [
    "# check distribution of target variables\n",
    "plt.figure(figsize=(10,8))\n",
    "sns.countplot(netflix.movie_class,color='#e50914')\n",
    "plt.title('Movie Class Distribution in Netflix')\n",
    "plt.ylabel('Number of Movies')\n",
    "plt.xlabel('Movie Class')\n",
    "plt.show()"
   ]
  },
  {
   "cell_type": "markdown",
   "id": "9aac7ab3",
   "metadata": {},
   "source": [
    "## Generate Popularity Category from Number of Votes"
   ]
  },
  {
   "cell_type": "code",
   "execution_count": 24,
   "id": "44b47934",
   "metadata": {
    "ExecuteTime": {
     "end_time": "2021-11-30T00:45:28.240564Z",
     "start_time": "2021-11-30T00:45:28.225809Z"
    }
   },
   "outputs": [],
   "source": [
    "# since it's hard for Netflix to know how many number of votes there will be for unreleased movie\n",
    "# we try to map the votes number as a measure popularity, and Netflix can know whether there is a hot topic about the new movie or not by using online resources\n",
    "# choose 50% percentile as threshold as popular or not\n",
    "np.percentile(netflix.num_votes,50) #1392\n",
    "\n",
    "netflix.loc[netflix['num_votes'] >= 1392, 'is_popular'] = 1\n",
    "netflix.loc[netflix['num_votes'] < 1392, 'is_popular'] = 0"
   ]
  },
  {
   "cell_type": "code",
   "execution_count": 25,
   "id": "b6e991b9",
   "metadata": {
    "ExecuteTime": {
     "end_time": "2021-11-30T00:45:28.255989Z",
     "start_time": "2021-11-30T00:45:28.241496Z"
    }
   },
   "outputs": [
    {
     "data": {
      "text/plain": [
       "1972"
      ]
     },
     "execution_count": 25,
     "metadata": {},
     "output_type": "execute_result"
    }
   ],
   "source": [
    "# check popular number\n",
    "sum(netflix.is_popular == 1)"
   ]
  },
  {
   "cell_type": "markdown",
   "id": "ac2c4801",
   "metadata": {},
   "source": [
    "## Transfer Catagorical Variables to Dummy Variables"
   ]
  },
  {
   "cell_type": "code",
   "execution_count": 26,
   "id": "d98d747b",
   "metadata": {
    "ExecuteTime": {
     "end_time": "2021-11-30T00:45:28.271029Z",
     "start_time": "2021-11-30T00:45:28.256991Z"
    }
   },
   "outputs": [],
   "source": [
    "# Split target variables and attributes\n",
    "X = netflix.drop('movie_class', axis=1)\n",
    "y = netflix.movie_class"
   ]
  },
  {
   "cell_type": "code",
   "execution_count": 27,
   "id": "e879d151",
   "metadata": {
    "ExecuteTime": {
     "end_time": "2021-11-30T00:45:28.286946Z",
     "start_time": "2021-11-30T00:45:28.272036Z"
    }
   },
   "outputs": [
    {
     "data": {
      "text/plain": [
       "0       0.0\n",
       "1       0.0\n",
       "2       1.0\n",
       "3       0.0\n",
       "4       0.0\n",
       "       ... \n",
       "3939    1.0\n",
       "3940    0.0\n",
       "3941    0.0\n",
       "3942    1.0\n",
       "3943    1.0\n",
       "Name: movie_class, Length: 3944, dtype: float64"
      ]
     },
     "execution_count": 27,
     "metadata": {},
     "output_type": "execute_result"
    }
   ],
   "source": [
    "# check target variables\n",
    "y"
   ]
  },
  {
   "cell_type": "code",
   "execution_count": 28,
   "id": "bf954cbb",
   "metadata": {
    "ExecuteTime": {
     "end_time": "2021-11-30T00:45:28.317121Z",
     "start_time": "2021-11-30T00:45:28.288948Z"
    }
   },
   "outputs": [
    {
     "data": {
      "text/html": [
       "<div>\n",
       "<style scoped>\n",
       "    .dataframe tbody tr th:only-of-type {\n",
       "        vertical-align: middle;\n",
       "    }\n",
       "\n",
       "    .dataframe tbody tr th {\n",
       "        vertical-align: top;\n",
       "    }\n",
       "\n",
       "    .dataframe thead th {\n",
       "        text-align: right;\n",
       "    }\n",
       "</style>\n",
       "<table border=\"1\" class=\"dataframe\">\n",
       "  <thead>\n",
       "    <tr style=\"text-align: right;\">\n",
       "      <th></th>\n",
       "      <th>release_year</th>\n",
       "      <th>duration</th>\n",
       "      <th>is_popular</th>\n",
       "      <th>is_original</th>\n",
       "      <th>is_US</th>\n",
       "      <th>audience_class</th>\n",
       "      <th>season_added_spring</th>\n",
       "      <th>season_added_summer</th>\n",
       "      <th>season_added_winter</th>\n",
       "      <th>genre_Children &amp; Family Movies</th>\n",
       "      <th>genre_Classic Movies</th>\n",
       "      <th>genre_Comedies</th>\n",
       "      <th>genre_Documentaries</th>\n",
       "      <th>genre_Dramas</th>\n",
       "      <th>genre_Horror Movies</th>\n",
       "      <th>genre_International Movies</th>\n",
       "      <th>genre_Others</th>\n",
       "    </tr>\n",
       "  </thead>\n",
       "  <tbody>\n",
       "    <tr>\n",
       "      <th>0</th>\n",
       "      <td>2019</td>\n",
       "      <td>81</td>\n",
       "      <td>0.0</td>\n",
       "      <td>0</td>\n",
       "      <td>0</td>\n",
       "      <td>3</td>\n",
       "      <td>0</td>\n",
       "      <td>1</td>\n",
       "      <td>0</td>\n",
       "      <td>0</td>\n",
       "      <td>0</td>\n",
       "      <td>1</td>\n",
       "      <td>0</td>\n",
       "      <td>0</td>\n",
       "      <td>0</td>\n",
       "      <td>0</td>\n",
       "      <td>0</td>\n",
       "    </tr>\n",
       "    <tr>\n",
       "      <th>1</th>\n",
       "      <td>2014</td>\n",
       "      <td>89</td>\n",
       "      <td>0.0</td>\n",
       "      <td>0</td>\n",
       "      <td>1</td>\n",
       "      <td>2</td>\n",
       "      <td>0</td>\n",
       "      <td>1</td>\n",
       "      <td>0</td>\n",
       "      <td>0</td>\n",
       "      <td>0</td>\n",
       "      <td>0</td>\n",
       "      <td>0</td>\n",
       "      <td>1</td>\n",
       "      <td>0</td>\n",
       "      <td>0</td>\n",
       "      <td>0</td>\n",
       "    </tr>\n",
       "    <tr>\n",
       "      <th>2</th>\n",
       "      <td>2017</td>\n",
       "      <td>105</td>\n",
       "      <td>1.0</td>\n",
       "      <td>0</td>\n",
       "      <td>1</td>\n",
       "      <td>2</td>\n",
       "      <td>0</td>\n",
       "      <td>1</td>\n",
       "      <td>0</td>\n",
       "      <td>0</td>\n",
       "      <td>0</td>\n",
       "      <td>0</td>\n",
       "      <td>0</td>\n",
       "      <td>1</td>\n",
       "      <td>0</td>\n",
       "      <td>0</td>\n",
       "      <td>0</td>\n",
       "    </tr>\n",
       "    <tr>\n",
       "      <th>3</th>\n",
       "      <td>2017</td>\n",
       "      <td>87</td>\n",
       "      <td>0.0</td>\n",
       "      <td>0</td>\n",
       "      <td>0</td>\n",
       "      <td>2</td>\n",
       "      <td>0</td>\n",
       "      <td>0</td>\n",
       "      <td>0</td>\n",
       "      <td>0</td>\n",
       "      <td>0</td>\n",
       "      <td>1</td>\n",
       "      <td>0</td>\n",
       "      <td>0</td>\n",
       "      <td>0</td>\n",
       "      <td>0</td>\n",
       "      <td>0</td>\n",
       "    </tr>\n",
       "    <tr>\n",
       "      <th>4</th>\n",
       "      <td>2012</td>\n",
       "      <td>97</td>\n",
       "      <td>0.0</td>\n",
       "      <td>0</td>\n",
       "      <td>0</td>\n",
       "      <td>2</td>\n",
       "      <td>0</td>\n",
       "      <td>1</td>\n",
       "      <td>0</td>\n",
       "      <td>0</td>\n",
       "      <td>0</td>\n",
       "      <td>1</td>\n",
       "      <td>0</td>\n",
       "      <td>0</td>\n",
       "      <td>0</td>\n",
       "      <td>0</td>\n",
       "      <td>0</td>\n",
       "    </tr>\n",
       "    <tr>\n",
       "      <th>...</th>\n",
       "      <td>...</td>\n",
       "      <td>...</td>\n",
       "      <td>...</td>\n",
       "      <td>...</td>\n",
       "      <td>...</td>\n",
       "      <td>...</td>\n",
       "      <td>...</td>\n",
       "      <td>...</td>\n",
       "      <td>...</td>\n",
       "      <td>...</td>\n",
       "      <td>...</td>\n",
       "      <td>...</td>\n",
       "      <td>...</td>\n",
       "      <td>...</td>\n",
       "      <td>...</td>\n",
       "      <td>...</td>\n",
       "      <td>...</td>\n",
       "    </tr>\n",
       "    <tr>\n",
       "      <th>3939</th>\n",
       "      <td>2007</td>\n",
       "      <td>158</td>\n",
       "      <td>0.0</td>\n",
       "      <td>0</td>\n",
       "      <td>1</td>\n",
       "      <td>2</td>\n",
       "      <td>0</td>\n",
       "      <td>0</td>\n",
       "      <td>0</td>\n",
       "      <td>0</td>\n",
       "      <td>0</td>\n",
       "      <td>0</td>\n",
       "      <td>0</td>\n",
       "      <td>0</td>\n",
       "      <td>0</td>\n",
       "      <td>0</td>\n",
       "      <td>1</td>\n",
       "    </tr>\n",
       "    <tr>\n",
       "      <th>3940</th>\n",
       "      <td>2011</td>\n",
       "      <td>104</td>\n",
       "      <td>0.0</td>\n",
       "      <td>0</td>\n",
       "      <td>0</td>\n",
       "      <td>2</td>\n",
       "      <td>0</td>\n",
       "      <td>0</td>\n",
       "      <td>0</td>\n",
       "      <td>1</td>\n",
       "      <td>0</td>\n",
       "      <td>0</td>\n",
       "      <td>0</td>\n",
       "      <td>0</td>\n",
       "      <td>0</td>\n",
       "      <td>0</td>\n",
       "      <td>0</td>\n",
       "    </tr>\n",
       "    <tr>\n",
       "      <th>3941</th>\n",
       "      <td>2009</td>\n",
       "      <td>88</td>\n",
       "      <td>0.0</td>\n",
       "      <td>0</td>\n",
       "      <td>1</td>\n",
       "      <td>2</td>\n",
       "      <td>0</td>\n",
       "      <td>0</td>\n",
       "      <td>0</td>\n",
       "      <td>0</td>\n",
       "      <td>0</td>\n",
       "      <td>1</td>\n",
       "      <td>0</td>\n",
       "      <td>0</td>\n",
       "      <td>0</td>\n",
       "      <td>0</td>\n",
       "      <td>0</td>\n",
       "    </tr>\n",
       "    <tr>\n",
       "      <th>3942</th>\n",
       "      <td>2006</td>\n",
       "      <td>88</td>\n",
       "      <td>0.0</td>\n",
       "      <td>0</td>\n",
       "      <td>1</td>\n",
       "      <td>2</td>\n",
       "      <td>0</td>\n",
       "      <td>0</td>\n",
       "      <td>1</td>\n",
       "      <td>1</td>\n",
       "      <td>0</td>\n",
       "      <td>0</td>\n",
       "      <td>0</td>\n",
       "      <td>0</td>\n",
       "      <td>0</td>\n",
       "      <td>0</td>\n",
       "      <td>0</td>\n",
       "    </tr>\n",
       "    <tr>\n",
       "      <th>3943</th>\n",
       "      <td>2015</td>\n",
       "      <td>111</td>\n",
       "      <td>0.0</td>\n",
       "      <td>0</td>\n",
       "      <td>0</td>\n",
       "      <td>2</td>\n",
       "      <td>1</td>\n",
       "      <td>0</td>\n",
       "      <td>0</td>\n",
       "      <td>0</td>\n",
       "      <td>0</td>\n",
       "      <td>0</td>\n",
       "      <td>0</td>\n",
       "      <td>1</td>\n",
       "      <td>0</td>\n",
       "      <td>0</td>\n",
       "      <td>0</td>\n",
       "    </tr>\n",
       "  </tbody>\n",
       "</table>\n",
       "<p>3944 rows × 17 columns</p>\n",
       "</div>"
      ],
      "text/plain": [
       "      release_year  duration  is_popular  is_original  is_US  audience_class  \\\n",
       "0             2019        81         0.0            0      0               3   \n",
       "1             2014        89         0.0            0      1               2   \n",
       "2             2017       105         1.0            0      1               2   \n",
       "3             2017        87         0.0            0      0               2   \n",
       "4             2012        97         0.0            0      0               2   \n",
       "...            ...       ...         ...          ...    ...             ...   \n",
       "3939          2007       158         0.0            0      1               2   \n",
       "3940          2011       104         0.0            0      0               2   \n",
       "3941          2009        88         0.0            0      1               2   \n",
       "3942          2006        88         0.0            0      1               2   \n",
       "3943          2015       111         0.0            0      0               2   \n",
       "\n",
       "      season_added_spring  season_added_summer  season_added_winter  \\\n",
       "0                       0                    1                    0   \n",
       "1                       0                    1                    0   \n",
       "2                       0                    1                    0   \n",
       "3                       0                    0                    0   \n",
       "4                       0                    1                    0   \n",
       "...                   ...                  ...                  ...   \n",
       "3939                    0                    0                    0   \n",
       "3940                    0                    0                    0   \n",
       "3941                    0                    0                    0   \n",
       "3942                    0                    0                    1   \n",
       "3943                    1                    0                    0   \n",
       "\n",
       "      genre_Children & Family Movies  genre_Classic Movies  genre_Comedies  \\\n",
       "0                                  0                     0               1   \n",
       "1                                  0                     0               0   \n",
       "2                                  0                     0               0   \n",
       "3                                  0                     0               1   \n",
       "4                                  0                     0               1   \n",
       "...                              ...                   ...             ...   \n",
       "3939                               0                     0               0   \n",
       "3940                               1                     0               0   \n",
       "3941                               0                     0               1   \n",
       "3942                               1                     0               0   \n",
       "3943                               0                     0               0   \n",
       "\n",
       "      genre_Documentaries  genre_Dramas  genre_Horror Movies  \\\n",
       "0                       0             0                    0   \n",
       "1                       0             1                    0   \n",
       "2                       0             1                    0   \n",
       "3                       0             0                    0   \n",
       "4                       0             0                    0   \n",
       "...                   ...           ...                  ...   \n",
       "3939                    0             0                    0   \n",
       "3940                    0             0                    0   \n",
       "3941                    0             0                    0   \n",
       "3942                    0             0                    0   \n",
       "3943                    0             1                    0   \n",
       "\n",
       "      genre_International Movies  genre_Others  \n",
       "0                              0             0  \n",
       "1                              0             0  \n",
       "2                              0             0  \n",
       "3                              0             0  \n",
       "4                              0             0  \n",
       "...                          ...           ...  \n",
       "3939                           0             1  \n",
       "3940                           0             0  \n",
       "3941                           0             0  \n",
       "3942                           0             0  \n",
       "3943                           0             0  \n",
       "\n",
       "[3944 rows x 17 columns]"
      ]
     },
     "execution_count": 28,
     "metadata": {},
     "output_type": "execute_result"
    }
   ],
   "source": [
    "# transfer season_added and genre to dummy variables\n",
    "X = pd.get_dummies(X[['release_year','duration','is_popular','is_original','is_US','audience_class','season_added','genre']], \n",
    "                   drop_first=True)\n",
    "X"
   ]
  },
  {
   "cell_type": "markdown",
   "id": "03ecac28",
   "metadata": {},
   "source": [
    "## Balance the Data"
   ]
  },
  {
   "cell_type": "code",
   "execution_count": 29,
   "id": "97a1c228",
   "metadata": {
    "ExecuteTime": {
     "end_time": "2021-11-30T00:45:28.442389Z",
     "start_time": "2021-11-30T00:45:28.318083Z"
    }
   },
   "outputs": [
    {
     "name": "stdout",
     "output_type": "stream",
     "text": [
      "ratio of target variables is: 0.5\n"
     ]
    }
   ],
   "source": [
    "# performance over-sampling by target variable (resample 0 so it equls to number of 1)\n",
    "from sklearn.utils import resample\n",
    "X_resampled, y_resampled = resample(X[y==0], y[y==0], replace=True, n_samples=X[y==1].shape[0], random_state=42)\n",
    "X = np.vstack((X_resampled, X[y==1]))\n",
    "y = np.hstack((y_resampled, y[y==1]))\n",
    "\n",
    "# make sure there are same target variables proportion\n",
    "print('ratio of target variables is:',sum(y)/len(y))"
   ]
  },
  {
   "cell_type": "markdown",
   "id": "b6b3fbdb",
   "metadata": {},
   "source": [
    "# III. Modeling"
   ]
  },
  {
   "cell_type": "code",
   "execution_count": 30,
   "id": "02bd2f23",
   "metadata": {
    "ExecuteTime": {
     "end_time": "2021-11-30T00:45:28.550883Z",
     "start_time": "2021-11-30T00:45:28.444391Z"
    }
   },
   "outputs": [],
   "source": [
    "# Set up\n",
    "from sklearn.model_selection import train_test_split\n",
    "from sklearn.linear_model import LogisticRegression\n",
    "from sklearn.neighbors import KNeighborsClassifier\n",
    "from sklearn.tree import DecisionTreeClassifier\n",
    "from sklearn.ensemble import RandomForestClassifier\n",
    "from sklearn.neural_network import MLPClassifier\n",
    "from sklearn.pipeline import Pipeline\n",
    "from sklearn.model_selection import GridSearchCV, KFold, cross_val_score\n",
    "from sklearn.metrics import plot_confusion_matrix,accuracy_score,roc_curve,auc\n",
    "from sklearn.preprocessing import StandardScaler"
   ]
  },
  {
   "cell_type": "code",
   "execution_count": 31,
   "id": "8554f154",
   "metadata": {
    "ExecuteTime": {
     "end_time": "2021-11-30T00:45:28.567050Z",
     "start_time": "2021-11-30T00:45:28.551886Z"
    }
   },
   "outputs": [],
   "source": [
    "# split the data\n",
    "X_train, X_test, y_train, y_test = train_test_split(X, y, test_size=0.3, random_state=42, stratify=y)"
   ]
  },
  {
   "cell_type": "code",
   "execution_count": 32,
   "id": "ad8da421",
   "metadata": {
    "ExecuteTime": {
     "end_time": "2021-11-30T00:45:28.582048Z",
     "start_time": "2021-11-30T00:45:28.567794Z"
    }
   },
   "outputs": [],
   "source": [
    "# create inner and outer cross validation parameters\n",
    "inner_cv = KFold(n_splits=5, shuffle=True, random_state=42)\n",
    "# outer_cv = KFold(n_splits=5, shuffle=True, random_state=42) # needed when do nested cross validation"
   ]
  },
  {
   "cell_type": "markdown",
   "id": "572e73e1",
   "metadata": {},
   "source": [
    "## Logistic Regression"
   ]
  },
  {
   "cell_type": "code",
   "execution_count": 33,
   "id": "1d758dc6",
   "metadata": {
    "ExecuteTime": {
     "end_time": "2021-11-30T00:45:29.898027Z",
     "start_time": "2021-11-30T00:45:28.584048Z"
    }
   },
   "outputs": [
    {
     "name": "stdout",
     "output_type": "stream",
     "text": [
      "Logistic Regression:\n",
      "Non-nested CV accuracy:  0.6567832167832168\n",
      "Optimal Parameter:  {'lr__C': 10.0, 'lr__penalty': 'l2'}\n",
      "Optimal Estimator:  Pipeline(steps=[('sc', StandardScaler()),\n",
      "                ('lr', LogisticRegression(C=10.0, random_state=42))])\n"
     ]
    }
   ],
   "source": [
    "# Logistic Regression Parameter Tuning\n",
    "\n",
    "# standize first and then modeling\n",
    "pipe_lr = Pipeline([('sc',StandardScaler()),('lr',LogisticRegression(random_state=42))])\n",
    "\n",
    "# choose range of parameter\n",
    "param_lr={\n",
    "    'lr__C':10.0**np.arange(-5,6,1),\n",
    "    'lr__penalty':['l1','l2']\n",
    "}\n",
    "\n",
    "# parameter tuning by using grid search\n",
    "lr = GridSearchCV(estimator=pipe_lr,\n",
    "                  param_grid=param_lr,\n",
    "                  scoring='accuracy',\n",
    "                  cv=inner_cv, # choose best model parameters by using cross validation (taring and validation data)\n",
    "                  n_jobs=-1)\n",
    "\n",
    "# fit the data and then get performance scores based on validation data\n",
    "lr = lr.fit(X_train,y_train)\n",
    "print(\"Logistic Regression:\")\n",
    "print(\"Non-nested CV accuracy: \", lr.best_score_)\n",
    "print(\"Optimal Parameter: \", lr.best_params_)\n",
    "print(\"Optimal Estimator: \", lr.best_estimator_)\n",
    "\n",
    "# if want show performance in test data, then can running the following to do nested cross validation\n",
    "# nested_score_lr = cross_val_score(lr, X=X, y=y, scoring='accuracy', cv=outer_cv)\n",
    "# print(\"Nested CV accuraacy:\",nested_score_lr.mean(), \" +/- \", nested_score_lr.std())"
   ]
  },
  {
   "cell_type": "markdown",
   "id": "e5d6344d",
   "metadata": {},
   "source": [
    "## KNN"
   ]
  },
  {
   "cell_type": "code",
   "execution_count": 34,
   "id": "5bcfb790",
   "metadata": {
    "ExecuteTime": {
     "end_time": "2021-11-30T00:45:33.899088Z",
     "start_time": "2021-11-30T00:45:29.899028Z"
    }
   },
   "outputs": [
    {
     "name": "stdout",
     "output_type": "stream",
     "text": [
      "KNN:\n",
      "Non-nested CV accuracy:  0.7558041958041958\n",
      "Optimal Parameter:  {'knn__n_neighbors': 49, 'knn__weights': 'distance'}\n",
      "Optimal Estimator:  Pipeline(steps=[('sc', StandardScaler()),\n",
      "                ('knn',\n",
      "                 KNeighborsClassifier(n_neighbors=49, weights='distance'))])\n"
     ]
    }
   ],
   "source": [
    "# KNN Parameter Tuning\n",
    "\n",
    "# standize first and then modeling\n",
    "pipe = Pipeline([('sc', StandardScaler()),('knn', KNeighborsClassifier())])\n",
    "\n",
    "# choose range of parameter\n",
    "param_knn = {\n",
    "        'knn__n_neighbors': np.arange(1,50,2),\n",
    "        'knn__weights': ['uniform', 'distance']\n",
    "    }\n",
    "\n",
    "# parameter tuning by using grid search\n",
    "knn = GridSearchCV(estimator=pipe,\n",
    "                  param_grid=param_knn,\n",
    "                  scoring='accuracy',\n",
    "                  cv=inner_cv, # choose best model parameters by using cross validation (taring and validation data)\n",
    "                  n_jobs=-1)\n",
    "\n",
    "# fit the data and then get performance scores based on validation data\n",
    "knn = knn.fit(X_train,y_train) \n",
    "print(\"KNN:\")\n",
    "print(\"Non-nested CV accuracy: \", knn.best_score_)\n",
    "print(\"Optimal Parameter: \", knn.best_params_)\n",
    "print(\"Optimal Estimator: \", knn.best_estimator_)\n",
    "\n",
    "# if want show performance in test data, then can running the following to do nested cross validation\n",
    "# nested_score_knn = cross_val_score(knn, X=X, y=y, scoring='accuracy', cv=outer_cv)\n",
    "# print(\"Nested CV accuraacy:\",nested_score_knn.mean(), \" +/- \", nested_score_knn.std())"
   ]
  },
  {
   "cell_type": "markdown",
   "id": "6895fb80",
   "metadata": {},
   "source": [
    "## Decision Tree"
   ]
  },
  {
   "cell_type": "code",
   "execution_count": 35,
   "id": "d8a3b0e5",
   "metadata": {
    "ExecuteTime": {
     "end_time": "2021-11-30T00:45:46.642629Z",
     "start_time": "2021-11-30T00:45:33.900097Z"
    }
   },
   "outputs": [
    {
     "name": "stdout",
     "output_type": "stream",
     "text": [
      "Desicion Tree:\n",
      "Non-nested CV accuracy:  0.7504895104895105\n",
      "Optimal Parameter:  {'criterion': 'gini', 'max_depth': 18, 'min_samples_leaf': 1, 'min_samples_split': 2}\n",
      "Optimal Estimator:  DecisionTreeClassifier(max_depth=18, random_state=42)\n"
     ]
    }
   ],
   "source": [
    "# Decision Tree Parameter Tuning\n",
    "\n",
    "# choose range of parameter\n",
    "param_tree = {\n",
    "    'max_depth': range(1,20),\n",
    "    'criterion':['gini','entropy'],\n",
    "    'min_samples_leaf':range(1,10),\n",
    "    'min_samples_split':range(1,10)\n",
    "}\n",
    "\n",
    "# parameter tuning by using grid search\n",
    "tree = GridSearchCV(estimator=DecisionTreeClassifier(random_state=42),\n",
    "                       param_grid=param_tree,\n",
    "                       scoring='accuracy',\n",
    "                       cv=inner_cv, # choose best model parameters by using cross validation (taring and validation data)\n",
    "                       n_jobs=-1)\n",
    "\n",
    "# fit the data and then get performance scores based on validation data\n",
    "tree = tree.fit(X_train,y_train)\n",
    "print(\"Desicion Tree:\")\n",
    "print(\"Non-nested CV accuracy: \", tree.best_score_)\n",
    "print(\"Optimal Parameter: \", tree.best_params_)\n",
    "print(\"Optimal Estimator: \", tree.best_estimator_)\n",
    "\n",
    "# if want show performance in test data, then can running the following to do nested cross validation\n",
    "# nested_score_tree = cross_val_score(tree, X=X, y=y, cv=outer_cv)\n",
    "# print(\"Nested CV Accuracy: \",nested_score_tree.mean(), \" +/- \", nested_score_tree.std())"
   ]
  },
  {
   "cell_type": "markdown",
   "id": "ecb9ac5a",
   "metadata": {},
   "source": [
    "## Random Forest"
   ]
  },
  {
   "cell_type": "code",
   "execution_count": 36,
   "id": "d2b035c5",
   "metadata": {
    "ExecuteTime": {
     "end_time": "2021-11-30T00:48:57.459819Z",
     "start_time": "2021-11-30T00:45:46.643631Z"
    }
   },
   "outputs": [
    {
     "name": "stdout",
     "output_type": "stream",
     "text": [
      "Random Forest:\n",
      "Non-nested CV accuracy:  0.7876923076923077\n",
      "Optimal Parameter:  {'max_depth': 16, 'n_estimators': 100}\n",
      "Optimal Estimator:  RandomForestClassifier(max_depth=16, random_state=42)\n"
     ]
    }
   ],
   "source": [
    "# Random Forest Parameter Tuning\n",
    "\n",
    "# choose range of parameter\n",
    "param_forest = {\n",
    "    'n_estimators': np.arange(100,1000,100),\n",
    "    'max_depth': range(1,20)\n",
    "}\n",
    "\n",
    "# parameter tuning by using grid search\n",
    "forest = GridSearchCV(estimator=RandomForestClassifier(random_state=42),\n",
    "                       param_grid=param_forest,\n",
    "                       scoring='accuracy',\n",
    "                       cv=inner_cv, # choose best model parameters by using cross validation (taring and validation data)\n",
    "                       n_jobs=-1)\n",
    "\n",
    "# fit the data and then get performance scores based on validation data\n",
    "forest = forest.fit(X_train,y_train)\n",
    "print(\"Random Forest:\")\n",
    "print(\"Non-nested CV accuracy: \", forest.best_score_)\n",
    "print(\"Optimal Parameter: \", forest.best_params_)\n",
    "print(\"Optimal Estimator: \", forest.best_estimator_)\n",
    "\n",
    "# if want show performance in test data, then can running the following to do nested cross validation\n",
    "# nested_score_forest = cross_val_score(forest, X=X, y=y, cv=outer_cv)\n",
    "# print(\"Nested CV Accuracy: \",nested_score_forest.mean(), \" +/- \", nested_score_forest.std())"
   ]
  },
  {
   "cell_type": "markdown",
   "id": "8d57a383",
   "metadata": {},
   "source": [
    "## Use AUC Score to Select Best Model"
   ]
  },
  {
   "cell_type": "code",
   "execution_count": 42,
   "id": "c2ff57e3",
   "metadata": {
    "ExecuteTime": {
     "end_time": "2021-11-30T00:58:00.947539Z",
     "start_time": "2021-11-30T00:57:59.650574Z"
    }
   },
   "outputs": [
    {
     "name": "stdout",
     "output_type": "stream",
     "text": [
      "5-fold cross validation:\n",
      "\n",
      "ROC AUC: 0.71 (+/- 0.01) [Logistic Regression]\n",
      "ROC AUC: 0.90 (+/- 0.01) [kNN]\n",
      "ROC AUC: 0.76 (+/- 0.01) [Decision Tree]\n",
      "ROC AUC: 0.87 (+/- 0.01) [Random Forest]\n"
     ]
    }
   ],
   "source": [
    "# use cross validation to show ROC AUC scores\n",
    "clf_labels = ['Logistic Regression','kNN','Decision Tree','Random Forest']\n",
    "all_clf = [lr_best,knn_best,tree_best,forest_best]\n",
    "\n",
    "print('5-fold cross validation:\\n')\n",
    "\n",
    "# use for loop to calculate ROC AUC scores by cross validation respectively\n",
    "for clf, label in zip(all_clf, clf_labels):\n",
    "    scores = cross_val_score(estimator=clf, X=X_train, y=y_train, cv=5, scoring='roc_auc')\n",
    "    print(\"ROC AUC: %0.2f (+/- %0.2f) [%s]\"\n",
    "          % (scores.mean(), scores.std(), label))"
   ]
  },
  {
   "cell_type": "markdown",
   "id": "348969c0",
   "metadata": {},
   "source": [
    "# IV. Evaluation"
   ]
  },
  {
   "cell_type": "code",
   "execution_count": 39,
   "id": "dce1e27b",
   "metadata": {
    "ExecuteTime": {
     "end_time": "2021-11-30T00:48:57.506393Z",
     "start_time": "2021-11-30T00:48:57.491386Z"
    }
   },
   "outputs": [],
   "source": [
    "# get best models with highest accuracy\n",
    "lr_best = lr.best_estimator_\n",
    "knn_best = knn.best_estimator_\n",
    "tree_best = tree.best_estimator_\n",
    "forest_best = forest.best_estimator_"
   ]
  },
  {
   "cell_type": "markdown",
   "id": "08386999",
   "metadata": {},
   "source": [
    "## ROC Curve Visualization"
   ]
  },
  {
   "cell_type": "code",
   "execution_count": 41,
   "id": "11f1ea3c",
   "metadata": {
    "ExecuteTime": {
     "end_time": "2021-11-30T00:48:58.799914Z",
     "start_time": "2021-11-30T00:48:58.293385Z"
    },
    "scrolled": false
   },
   "outputs": [
    {
     "data": {
      "image/png": "[encoded data removed]",
      "text/plain": [
       "<Figure size 576x432 with 1 Axes>"
      ]
     },
     "metadata": {},
     "output_type": "display_data"
    }
   ],
   "source": [
    "# plot ROC AUC\n",
    "# result can be different since here did not use cross vaidation as above\n",
    "colors = [ 'orange','blue','green','purple','red']      \n",
    "linestyles = [':', '--', '-.', '-','--']        \n",
    "plt.figure(figsize=(8,6))\n",
    "\n",
    "for clf, label, clr, ls in zip(all_clf, clf_labels, colors, linestyles):\n",
    "    y_pred_proba = clf.fit(X_train,y_train).predict_proba(X_test)[:, 1] # make predictions based on the classifiers\n",
    "    fpr, tpr, thresholds = roc_curve(y_true=y_test, y_score=y_pred_proba) # build ROC curve\n",
    "    roc_auc = auc(x=fpr, y=tpr)  # compute AUC   \n",
    "    plt.plot(fpr, tpr,\n",
    "             color=clr,\n",
    "             linestyle=ls,\n",
    "             label='%s (auc = %0.3f)' % (label, roc_auc)) # plot ROC curve and create label with AUC values\n",
    "  \n",
    "plt.plot([0, 1], [0, 1], linestyle='--', color='gray', linewidth=2) #plot the random guess line\n",
    "\n",
    "plt.legend(loc='lower right')  \n",
    "plt.xlim([-0.1, 1.1])\n",
    "plt.ylim([-0.1, 1.1])\n",
    "plt.grid(alpha=0.5)\n",
    "plt.xlabel('False positive rate (FPR)')\n",
    "plt.ylabel('True positive rate (TPR)')\n",
    "plt.title('ROC AUC Curve for Predictive Models')\n",
    "plt.show()"
   ]
  }
 ],
 "metadata": {
  "kernelspec": {
   "display_name": "Python 3 (ipykernel)",
   "language": "python",
   "name": "python3"
  },
  "language_info": {
   "codemirror_mode": {
    "name": "ipython",
    "version": 3
   },
   "file_extension": ".py",
   "mimetype": "text/x-python",
   "name": "python",
   "nbconvert_exporter": "python",
   "pygments_lexer": "ipython3",
   "version": "3.8.12"
  }
 },
 "nbformat": 4,
 "nbformat_minor": 5
}
